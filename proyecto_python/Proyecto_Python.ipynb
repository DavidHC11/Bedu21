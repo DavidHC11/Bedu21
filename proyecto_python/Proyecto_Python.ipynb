{
  "nbformat": 4,
  "nbformat_minor": 0,
  "metadata": {
    "colab": {
      "name": "Proyecto_Python.ipynb",
      "provenance": [],
      "collapsed_sections": [
        "IY9xKjI8c_B8",
        "eDR1BpTfo0V4",
        "F9i744JCqiL7",
        "ll7YhVN4pFbo",
        "vnKttbCRZvZd",
        "di97qLiLZ3Rp",
        "20-JRSMQuGs8",
        "ANRWcBX5FAJC",
        "QTr5f6G09Svc",
        "Nz0Swx7j57DH",
        "iHsIxQVRmsMB",
        "5-dcr6-KqLdq",
        "QRynKB6Jqgvt",
        "c3DlkpJ1vIMv",
        "JVedMXHQ5fX0",
        "dYunfUt884-W",
        "lSzbNiQVosN7",
        "VgygQcaypNRt",
        "iXbC_osfIQN0",
        "Zu9m-YRVJeVv",
        "tbMpgQCKJqVc",
        "VkUTxaFbMO8L",
        "PSxDk_GwaMEN",
        "Jr1clxZJhQV0",
        "wf9WlcsfhykQ",
        "qt8vYRNzkLG-",
        "X4gIuBMAn28x",
        "EPslDfaLo7LN",
        "ebmoxtZPrTkN",
        "M92Fj6per_ML",
        "qF1xpNEIs5rZ",
        "eRaYpRMKtzkR",
        "qivQBkHpngRL",
        "nDaQfRxg6srt",
        "ceoANwwW_DSj"
      ],
      "toc_visible": true
    },
    "kernelspec": {
      "display_name": "Python 3",
      "name": "python3"
    }
  },
  "cells": [
    {
      "cell_type": "markdown",
      "metadata": {
        "id": "I6WDtLd4mEqb"
      },
      "source": [
        "# Proyecto del módulo: _Procesamiento de datos con Python_\n",
        "---\n",
        "### Limpieza de datos de un dataset de hospedajes de Airbnb de NY del año 2019\n",
        "\n",
        "> Curso de Data Análysis de BEDU  \n",
        "> Equipo 21:  \n",
        "  * Adrián Camacho\n",
        "  * Alan Fuentes\n",
        "  * David Hernández\n",
        "  * Hiram Ugarte"
      ]
    },
    {
      "cell_type": "markdown",
      "metadata": {
        "id": "OnCWQcgBqZrv"
      },
      "source": [
        "## Tipos de variables"
      ]
    },
    {
      "cell_type": "markdown",
      "metadata": {
        "id": "qWg1uX8bo8nO"
      },
      "source": [
        "Importación de dependencias y del dataset"
      ]
    },
    {
      "cell_type": "code",
      "metadata": {
        "id": "maGrUq1j1yVw"
      },
      "source": [
        "pip install validators zipcodes keplergl > /dev/null"
      ],
      "execution_count": null,
      "outputs": []
    },
    {
      "cell_type": "code",
      "metadata": {
        "colab": {
          "base_uri": "https://localhost:8080/"
        },
        "id": "-zGPW521z3QC",
        "outputId": "516b2c46-5751-43e1-f99a-f61d63d0fb9f"
      },
      "source": [
        "import pandas as pd\n",
        "import numpy as np \n",
        "import random\n",
        "from sklearn.model_selection import train_test_split\n",
        "import re\n",
        "import nltk\n",
        "import unicodedata\n",
        "from textblob import TextBlob\n",
        "import spacy\n",
        "from datetime import datetime\n",
        "from nltk.stem import SnowballStemmer\n",
        "import cufflinks as cf\n",
        "from plotly.offline import plot,iplot\n",
        "import plotly.graph_objects as go\n",
        "import plotly.express as px\n",
        "from palettable.scientific.diverging import Berlin_20\n",
        "from PIL import Image\n",
        "import requests\n",
        "import validators\n",
        "import psutil\n",
        "from nltk.corpus import stopwords\n",
        "from nltk import FreqDist\n",
        "import seaborn as sns\n",
        "import matplotlib.pyplot as plt\n",
        "from palettable.cartocolors.qualitative import Bold_6\n",
        "from wordcloud import WordCloud, STOPWORDS, ImageColorGenerator\n",
        "from scipy import stats\n",
        "import itertools\n",
        "from scipy.stats import chisquare\n",
        "from statsmodels.stats.outliers_influence import variance_inflation_factor\n",
        "from sklearn.decomposition import PCA\n",
        "from sklearn.preprocessing import StandardScaler\n",
        "from sklearn.impute import SimpleImputer"
      ],
      "execution_count": null,
      "outputs": [
        {
          "output_type": "stream",
          "text": [
            "/usr/local/lib/python3.7/dist-packages/statsmodels/tools/_testing.py:19: FutureWarning:\n",
            "\n",
            "pandas.util.testing is deprecated. Use the functions in the public API at pandas.testing instead.\n",
            "\n"
          ],
          "name": "stderr"
        }
      ]
    },
    {
      "cell_type": "code",
      "metadata": {
        "colab": {
          "base_uri": "https://localhost:8080/"
        },
        "id": "T_EeeCbBe_vc",
        "outputId": "29d556ae-3f44-4d07-e36d-5acdcd5f6611"
      },
      "source": [
        "url = 'https://github.com/DavidHC11/Bedu21/blob/main/proyecto_r/listings2019.csv.gz?raw=true'\n",
        "df = pd.read_csv(url, compression='gzip')"
      ],
      "execution_count": null,
      "outputs": [
        {
          "output_type": "stream",
          "text": [
            "/usr/local/lib/python3.7/dist-packages/IPython/core/interactiveshell.py:2718: DtypeWarning:\n",
            "\n",
            "Columns (61,62,94,95) have mixed types.Specify dtype option on import or set low_memory=False.\n",
            "\n"
          ],
          "name": "stderr"
        }
      ]
    },
    {
      "cell_type": "markdown",
      "metadata": {
        "id": "IY9xKjI8c_B8"
      },
      "source": [
        "### Funciones"
      ]
    },
    {
      "cell_type": "code",
      "metadata": {
        "id": "EJ7X7OYQy7ue"
      },
      "source": [
        "# Gráficos\n",
        "def bar(df,col,title,top,x_title=\"\",y_title=\"\"):\n",
        "    layout = go.Layout(font_family=\"Arial\",\n",
        "    font_color=\"black\",title_text=title,title_font_size=27,xaxis= {\"title\": {\"text\": x_title,\"font\": {\"family\": 'Arial',\"size\": 18,\n",
        "        \"color\": '#000000'}}},yaxis= {\"title\": {\"text\": y_title,\"font\": {\"family\": 'Arial',\"size\": 18,\n",
        "        \"color\": '#000000'}}},title_font_family=\"Arial\",title_font_color=\"#000000\",template=\"ggplot2\")\n",
        "    g_aux=pd.DataFrame(df[col].value_counts().head(top)).reset_index().rename(columns={\"index\":\"conteo\"})\n",
        "    fig=g_aux.iplot(kind='bar',x=\"conteo\",y=col,title=title,asFigure=True,barmode=\"overlay\",sortbars=True,color=\"#2F789C\",layout=layout)\n",
        "    fig.update_layout(width=600)\n",
        "    fig.update_traces(marker_color='#2F789C')\n",
        "    return fig\n",
        "def box(df,col,title):\n",
        "    layout = go.Layout(font_family=\"Arial\",\n",
        "    font_color=\"black\",title_text=title,title_font_size=30,xaxis= {\"title\": {\"font\": {\"family\": 'Arial',\"size\": 18,\n",
        "        \"color\": '#002e4d'}}},title_font_family=\"Arial\",title_font_color=\"#004878\",template=\"plotly_white\")\n",
        "    fig=df[[col]].iplot(kind='box',title=title,asFigure=True,theme=\"white\",layout=layout,color=\"#2F789C\")\n",
        "    return fig\n",
        "\n",
        "def histogram(df,col,bins,title):\n",
        "    layout = go.Layout(font_family=\"Arial\",\n",
        "    font_color=\"black\",title_text=title,title_font_size=30,xaxis= {\"title\": {\"font\": {\"family\": 'Arial',\"size\": 18,\n",
        "        \"color\": '#002e4d'}}},title_font_family=\"Arial\",title_font_color=\"#004878\",template=\"plotly_white\")\n",
        "    fig=df[[col]].iplot(kind='histogram',x=col,bins=bins,title=title,asFigure=True,theme=\"white\",layout=layout,color=\"#2F789C\")\n",
        "    fig.update_traces(opacity=0.90)\n",
        "    return fig\n",
        "\n",
        "def pie(df,col,title,x_title=\"\",y_title=\"\"):\n",
        "    layout = go.Layout(template=\"plotly_white\")\n",
        "    colors=[ \"#2F789C\",\"#60D394\",\"#AAF683\",\"#FFD97D\",\"#FF9B85\",\"#00569c\",\"#005ba3\",\"#0061a9\",\"#1567af\",\"#226cb6\",\"#2c72bc\", \"#0061a9\",\"#4c79b7\",\"#7492c6\",\"#98acd4\",\"#bbc7e2\",\"#dde3f1\",\"#ffffff\"\n",
        "]\n",
        "    aux=pd.DataFrame(df[col].value_counts()).reset_index().rename(columns={\"index\":\"conteo\"})\n",
        "    fig=aux.iplot(kind='pie',labels=\"conteo\",values=col,title=title,asFigure=True,theme=\"white\")\n",
        "    \n",
        "    fig.update_traces(textfont_size=10,\n",
        "                  marker=dict(colors=colors, line=dict(color='#000000', width=2)))\n",
        "    fig.update_traces(textposition='inside', textinfo='percent+label')\n",
        "    fig.update_layout(font_family=\"Arial\",\n",
        "    font_color=\"black\",title_text=title,title_font_size=30,title_font_family=\"Arial\",title_font_color=\"#004878\",template=\"plotly_white\")\n",
        "    return fig\n",
        "\n",
        "#Funciones\n",
        "def clean_text(text, pattern=\"[^a-zA-Z0-9]\"):\n",
        "    cleaned_text = unicodedata.normalize('NFD', text).encode('ascii', 'ignore')\n",
        "    cleaned_text = re.sub(pattern, \" \", cleaned_text.decode(\"utf-8\"), flags=re.UNICODE)\n",
        "    cleaned_text = u' '.join(cleaned_text.lower().strip().split())\n",
        "    return cleaned_text\n",
        "\n",
        "def completitud(data):\n",
        "    cp=pd.DataFrame(data.isnull().sum())\n",
        "    cp.reset_index(inplace=True)\n",
        "    cp=cp.rename(columns={\"index\":\"columna\",0:\"total\"})\n",
        "    cp[\"completitud\"]=(1-cp[\"total\"]/data.shape[0])\n",
        "    cp=cp.sort_values(by=\"completitud\")\n",
        "    cp=cp[cp['total']>0]\n",
        "    cp.reset_index(drop=True,inplace=True)\n",
        "    return cp\n",
        "\n",
        "def clean(data,col):\n",
        "    data=data[data[col]!='']\n",
        "    data.reset_index(drop=True,inplace=True)\n",
        "    lista_stopwords_en = stopwords.words(\"english\")\n",
        "    data[col]=data[col].map(lambda x:\" \".join(list(filter(lambda x:x not in lista_stopwords_en,str(x).split()))).strip())\n",
        "    data=data[data[col]!='']\n",
        "    data.reset_index(drop=True,inplace=True)\n",
        "    corpus=' '.join(data[col].values)\n",
        "    fdist=nltk.FreqDist(corpus.split())\n",
        "    list_hapaxes=fdist.hapaxes()\n",
        "    data[col]=data[col].map(lambda text:' '.join([x for x in text.split(' ') if x not in list_hapaxes]))\n",
        "    data=data[data[col]!='']\n",
        "    data.reset_index(drop=True,inplace=True)\n",
        "    return data\n",
        "\n",
        "def OUTLIERS(df,cols):\n",
        "    results=pd.DataFrame()\n",
        "    data_iqr=df.copy()\n",
        "    data_per=df.copy()\n",
        "    total=[]\n",
        "    total_per=[]\n",
        "    indices_=[]\n",
        "\n",
        "    for col in cols:\n",
        "        #IQR\n",
        "        Q1=df[col].quantile(0.25)\n",
        "        Q3=df[col].quantile(0.75)\n",
        "        IQR=Q3-Q1\n",
        "        INF=Q1-1.5*(IQR)\n",
        "        SUP=Q3+1.5*(IQR)\n",
        "    \n",
        "        \n",
        "        n_outliers=df[(df[col] < INF) | (df[col] > SUP)].shape[0]\n",
        "        total.append(n_outliers)\n",
        "        indices_iqr=list(df[(df[col] < INF) | (df[col] > SUP)].index)\n",
        "        \n",
        "        #Percentiles\n",
        "        INF_pe=np.percentile(df[col].dropna(),5)\n",
        "    \n",
        "        SUP_pe=np.percentile(df[col].dropna(),95)\n",
        "        n_outliers_per=df[(df[col] < INF_pe) | (df[col] > SUP_pe)].shape[0]\n",
        "        total_per.append(n_outliers_per)\n",
        "        indices_per=list(df[(df[col] < INF_pe) | (df[col] > SUP_pe)].index)\n",
        "        \n",
        "        \n",
        "        indices_.append(aux_outliers(indices_iqr,indices_per))\n",
        "        \n",
        "    results[\"features\"]=cols\n",
        "    results[\"n_outliers_IQR\"]=total\n",
        "    results[\"n_outliers_Percentil\"]=total_per\n",
        "    results[\"n_outliers_IQR_%\"]=round((results[\"n_outliers_IQR\"]/df.shape[0])*100,2)\n",
        "    results[\"n_outliers_Percentil_%\"]=round((results[\"n_outliers_Percentil\"]/df.shape[0])*100,2)\n",
        "    results[\"indices\"]=indices_\n",
        "    results[\"total_outliers\"]=results[\"indices\"].map(lambda x:len(x))\n",
        "    results[\"%_outliers\"]=results[\"indices\"].map(lambda x:round(((len(x)/df.shape[0])*100),2))\n",
        "    results=results[['features', 'n_outliers_IQR', 'n_outliers_Percentil',\n",
        "                     'n_outliers_IQR_%', 'n_outliers_Percentil_%','total_outliers', '%_outliers','indices']]\n",
        "    return results\n",
        "\n",
        "def aux_outliers(a,b):\n",
        "    a=set(a)\n",
        "    b=set(b)\n",
        "    \n",
        "    a_=a.intersection(b)\n",
        "\n",
        "    b_=b.intersection(a)\n",
        "\n",
        "\n",
        "    outliers_index=list(set(list(a_)+list(b_)))\n",
        "    return outliers_index\n",
        "\n",
        "def tableoutliers(df,outliers):\n",
        "    data=df.copy()\n",
        "    lista=[df.shape[0]]\n",
        "    lista_ca=[\"Inicial\"]\n",
        "    for col in list(outliers[\"features\"].values):\n",
        "        indices=list(itertools.chain(*list(outliers[outliers[\"features\"]==col][\"indices\"].values))) \n",
        "        data=data[~data.index.isin(indices)]\n",
        "        lista.append(data.shape[0])\n",
        "        lista_ca.append(col)\n",
        "    tabla_registros=pd.DataFrame()\n",
        "    tabla_registros[\"v_feature\"]=lista_ca\n",
        "    tabla_registros[\"c_n_rows\"]=lista\n",
        "    \n",
        "    return tabla_registros\n",
        "\n",
        "def dropoutliers(df,outliers):\n",
        "    indices = list(set(list(itertools.chain(*list(outliers[\"indices\"].values)))))\n",
        "    df_new=df[~df.index.isin(indices)].reset_index(drop=True)\n",
        "    return df_new\n",
        "\n",
        "def mode_miss(X_train,X_test,col,df):\n",
        "    moda=X_train[col].value_counts().index[0]\n",
        "    X_train[col]=X_train[col].fillna(moda)\n",
        "    X_test[col]=X_test[col].fillna(moda)\n",
        "    x_i=df[col].fillna(moda).value_counts()\n",
        "    k=x_i.sum()\n",
        "    p_i=df[col].dropna().value_counts(1)\n",
        "    m_i=k*p_i\n",
        "    chi=chisquare(f_obs=x_i,f_exp=m_i)\n",
        "    p_val=chi.pvalue\n",
        "    alpha=0.05\n",
        "    if p_val<alpha:\n",
        "        a=print(\"Rechazamos HO(La porporción de categorias es la misma que la general)\")\n",
        "    else:\n",
        "        a=print(\"Aceptamos HO(La porporción de categorias es la misma que la general)\")\n",
        "    return a\n",
        "\n",
        "def missings_digit(x):\n",
        "    if sum([y.isdigit() for y in str(x)])>0:\n",
        "        result=np.nan\n",
        "    else:\n",
        "        result=x\n",
        "    return result  \n",
        "\n",
        "\n",
        "def transform_white_backgroud(png_path):\n",
        "    path_is_url = validators.url(png_path)\n",
        "    path = requests.get(png_path, stream=True).raw if path_is_url else png_path\n",
        "    picture = Image.open(path).convert(\"RGBA\")\n",
        "    image = Image.new(\"RGB\", picture.size, \"WHITE\")\n",
        "    image.paste(picture, (0, 0), picture)\n",
        "\n",
        "    plt.imshow(image)\n",
        "    \n",
        "    mask = np.array(image)\n",
        "    return mask  \n",
        "\n",
        "def count_generator():\n",
        "  for column in df.columns:\n",
        "    yield df[column].value_counts(1)\n",
        "\n",
        "def number_of_items(list_str):\n",
        "  begin, end = list_str[0], list_str[-1]\n",
        "  if begin == \"(\" or begin == \"[\":\n",
        "    begin = \"\\\\\" + begin\n",
        "  if end == \")\" or end == \"]\":\n",
        "    end = \"\\\\\" + end\n",
        "  list_pattern = re.compile(f\"{begin}.+{end}\")\n",
        "  has_items = bool(list_pattern.match(list_str))\n",
        "  commas = list_str.count(\",\")\n",
        "  items = commas + has_items\n",
        "  return items\n",
        "\n",
        "def verificar_zipcodes(zipcode):\n",
        "  import zipcodes\n",
        "  lista=[]\n",
        "  for i in zipcode.unique():\n",
        "      if str(i)!=\"nan\":\n",
        "          x=pd.DataFrame(zipcodes.matching(i))\n",
        "          if x[\"state\"][0]!=\"NY\":\n",
        "            lista.append((i,x[\"state\"][0]))\n",
        "  return lista"
      ],
      "execution_count": null,
      "outputs": []
    },
    {
      "cell_type": "markdown",
      "metadata": {
        "id": "eDR1BpTfo0V4"
      },
      "source": [
        "### Tipos de variables del dataset"
      ]
    },
    {
      "cell_type": "code",
      "metadata": {
        "id": "x8fejpOKz75q"
      },
      "source": [
        "llaves=['id', #id de la propiedad anunciada\n",
        "        'listing_url', #url de la propiedad\n",
        "        'scrape_id', #id del corte de los datos\n",
        "        'thumbnail_url', #Url de vista previa\n",
        "        'medium_url', # Url de vista previa extendido\n",
        "        'picture_url', #Url de imagenes\n",
        "        'xl_picture_url', # Url de imagen extendida\n",
        "        'host_id', # id del host\n",
        "        'host_url', #url perfil del host\n",
        "        'host_thumbnail_url', #url de vista previa perfil del host\n",
        "        'host_picture_url', #url foto de host\n",
        "        'license', #Licencia propiedad\n",
        "       ]\n",
        "#Continuas\n",
        "c_feats=['host_listings_count', #Publicaciones realizadas por el host\n",
        "         'host_total_listings_count', #Total de publicaciones realizadas por el host\n",
        "         'latitude', #Latitud\n",
        "         'longitude', #Longitud\n",
        "         'bathrooms', #Numero de baños\n",
        "         'square_feet', #Tamaño de la propiedad en pies\n",
        "         'price', #Precio en pesos por noche\n",
        "         'weekly_price', #Precio por semana\n",
        "         'monthly_price', #Precio por mes\n",
        "         'security_deposit', # Deposito de seguridad\n",
        "         'cleaning_fee', #Cuota de limpieza\n",
        "         'extra_people', #Precio por persona extra\n",
        "         'minimum_nights_avg_ntm', # Promedio de noches minimas\n",
        "         'maximum_nights_avg_ntm', #Promedio de noches maximas\n",
        "]\n",
        "#Discretas\n",
        "v_feats=['host_response_rate', #Rate sobre respuesta del host\n",
        "         'host_acceptance_rate', #Rate sobre tiempo de aprobacion del host\n",
        "         'host_is_superhost', #Clasificacion de superhost\n",
        "         'host_has_profile_pic', #Verificacion de foto de perfil host\n",
        "         'host_identity_verified', #Host verificado\n",
        "         'zipcode', #codigo postal\n",
        "         'is_location_exact', #Verificacion localizacion exacta\n",
        "         'accommodates', #Numero de huespedes\n",
        "         'bedrooms', #Numero de habitaciones\n",
        "         'beds', #Numero de camas\n",
        "         'guests_included', #Huespedes incluidos por precio\n",
        "         'minimum_nights', #Noches minimas\n",
        "         'maximum_nights', #Noches maximas\n",
        "         'minimum_minimum_nights', #Minimo de noches minimas\n",
        "         'maximum_minimum_nights', #Maximo de noches minimas\n",
        "         'minimum_maximum_nights', #Minimo de noches maximas\n",
        "         'maximum_maximum_nights', #Maximo de noches maximas\n",
        "         'has_availability', #Verificacion de disponibilidad\n",
        "         'availability_30', #Dias disponibles en los siguientes 30 dias\n",
        "         'availability_60',#Dias disponibles en los siguientes 60 dias\n",
        "         'availability_90',#Dias disponibles en los siguientes 90 dias\n",
        "         'availability_365',#Dias disponibles en los siguientes 365 dias\n",
        "         'number_of_reviews', #Numero de criticas\n",
        "         'number_of_reviews_ltm', #Numero de criticas en el ultimo mes \n",
        "         'reviews_per_month', #Criticas por mes    \n",
        "         'review_scores_rating', #rate de criticas para la propiedad\n",
        "         'review_scores_accuracy', #Rate sobre la veracidad de los datos\n",
        "         'review_scores_cleanliness', #Rate sobre la limpieza\n",
        "         'review_scores_checkin', #Rate sobre el checkin\n",
        "         'review_scores_communication', #Rate sobre la comunicacion con el host\n",
        "         'review_scores_location', #Rate sobre la ubicacion\n",
        "         'review_scores_value', #Rate sobre la calidad\n",
        "         'requires_license',#Requisito de licencia\n",
        "         'instant_bookable', #Verificacion reserva instantanea\n",
        "         'is_business_travel_ready', #Preparada para viajes de negocios\n",
        "         'require_guest_profile_picture', #Solicita foto de huesped\n",
        "         'require_guest_phone_verification', #Solicita telefono de huesped\n",
        "         'calculated_host_listings_count', #Conteo de publicaciones del host\n",
        "         'calculated_host_listings_count_entire_homes', #Conteo de publicaciones de casas enteras del host\n",
        "         'calculated_host_listings_count_private_rooms', #Conteo de publicaciones de habitaciones privadas del host\n",
        "         'calculated_host_listings_count_shared_rooms',#Conteo de publicaciones de habitaciones compartidas del host\n",
        "         'neighbourhood_cleansed', #Alcaldia\n",
        "         'calendar_updated', #Ultima actualizacion del calendario\n",
        "         'property_type', #tipo de propiedad\n",
        "         'cancellation_policy', #Politica de cancelacion\n",
        "         'room_type', #Tipo de habitacion\n",
        "         'bed_type' #tipo de cama\n",
        "         ]\n",
        "#Fechas\n",
        "d_feats=['last_scraped', #Fecha en la que se obtuvieron los datos\n",
        "         'host_since', #Fecha de registro del host\n",
        "         'calendar_last_scraped', #Fecha de ultimo corte de informacion\n",
        "         'first_review', #Fecha de primer review\n",
        "         'last_review', #Fecha de ultimo review\n",
        "         ] \n",
        "#Texto\n",
        "t_feats=['name', #Titulo del anuncio\n",
        "         'summary', #Resumen de la propiedad\n",
        "         'space', # Resumen del espacio\n",
        "         'description', #Descripcion de la propiedad\n",
        "         'experiences_offered', #Experiencias ofrecidas por la propiedad\n",
        "         'neighborhood_overview', #Resumen del vecindario\n",
        "         'notes', #Notas del host\n",
        "         'transit', #Accesibilidad de la ubicacion del inmueble\n",
        "         'access', #Zonas disponibles en la casa\n",
        "         'interaction', #Formas de comunicacion con host\n",
        "         'house_rules', #Reglas de la propiedad  \n",
        "         'host_name', #nombre del host\n",
        "         'host_location', # Localización del host\n",
        "         'host_about', #Descripcion del host\n",
        "         'host_response_time', #Tiempo de respuesta del host\n",
        "         'host_neighbourhood', #vecindario host\n",
        "         'host_verifications', #documentos de verificacion del host\n",
        "         'street', #calle de la propiedad\n",
        "         'neighbourhood', #Colonia\n",
        "         'neighbourhood_group_cleansed', #Grupo de Alcaldias\n",
        "         'city', #Ciudad\n",
        "         'state', #Estado\n",
        "         'market', #Mercado de propiedades ubicacion\n",
        "         'smart_location', #Ubicacion simplificada\n",
        "         'country_code', #Codigo de pais\n",
        "         'country', #Pais\n",
        "         'amenities', #amenidades\n",
        "         'jurisdiction_names', #claves localizacion\n",
        "         ] \n",
        "\n",
        "c_feats_new=[\"c_\"+x for x in c_feats]\n",
        "v_feats_new=[\"v_\"+x for x in v_feats]\n",
        "d_feats_new=[\"d_\"+x for x in d_feats]\n",
        "t_feats_new=[\"t_\"+x for x in t_feats]\n",
        "\n",
        "df.rename(columns=dict(zip(d_feats,d_feats_new)),inplace=True)\n",
        "df.rename(columns=dict(zip(v_feats,v_feats_new)),inplace=True)\n",
        "df.rename(columns=dict(zip(t_feats,t_feats_new)),inplace=True)\n",
        "df.rename(columns=dict(zip(c_feats,c_feats_new)),inplace=True)"
      ],
      "execution_count": null,
      "outputs": []
    },
    {
      "cell_type": "code",
      "metadata": {
        "colab": {
          "base_uri": "https://localhost:8080/"
        },
        "id": "U09Im0Szz73E",
        "outputId": "7d246bea-6784-4bb7-e8f4-012b4e8a3976"
      },
      "source": [
        "df.head()"
      ],
      "execution_count": null,
      "outputs": [
        {
          "output_type": "execute_result",
          "data": {
            "text/html": [
              "<div>\n",
              "<style scoped>\n",
              "    .dataframe tbody tr th:only-of-type {\n",
              "        vertical-align: middle;\n",
              "    }\n",
              "\n",
              "    .dataframe tbody tr th {\n",
              "        vertical-align: top;\n",
              "    }\n",
              "\n",
              "    .dataframe thead th {\n",
              "        text-align: right;\n",
              "    }\n",
              "</style>\n",
              "<table border=\"1\" class=\"dataframe\">\n",
              "  <thead>\n",
              "    <tr style=\"text-align: right;\">\n",
              "      <th></th>\n",
              "      <th>id</th>\n",
              "      <th>listing_url</th>\n",
              "      <th>scrape_id</th>\n",
              "      <th>d_last_scraped</th>\n",
              "      <th>t_name</th>\n",
              "      <th>t_summary</th>\n",
              "      <th>t_space</th>\n",
              "      <th>t_description</th>\n",
              "      <th>t_experiences_offered</th>\n",
              "      <th>t_neighborhood_overview</th>\n",
              "      <th>t_notes</th>\n",
              "      <th>t_transit</th>\n",
              "      <th>t_access</th>\n",
              "      <th>t_interaction</th>\n",
              "      <th>t_house_rules</th>\n",
              "      <th>thumbnail_url</th>\n",
              "      <th>medium_url</th>\n",
              "      <th>picture_url</th>\n",
              "      <th>xl_picture_url</th>\n",
              "      <th>host_id</th>\n",
              "      <th>host_url</th>\n",
              "      <th>t_host_name</th>\n",
              "      <th>d_host_since</th>\n",
              "      <th>t_host_location</th>\n",
              "      <th>t_host_about</th>\n",
              "      <th>t_host_response_time</th>\n",
              "      <th>v_host_response_rate</th>\n",
              "      <th>v_host_acceptance_rate</th>\n",
              "      <th>v_host_is_superhost</th>\n",
              "      <th>host_thumbnail_url</th>\n",
              "      <th>host_picture_url</th>\n",
              "      <th>t_host_neighbourhood</th>\n",
              "      <th>c_host_listings_count</th>\n",
              "      <th>c_host_total_listings_count</th>\n",
              "      <th>t_host_verifications</th>\n",
              "      <th>v_host_has_profile_pic</th>\n",
              "      <th>v_host_identity_verified</th>\n",
              "      <th>t_street</th>\n",
              "      <th>t_neighbourhood</th>\n",
              "      <th>v_neighbourhood_cleansed</th>\n",
              "      <th>...</th>\n",
              "      <th>c_extra_people</th>\n",
              "      <th>v_minimum_nights</th>\n",
              "      <th>v_maximum_nights</th>\n",
              "      <th>v_minimum_minimum_nights</th>\n",
              "      <th>v_maximum_minimum_nights</th>\n",
              "      <th>v_minimum_maximum_nights</th>\n",
              "      <th>v_maximum_maximum_nights</th>\n",
              "      <th>c_minimum_nights_avg_ntm</th>\n",
              "      <th>c_maximum_nights_avg_ntm</th>\n",
              "      <th>v_calendar_updated</th>\n",
              "      <th>v_has_availability</th>\n",
              "      <th>v_availability_30</th>\n",
              "      <th>v_availability_60</th>\n",
              "      <th>v_availability_90</th>\n",
              "      <th>v_availability_365</th>\n",
              "      <th>d_calendar_last_scraped</th>\n",
              "      <th>v_number_of_reviews</th>\n",
              "      <th>v_number_of_reviews_ltm</th>\n",
              "      <th>d_first_review</th>\n",
              "      <th>d_last_review</th>\n",
              "      <th>v_review_scores_rating</th>\n",
              "      <th>v_review_scores_accuracy</th>\n",
              "      <th>v_review_scores_cleanliness</th>\n",
              "      <th>v_review_scores_checkin</th>\n",
              "      <th>v_review_scores_communication</th>\n",
              "      <th>v_review_scores_location</th>\n",
              "      <th>v_review_scores_value</th>\n",
              "      <th>v_requires_license</th>\n",
              "      <th>license</th>\n",
              "      <th>t_jurisdiction_names</th>\n",
              "      <th>v_instant_bookable</th>\n",
              "      <th>v_is_business_travel_ready</th>\n",
              "      <th>v_cancellation_policy</th>\n",
              "      <th>v_require_guest_profile_picture</th>\n",
              "      <th>v_require_guest_phone_verification</th>\n",
              "      <th>v_calculated_host_listings_count</th>\n",
              "      <th>v_calculated_host_listings_count_entire_homes</th>\n",
              "      <th>v_calculated_host_listings_count_private_rooms</th>\n",
              "      <th>v_calculated_host_listings_count_shared_rooms</th>\n",
              "      <th>v_reviews_per_month</th>\n",
              "    </tr>\n",
              "  </thead>\n",
              "  <tbody>\n",
              "    <tr>\n",
              "      <th>0</th>\n",
              "      <td>2595</td>\n",
              "      <td>https://www.airbnb.com/rooms/2595</td>\n",
              "      <td>20191204162729</td>\n",
              "      <td>2019-12-07</td>\n",
              "      <td>Skylit Midtown Castle</td>\n",
              "      <td>Beautiful, spacious skylit studio in the heart...</td>\n",
              "      <td>- Spacious (500+ft²), immaculate and nicely fu...</td>\n",
              "      <td>Beautiful, spacious skylit studio in the heart...</td>\n",
              "      <td>none</td>\n",
              "      <td>Centrally located in the heart of Manhattan ju...</td>\n",
              "      <td>NaN</td>\n",
              "      <td>Apartment is located on 37th Street between 5t...</td>\n",
              "      <td>Guests have full access to the kitchen, bathro...</td>\n",
              "      <td>I am a Sound Therapy Practitioner and Kundalin...</td>\n",
              "      <td>Make yourself at home, respect the space and t...</td>\n",
              "      <td>NaN</td>\n",
              "      <td>NaN</td>\n",
              "      <td>https://a0.muscache.com/im/pictures/f0813a11-4...</td>\n",
              "      <td>NaN</td>\n",
              "      <td>2845</td>\n",
              "      <td>https://www.airbnb.com/users/show/2845</td>\n",
              "      <td>Jennifer</td>\n",
              "      <td>2008-09-09</td>\n",
              "      <td>New York, New York, United States</td>\n",
              "      <td>A New Yorker since 2000! My passion is creatin...</td>\n",
              "      <td>within a day</td>\n",
              "      <td>85%</td>\n",
              "      <td>NaN</td>\n",
              "      <td>f</td>\n",
              "      <td>https://a0.muscache.com/im/users/2845/profile_...</td>\n",
              "      <td>https://a0.muscache.com/im/users/2845/profile_...</td>\n",
              "      <td>Midtown</td>\n",
              "      <td>6.0</td>\n",
              "      <td>6.0</td>\n",
              "      <td>['email', 'phone', 'reviews', 'offline_governm...</td>\n",
              "      <td>t</td>\n",
              "      <td>t</td>\n",
              "      <td>New York, NY, United States</td>\n",
              "      <td>Midtown</td>\n",
              "      <td>Midtown</td>\n",
              "      <td>...</td>\n",
              "      <td>$0.00</td>\n",
              "      <td>10</td>\n",
              "      <td>1125</td>\n",
              "      <td>10</td>\n",
              "      <td>10</td>\n",
              "      <td>1125</td>\n",
              "      <td>1125</td>\n",
              "      <td>10.0</td>\n",
              "      <td>1125.0</td>\n",
              "      <td>2 weeks ago</td>\n",
              "      <td>t</td>\n",
              "      <td>1</td>\n",
              "      <td>1</td>\n",
              "      <td>1</td>\n",
              "      <td>1</td>\n",
              "      <td>2019-12-07</td>\n",
              "      <td>48</td>\n",
              "      <td>7</td>\n",
              "      <td>2009-11-21</td>\n",
              "      <td>2019-11-04</td>\n",
              "      <td>94.0</td>\n",
              "      <td>9.0</td>\n",
              "      <td>9.0</td>\n",
              "      <td>10.0</td>\n",
              "      <td>10.0</td>\n",
              "      <td>10.0</td>\n",
              "      <td>9.0</td>\n",
              "      <td>f</td>\n",
              "      <td>NaN</td>\n",
              "      <td>NaN</td>\n",
              "      <td>f</td>\n",
              "      <td>f</td>\n",
              "      <td>strict_14_with_grace_period</td>\n",
              "      <td>t</td>\n",
              "      <td>t</td>\n",
              "      <td>1</td>\n",
              "      <td>1</td>\n",
              "      <td>0</td>\n",
              "      <td>0</td>\n",
              "      <td>0.39</td>\n",
              "    </tr>\n",
              "    <tr>\n",
              "      <th>1</th>\n",
              "      <td>3831</td>\n",
              "      <td>https://www.airbnb.com/rooms/3831</td>\n",
              "      <td>20191204162729</td>\n",
              "      <td>2019-12-07</td>\n",
              "      <td>Cozy Entire Floor of Brownstone</td>\n",
              "      <td>Urban retreat: enjoy 500 s.f. floor in 1899 br...</td>\n",
              "      <td>Greetings!      We own a double-duplex brownst...</td>\n",
              "      <td>Urban retreat: enjoy 500 s.f. floor in 1899 br...</td>\n",
              "      <td>none</td>\n",
              "      <td>Just the right mix of urban center and local n...</td>\n",
              "      <td>NaN</td>\n",
              "      <td>B52 bus for a 10-minute ride to downtown Brook...</td>\n",
              "      <td>You will have exclusive use of and access to: ...</td>\n",
              "      <td>We'll be around, but since you have the top fl...</td>\n",
              "      <td>Smoking - outside please; pets allowed but ple...</td>\n",
              "      <td>NaN</td>\n",
              "      <td>NaN</td>\n",
              "      <td>https://a0.muscache.com/im/pictures/e49999c2-9...</td>\n",
              "      <td>NaN</td>\n",
              "      <td>4869</td>\n",
              "      <td>https://www.airbnb.com/users/show/4869</td>\n",
              "      <td>LisaRoxanne</td>\n",
              "      <td>2008-12-07</td>\n",
              "      <td>New York, New York, United States</td>\n",
              "      <td>Laid-back bi-coastal actor/professor/attorney.</td>\n",
              "      <td>within an hour</td>\n",
              "      <td>100%</td>\n",
              "      <td>NaN</td>\n",
              "      <td>f</td>\n",
              "      <td>https://a0.muscache.com/im/users/4869/profile_...</td>\n",
              "      <td>https://a0.muscache.com/im/users/4869/profile_...</td>\n",
              "      <td>Clinton Hill</td>\n",
              "      <td>1.0</td>\n",
              "      <td>1.0</td>\n",
              "      <td>['email', 'phone', 'reviews', 'kba']</td>\n",
              "      <td>t</td>\n",
              "      <td>t</td>\n",
              "      <td>Brooklyn, NY, United States</td>\n",
              "      <td>Brooklyn</td>\n",
              "      <td>Clinton Hill</td>\n",
              "      <td>...</td>\n",
              "      <td>$0.00</td>\n",
              "      <td>1</td>\n",
              "      <td>730</td>\n",
              "      <td>1</td>\n",
              "      <td>1</td>\n",
              "      <td>730</td>\n",
              "      <td>730</td>\n",
              "      <td>1.0</td>\n",
              "      <td>730.0</td>\n",
              "      <td>2 weeks ago</td>\n",
              "      <td>t</td>\n",
              "      <td>1</td>\n",
              "      <td>1</td>\n",
              "      <td>1</td>\n",
              "      <td>1</td>\n",
              "      <td>2019-12-07</td>\n",
              "      <td>295</td>\n",
              "      <td>75</td>\n",
              "      <td>2014-09-30</td>\n",
              "      <td>2019-11-22</td>\n",
              "      <td>90.0</td>\n",
              "      <td>9.0</td>\n",
              "      <td>9.0</td>\n",
              "      <td>10.0</td>\n",
              "      <td>9.0</td>\n",
              "      <td>10.0</td>\n",
              "      <td>9.0</td>\n",
              "      <td>f</td>\n",
              "      <td>NaN</td>\n",
              "      <td>NaN</td>\n",
              "      <td>f</td>\n",
              "      <td>f</td>\n",
              "      <td>moderate</td>\n",
              "      <td>f</td>\n",
              "      <td>f</td>\n",
              "      <td>1</td>\n",
              "      <td>1</td>\n",
              "      <td>0</td>\n",
              "      <td>0</td>\n",
              "      <td>4.67</td>\n",
              "    </tr>\n",
              "    <tr>\n",
              "      <th>2</th>\n",
              "      <td>5099</td>\n",
              "      <td>https://www.airbnb.com/rooms/5099</td>\n",
              "      <td>20191204162729</td>\n",
              "      <td>2019-12-06</td>\n",
              "      <td>Large Cozy 1 BR Apartment In Midtown East</td>\n",
              "      <td>My large 1 bedroom apartment has a true New Yo...</td>\n",
              "      <td>I have a large 1 bedroom apartment centrally l...</td>\n",
              "      <td>My large 1 bedroom apartment has a true New Yo...</td>\n",
              "      <td>none</td>\n",
              "      <td>My neighborhood in Midtown East is called Murr...</td>\n",
              "      <td>Read My Full Listing For All Information. New ...</td>\n",
              "      <td>From the apartment is a 10 minute walk to Gran...</td>\n",
              "      <td>I will meet you upon arrival.</td>\n",
              "      <td>I usually check in with guests via text or ema...</td>\n",
              "      <td>• Check-in time is 2PM. • Check-out time is 12...</td>\n",
              "      <td>NaN</td>\n",
              "      <td>NaN</td>\n",
              "      <td>https://a0.muscache.com/im/pictures/24020910/1...</td>\n",
              "      <td>NaN</td>\n",
              "      <td>7322</td>\n",
              "      <td>https://www.airbnb.com/users/show/7322</td>\n",
              "      <td>Chris</td>\n",
              "      <td>2009-02-02</td>\n",
              "      <td>New York, New York, United States</td>\n",
              "      <td>I'm an artist, writer, traveler, and a native ...</td>\n",
              "      <td>NaN</td>\n",
              "      <td>NaN</td>\n",
              "      <td>NaN</td>\n",
              "      <td>f</td>\n",
              "      <td>https://a0.muscache.com/im/pictures/user/26745...</td>\n",
              "      <td>https://a0.muscache.com/im/pictures/user/26745...</td>\n",
              "      <td>Flatiron District</td>\n",
              "      <td>1.0</td>\n",
              "      <td>1.0</td>\n",
              "      <td>['email', 'phone', 'reviews', 'jumio', 'govern...</td>\n",
              "      <td>t</td>\n",
              "      <td>f</td>\n",
              "      <td>New York, NY, United States</td>\n",
              "      <td>Manhattan</td>\n",
              "      <td>Murray Hill</td>\n",
              "      <td>...</td>\n",
              "      <td>$100.00</td>\n",
              "      <td>3</td>\n",
              "      <td>21</td>\n",
              "      <td>3</td>\n",
              "      <td>3</td>\n",
              "      <td>21</td>\n",
              "      <td>21</td>\n",
              "      <td>3.0</td>\n",
              "      <td>21.0</td>\n",
              "      <td>2 weeks ago</td>\n",
              "      <td>t</td>\n",
              "      <td>19</td>\n",
              "      <td>19</td>\n",
              "      <td>19</td>\n",
              "      <td>19</td>\n",
              "      <td>2019-12-06</td>\n",
              "      <td>78</td>\n",
              "      <td>8</td>\n",
              "      <td>2009-04-20</td>\n",
              "      <td>2019-10-13</td>\n",
              "      <td>90.0</td>\n",
              "      <td>10.0</td>\n",
              "      <td>9.0</td>\n",
              "      <td>10.0</td>\n",
              "      <td>10.0</td>\n",
              "      <td>10.0</td>\n",
              "      <td>9.0</td>\n",
              "      <td>f</td>\n",
              "      <td>NaN</td>\n",
              "      <td>NaN</td>\n",
              "      <td>f</td>\n",
              "      <td>f</td>\n",
              "      <td>moderate</td>\n",
              "      <td>t</td>\n",
              "      <td>t</td>\n",
              "      <td>1</td>\n",
              "      <td>1</td>\n",
              "      <td>0</td>\n",
              "      <td>0</td>\n",
              "      <td>0.60</td>\n",
              "    </tr>\n",
              "    <tr>\n",
              "      <th>3</th>\n",
              "      <td>5121</td>\n",
              "      <td>https://www.airbnb.com/rooms/5121</td>\n",
              "      <td>20191204162729</td>\n",
              "      <td>2019-12-06</td>\n",
              "      <td>BlissArtsSpace!</td>\n",
              "      <td>NaN</td>\n",
              "      <td>HELLO EVERYONE AND THANKS FOR VISITING BLISS A...</td>\n",
              "      <td>HELLO EVERYONE AND THANKS FOR VISITING BLISS A...</td>\n",
              "      <td>none</td>\n",
              "      <td>NaN</td>\n",
              "      <td>NaN</td>\n",
              "      <td>NaN</td>\n",
              "      <td>NaN</td>\n",
              "      <td>NaN</td>\n",
              "      <td>NaN</td>\n",
              "      <td>NaN</td>\n",
              "      <td>NaN</td>\n",
              "      <td>https://a0.muscache.com/im/pictures/2090980c-b...</td>\n",
              "      <td>NaN</td>\n",
              "      <td>7356</td>\n",
              "      <td>https://www.airbnb.com/users/show/7356</td>\n",
              "      <td>Garon</td>\n",
              "      <td>2009-02-03</td>\n",
              "      <td>New York, New York, United States</td>\n",
              "      <td>I am an artist(painter, filmmaker) and curato...</td>\n",
              "      <td>within a few hours</td>\n",
              "      <td>100%</td>\n",
              "      <td>NaN</td>\n",
              "      <td>f</td>\n",
              "      <td>https://a0.muscache.com/im/pictures/user/72a61...</td>\n",
              "      <td>https://a0.muscache.com/im/pictures/user/72a61...</td>\n",
              "      <td>Bedford-Stuyvesant</td>\n",
              "      <td>1.0</td>\n",
              "      <td>1.0</td>\n",
              "      <td>['email', 'phone', 'facebook', 'reviews', 'off...</td>\n",
              "      <td>t</td>\n",
              "      <td>f</td>\n",
              "      <td>Brooklyn, NY, United States</td>\n",
              "      <td>Bedford-Stuyvesant</td>\n",
              "      <td>Bedford-Stuyvesant</td>\n",
              "      <td>...</td>\n",
              "      <td>$30.00</td>\n",
              "      <td>29</td>\n",
              "      <td>730</td>\n",
              "      <td>29</td>\n",
              "      <td>29</td>\n",
              "      <td>730</td>\n",
              "      <td>730</td>\n",
              "      <td>29.0</td>\n",
              "      <td>730.0</td>\n",
              "      <td>23 months ago</td>\n",
              "      <td>t</td>\n",
              "      <td>30</td>\n",
              "      <td>60</td>\n",
              "      <td>90</td>\n",
              "      <td>365</td>\n",
              "      <td>2019-12-06</td>\n",
              "      <td>49</td>\n",
              "      <td>0</td>\n",
              "      <td>2009-05-28</td>\n",
              "      <td>2017-10-05</td>\n",
              "      <td>90.0</td>\n",
              "      <td>8.0</td>\n",
              "      <td>8.0</td>\n",
              "      <td>10.0</td>\n",
              "      <td>10.0</td>\n",
              "      <td>9.0</td>\n",
              "      <td>9.0</td>\n",
              "      <td>f</td>\n",
              "      <td>NaN</td>\n",
              "      <td>NaN</td>\n",
              "      <td>f</td>\n",
              "      <td>f</td>\n",
              "      <td>strict_14_with_grace_period</td>\n",
              "      <td>f</td>\n",
              "      <td>f</td>\n",
              "      <td>1</td>\n",
              "      <td>0</td>\n",
              "      <td>1</td>\n",
              "      <td>0</td>\n",
              "      <td>0.38</td>\n",
              "    </tr>\n",
              "    <tr>\n",
              "      <th>4</th>\n",
              "      <td>5178</td>\n",
              "      <td>https://www.airbnb.com/rooms/5178</td>\n",
              "      <td>20191204162729</td>\n",
              "      <td>2019-12-05</td>\n",
              "      <td>Large Furnished Room Near B'way</td>\n",
              "      <td>Please don’t expect the luxury here just a bas...</td>\n",
              "      <td>You will use one large, furnished, private roo...</td>\n",
              "      <td>Please don’t expect the luxury here just a bas...</td>\n",
              "      <td>none</td>\n",
              "      <td>Theater district, many restaurants around here.</td>\n",
              "      <td>Reservation should be made at least a few days...</td>\n",
              "      <td>NaN</td>\n",
              "      <td>Bathroom is shared with the host but the kitch...</td>\n",
              "      <td>NaN</td>\n",
              "      <td>No smoking in the room. When you check out, pl...</td>\n",
              "      <td>NaN</td>\n",
              "      <td>NaN</td>\n",
              "      <td>https://a0.muscache.com/im/pictures/12065/f070...</td>\n",
              "      <td>NaN</td>\n",
              "      <td>8967</td>\n",
              "      <td>https://www.airbnb.com/users/show/8967</td>\n",
              "      <td>Shunichi</td>\n",
              "      <td>2009-03-03</td>\n",
              "      <td>New York, New York, United States</td>\n",
              "      <td>I used to work for a financial industry but no...</td>\n",
              "      <td>within a few hours</td>\n",
              "      <td>100%</td>\n",
              "      <td>NaN</td>\n",
              "      <td>f</td>\n",
              "      <td>https://a0.muscache.com/im/users/8967/profile_...</td>\n",
              "      <td>https://a0.muscache.com/im/users/8967/profile_...</td>\n",
              "      <td>Hell's Kitchen</td>\n",
              "      <td>1.0</td>\n",
              "      <td>1.0</td>\n",
              "      <td>['email', 'phone', 'facebook', 'reviews']</td>\n",
              "      <td>t</td>\n",
              "      <td>f</td>\n",
              "      <td>New York, NY, United States</td>\n",
              "      <td>Manhattan</td>\n",
              "      <td>Hell's Kitchen</td>\n",
              "      <td>...</td>\n",
              "      <td>$12.00</td>\n",
              "      <td>2</td>\n",
              "      <td>14</td>\n",
              "      <td>1</td>\n",
              "      <td>2</td>\n",
              "      <td>14</td>\n",
              "      <td>14</td>\n",
              "      <td>1.8</td>\n",
              "      <td>14.0</td>\n",
              "      <td>2 months ago</td>\n",
              "      <td>t</td>\n",
              "      <td>3</td>\n",
              "      <td>12</td>\n",
              "      <td>40</td>\n",
              "      <td>242</td>\n",
              "      <td>2019-12-05</td>\n",
              "      <td>454</td>\n",
              "      <td>47</td>\n",
              "      <td>2009-05-06</td>\n",
              "      <td>2019-11-21</td>\n",
              "      <td>84.0</td>\n",
              "      <td>9.0</td>\n",
              "      <td>7.0</td>\n",
              "      <td>9.0</td>\n",
              "      <td>9.0</td>\n",
              "      <td>10.0</td>\n",
              "      <td>8.0</td>\n",
              "      <td>f</td>\n",
              "      <td>NaN</td>\n",
              "      <td>NaN</td>\n",
              "      <td>f</td>\n",
              "      <td>f</td>\n",
              "      <td>strict_14_with_grace_period</td>\n",
              "      <td>f</td>\n",
              "      <td>f</td>\n",
              "      <td>1</td>\n",
              "      <td>0</td>\n",
              "      <td>1</td>\n",
              "      <td>0</td>\n",
              "      <td>3.52</td>\n",
              "    </tr>\n",
              "  </tbody>\n",
              "</table>\n",
              "<p>5 rows × 106 columns</p>\n",
              "</div>"
            ],
            "text/plain": [
              "     id  ... v_reviews_per_month\n",
              "0  2595  ...                0.39\n",
              "1  3831  ...                4.67\n",
              "2  5099  ...                0.60\n",
              "3  5121  ...                0.38\n",
              "4  5178  ...                3.52\n",
              "\n",
              "[5 rows x 106 columns]"
            ]
          },
          "metadata": {
            "tags": []
          },
          "execution_count": 6
        }
      ]
    },
    {
      "cell_type": "markdown",
      "metadata": {
        "id": "Vae5LzIupjxZ"
      },
      "source": [
        "Se eliminan las variables que solo fungen como llaves o identificadores"
      ]
    },
    {
      "cell_type": "code",
      "metadata": {
        "id": "hMXmVZ9ez70D"
      },
      "source": [
        "df = df.drop(llaves, axis=1)"
      ],
      "execution_count": null,
      "outputs": []
    },
    {
      "cell_type": "markdown",
      "metadata": {
        "id": "F9i744JCqiL7"
      },
      "source": [
        "## Completitud"
      ]
    },
    {
      "cell_type": "markdown",
      "metadata": {
        "id": "ZoL-VIVnpU7x"
      },
      "source": [
        "Función de completitud para visualizar la completitud de las variables del dataset"
      ]
    },
    {
      "cell_type": "code",
      "metadata": {
        "colab": {
          "base_uri": "https://localhost:8080/"
        },
        "id": "VBivyIV_z7jv",
        "outputId": "ef676933-86af-48e2-c07f-f580c5739ad1"
      },
      "source": [
        "cp=completitud(df)\n",
        "cp"
      ],
      "execution_count": null,
      "outputs": [
        {
          "output_type": "execute_result",
          "data": {
            "text/html": [
              "<div>\n",
              "<style scoped>\n",
              "    .dataframe tbody tr th:only-of-type {\n",
              "        vertical-align: middle;\n",
              "    }\n",
              "\n",
              "    .dataframe tbody tr th {\n",
              "        vertical-align: top;\n",
              "    }\n",
              "\n",
              "    .dataframe thead th {\n",
              "        text-align: right;\n",
              "    }\n",
              "</style>\n",
              "<table border=\"1\" class=\"dataframe\">\n",
              "  <thead>\n",
              "    <tr style=\"text-align: right;\">\n",
              "      <th></th>\n",
              "      <th>columna</th>\n",
              "      <th>total</th>\n",
              "      <th>completitud</th>\n",
              "    </tr>\n",
              "  </thead>\n",
              "  <tbody>\n",
              "    <tr>\n",
              "      <th>0</th>\n",
              "      <td>v_host_acceptance_rate</td>\n",
              "      <td>50599</td>\n",
              "      <td>0.000000</td>\n",
              "    </tr>\n",
              "    <tr>\n",
              "      <th>1</th>\n",
              "      <td>t_jurisdiction_names</td>\n",
              "      <td>50583</td>\n",
              "      <td>0.000316</td>\n",
              "    </tr>\n",
              "    <tr>\n",
              "      <th>2</th>\n",
              "      <td>c_square_feet</td>\n",
              "      <td>50213</td>\n",
              "      <td>0.007629</td>\n",
              "    </tr>\n",
              "    <tr>\n",
              "      <th>3</th>\n",
              "      <td>c_monthly_price</td>\n",
              "      <td>45683</td>\n",
              "      <td>0.097156</td>\n",
              "    </tr>\n",
              "    <tr>\n",
              "      <th>4</th>\n",
              "      <td>c_weekly_price</td>\n",
              "      <td>44945</td>\n",
              "      <td>0.111741</td>\n",
              "    </tr>\n",
              "    <tr>\n",
              "      <th>5</th>\n",
              "      <td>t_notes</td>\n",
              "      <td>29976</td>\n",
              "      <td>0.407577</td>\n",
              "    </tr>\n",
              "    <tr>\n",
              "      <th>6</th>\n",
              "      <td>t_access</td>\n",
              "      <td>23543</td>\n",
              "      <td>0.534714</td>\n",
              "    </tr>\n",
              "    <tr>\n",
              "      <th>7</th>\n",
              "      <td>t_interaction</td>\n",
              "      <td>20526</td>\n",
              "      <td>0.594340</td>\n",
              "    </tr>\n",
              "    <tr>\n",
              "      <th>8</th>\n",
              "      <td>t_host_about</td>\n",
              "      <td>20290</td>\n",
              "      <td>0.599004</td>\n",
              "    </tr>\n",
              "    <tr>\n",
              "      <th>9</th>\n",
              "      <td>t_house_rules</td>\n",
              "      <td>19520</td>\n",
              "      <td>0.614222</td>\n",
              "    </tr>\n",
              "    <tr>\n",
              "      <th>10</th>\n",
              "      <td>v_host_response_rate</td>\n",
              "      <td>17658</td>\n",
              "      <td>0.651021</td>\n",
              "    </tr>\n",
              "    <tr>\n",
              "      <th>11</th>\n",
              "      <td>t_host_response_time</td>\n",
              "      <td>17658</td>\n",
              "      <td>0.651021</td>\n",
              "    </tr>\n",
              "    <tr>\n",
              "      <th>12</th>\n",
              "      <td>t_neighborhood_overview</td>\n",
              "      <td>17471</td>\n",
              "      <td>0.654716</td>\n",
              "    </tr>\n",
              "    <tr>\n",
              "      <th>13</th>\n",
              "      <td>c_security_deposit</td>\n",
              "      <td>17470</td>\n",
              "      <td>0.654736</td>\n",
              "    </tr>\n",
              "    <tr>\n",
              "      <th>14</th>\n",
              "      <td>t_transit</td>\n",
              "      <td>17416</td>\n",
              "      <td>0.655803</td>\n",
              "    </tr>\n",
              "    <tr>\n",
              "      <th>15</th>\n",
              "      <td>t_space</td>\n",
              "      <td>14135</td>\n",
              "      <td>0.720647</td>\n",
              "    </tr>\n",
              "    <tr>\n",
              "      <th>16</th>\n",
              "      <td>v_review_scores_location</td>\n",
              "      <td>11218</td>\n",
              "      <td>0.778296</td>\n",
              "    </tr>\n",
              "    <tr>\n",
              "      <th>17</th>\n",
              "      <td>v_review_scores_value</td>\n",
              "      <td>11217</td>\n",
              "      <td>0.778316</td>\n",
              "    </tr>\n",
              "    <tr>\n",
              "      <th>18</th>\n",
              "      <td>v_review_scores_checkin</td>\n",
              "      <td>11214</td>\n",
              "      <td>0.778375</td>\n",
              "    </tr>\n",
              "    <tr>\n",
              "      <th>19</th>\n",
              "      <td>v_review_scores_accuracy</td>\n",
              "      <td>11198</td>\n",
              "      <td>0.778691</td>\n",
              "    </tr>\n",
              "    <tr>\n",
              "      <th>20</th>\n",
              "      <td>v_review_scores_communication</td>\n",
              "      <td>11195</td>\n",
              "      <td>0.778751</td>\n",
              "    </tr>\n",
              "    <tr>\n",
              "      <th>21</th>\n",
              "      <td>v_review_scores_cleanliness</td>\n",
              "      <td>11184</td>\n",
              "      <td>0.778968</td>\n",
              "    </tr>\n",
              "    <tr>\n",
              "      <th>22</th>\n",
              "      <td>v_review_scores_rating</td>\n",
              "      <td>11162</td>\n",
              "      <td>0.779403</td>\n",
              "    </tr>\n",
              "    <tr>\n",
              "      <th>23</th>\n",
              "      <td>c_cleaning_fee</td>\n",
              "      <td>10491</td>\n",
              "      <td>0.792664</td>\n",
              "    </tr>\n",
              "    <tr>\n",
              "      <th>24</th>\n",
              "      <td>d_last_review</td>\n",
              "      <td>10220</td>\n",
              "      <td>0.798020</td>\n",
              "    </tr>\n",
              "    <tr>\n",
              "      <th>25</th>\n",
              "      <td>d_first_review</td>\n",
              "      <td>10220</td>\n",
              "      <td>0.798020</td>\n",
              "    </tr>\n",
              "    <tr>\n",
              "      <th>26</th>\n",
              "      <td>v_reviews_per_month</td>\n",
              "      <td>10220</td>\n",
              "      <td>0.798020</td>\n",
              "    </tr>\n",
              "    <tr>\n",
              "      <th>27</th>\n",
              "      <td>t_host_neighbourhood</td>\n",
              "      <td>7011</td>\n",
              "      <td>0.861440</td>\n",
              "    </tr>\n",
              "    <tr>\n",
              "      <th>28</th>\n",
              "      <td>t_summary</td>\n",
              "      <td>2232</td>\n",
              "      <td>0.955888</td>\n",
              "    </tr>\n",
              "    <tr>\n",
              "      <th>29</th>\n",
              "      <td>t_description</td>\n",
              "      <td>1032</td>\n",
              "      <td>0.979604</td>\n",
              "    </tr>\n",
              "    <tr>\n",
              "      <th>30</th>\n",
              "      <td>t_host_location</td>\n",
              "      <td>714</td>\n",
              "      <td>0.985889</td>\n",
              "    </tr>\n",
              "    <tr>\n",
              "      <th>31</th>\n",
              "      <td>c_host_total_listings_count</td>\n",
              "      <td>563</td>\n",
              "      <td>0.988873</td>\n",
              "    </tr>\n",
              "    <tr>\n",
              "      <th>32</th>\n",
              "      <td>v_host_identity_verified</td>\n",
              "      <td>563</td>\n",
              "      <td>0.988873</td>\n",
              "    </tr>\n",
              "    <tr>\n",
              "      <th>33</th>\n",
              "      <td>v_host_has_profile_pic</td>\n",
              "      <td>563</td>\n",
              "      <td>0.988873</td>\n",
              "    </tr>\n",
              "    <tr>\n",
              "      <th>34</th>\n",
              "      <td>c_host_listings_count</td>\n",
              "      <td>563</td>\n",
              "      <td>0.988873</td>\n",
              "    </tr>\n",
              "    <tr>\n",
              "      <th>35</th>\n",
              "      <td>v_host_is_superhost</td>\n",
              "      <td>563</td>\n",
              "      <td>0.988873</td>\n",
              "    </tr>\n",
              "    <tr>\n",
              "      <th>36</th>\n",
              "      <td>d_host_since</td>\n",
              "      <td>563</td>\n",
              "      <td>0.988873</td>\n",
              "    </tr>\n",
              "    <tr>\n",
              "      <th>37</th>\n",
              "      <td>t_host_name</td>\n",
              "      <td>563</td>\n",
              "      <td>0.988873</td>\n",
              "    </tr>\n",
              "    <tr>\n",
              "      <th>38</th>\n",
              "      <td>v_zipcode</td>\n",
              "      <td>465</td>\n",
              "      <td>0.990810</td>\n",
              "    </tr>\n",
              "    <tr>\n",
              "      <th>39</th>\n",
              "      <td>v_beds</td>\n",
              "      <td>132</td>\n",
              "      <td>0.997391</td>\n",
              "    </tr>\n",
              "    <tr>\n",
              "      <th>40</th>\n",
              "      <td>t_city</td>\n",
              "      <td>129</td>\n",
              "      <td>0.997451</td>\n",
              "    </tr>\n",
              "    <tr>\n",
              "      <th>41</th>\n",
              "      <td>t_market</td>\n",
              "      <td>103</td>\n",
              "      <td>0.997964</td>\n",
              "    </tr>\n",
              "    <tr>\n",
              "      <th>42</th>\n",
              "      <td>v_bedrooms</td>\n",
              "      <td>63</td>\n",
              "      <td>0.998755</td>\n",
              "    </tr>\n",
              "    <tr>\n",
              "      <th>43</th>\n",
              "      <td>c_bathrooms</td>\n",
              "      <td>51</td>\n",
              "      <td>0.998992</td>\n",
              "    </tr>\n",
              "    <tr>\n",
              "      <th>44</th>\n",
              "      <td>t_name</td>\n",
              "      <td>17</td>\n",
              "      <td>0.999664</td>\n",
              "    </tr>\n",
              "    <tr>\n",
              "      <th>45</th>\n",
              "      <td>t_neighbourhood</td>\n",
              "      <td>11</td>\n",
              "      <td>0.999783</td>\n",
              "    </tr>\n",
              "    <tr>\n",
              "      <th>46</th>\n",
              "      <td>t_state</td>\n",
              "      <td>5</td>\n",
              "      <td>0.999901</td>\n",
              "    </tr>\n",
              "  </tbody>\n",
              "</table>\n",
              "</div>"
            ],
            "text/plain": [
              "                          columna  total  completitud\n",
              "0          v_host_acceptance_rate  50599     0.000000\n",
              "1            t_jurisdiction_names  50583     0.000316\n",
              "2                   c_square_feet  50213     0.007629\n",
              "3                 c_monthly_price  45683     0.097156\n",
              "4                  c_weekly_price  44945     0.111741\n",
              "5                         t_notes  29976     0.407577\n",
              "6                        t_access  23543     0.534714\n",
              "7                   t_interaction  20526     0.594340\n",
              "8                    t_host_about  20290     0.599004\n",
              "9                   t_house_rules  19520     0.614222\n",
              "10           v_host_response_rate  17658     0.651021\n",
              "11           t_host_response_time  17658     0.651021\n",
              "12        t_neighborhood_overview  17471     0.654716\n",
              "13             c_security_deposit  17470     0.654736\n",
              "14                      t_transit  17416     0.655803\n",
              "15                        t_space  14135     0.720647\n",
              "16       v_review_scores_location  11218     0.778296\n",
              "17          v_review_scores_value  11217     0.778316\n",
              "18        v_review_scores_checkin  11214     0.778375\n",
              "19       v_review_scores_accuracy  11198     0.778691\n",
              "20  v_review_scores_communication  11195     0.778751\n",
              "21    v_review_scores_cleanliness  11184     0.778968\n",
              "22         v_review_scores_rating  11162     0.779403\n",
              "23                 c_cleaning_fee  10491     0.792664\n",
              "24                  d_last_review  10220     0.798020\n",
              "25                 d_first_review  10220     0.798020\n",
              "26            v_reviews_per_month  10220     0.798020\n",
              "27           t_host_neighbourhood   7011     0.861440\n",
              "28                      t_summary   2232     0.955888\n",
              "29                  t_description   1032     0.979604\n",
              "30                t_host_location    714     0.985889\n",
              "31    c_host_total_listings_count    563     0.988873\n",
              "32       v_host_identity_verified    563     0.988873\n",
              "33         v_host_has_profile_pic    563     0.988873\n",
              "34          c_host_listings_count    563     0.988873\n",
              "35            v_host_is_superhost    563     0.988873\n",
              "36                   d_host_since    563     0.988873\n",
              "37                    t_host_name    563     0.988873\n",
              "38                      v_zipcode    465     0.990810\n",
              "39                         v_beds    132     0.997391\n",
              "40                         t_city    129     0.997451\n",
              "41                       t_market    103     0.997964\n",
              "42                     v_bedrooms     63     0.998755\n",
              "43                    c_bathrooms     51     0.998992\n",
              "44                         t_name     17     0.999664\n",
              "45                t_neighbourhood     11     0.999783\n",
              "46                        t_state      5     0.999901"
            ]
          },
          "metadata": {
            "tags": []
          },
          "execution_count": 8
        }
      ]
    },
    {
      "cell_type": "code",
      "metadata": {
        "colab": {
          "base_uri": "https://localhost:8080/"
        },
        "id": "YTtVqwTEGpRq",
        "outputId": "f9083139-a8a6-40a7-ed5c-6d4c40affbe5"
      },
      "source": [
        "colors=dict(zip(list(cp[\"columna\"].values),Berlin_20.hex_colors))\n",
        "fig = px.bar(cp, x=\"columna\", y=\"completitud\",color=\"columna\",\n",
        "             color_discrete_sequence=Berlin_20.hex_colors, title=\"COMPLETITUD\")\n",
        "layout = go.Layout(yaxis=dict(tickformat=\".2%\"))\n",
        "fig.update_layout(layout)\n",
        "fig.show()"
      ],
      "execution_count": null,
      "outputs": [
        {
          "output_type": "display_data",
          "data": {
            "text/html": [
              "<html>\n",
              "<head><meta charset=\"utf-8\" /></head>\n",
              "<body>\n",
              "    <div>\n",
              "            <script src=\"https://cdnjs.cloudflare.com/ajax/libs/mathjax/2.7.5/MathJax.js?config=TeX-AMS-MML_SVG\"></script><script type=\"text/javascript\">if (window.MathJax) {MathJax.Hub.Config({SVG: {font: \"STIX-Web\"}});}</script>\n",
              "                <script type=\"text/javascript\">window.PlotlyConfig = {MathJaxConfig: 'local'};</script>\n",
              "        <script src=\"https://cdn.plot.ly/plotly-latest.min.js\"></script>    \n",
              "            <div id=\"bdf72384-0799-4b8a-9fc8-ed1b72ca0ad3\" class=\"plotly-graph-div\" style=\"height:525px; width:100%;\"></div>\n",
              "            <script type=\"text/javascript\">\n",
              "                \n",
              "                    window.PLOTLYENV=window.PLOTLYENV || {};\n",
              "                    \n",
              "                if (document.getElementById(\"bdf72384-0799-4b8a-9fc8-ed1b72ca0ad3\")) {\n",
              "                    Plotly.newPlot(\n",
              "                        'bdf72384-0799-4b8a-9fc8-ed1b72ca0ad3',\n",
              "                        [{\"alignmentgroup\": \"True\", \"hoverlabel\": {\"namelength\": 0}, \"hovertemplate\": \"columna=%{x}<br>completitud=%{y}\", \"legendgroup\": \"columna=v_host_acceptance_rate\", \"marker\": {\"color\": \"#9EB0FF\"}, \"name\": \"columna=v_host_acceptance_rate\", \"offsetgroup\": \"columna=v_host_acceptance_rate\", \"orientation\": \"v\", \"showlegend\": true, \"textposition\": \"auto\", \"type\": \"bar\", \"x\": [\"v_host_acceptance_rate\"], \"xaxis\": \"x\", \"y\": [0.0], \"yaxis\": \"y\"}, {\"alignmentgroup\": \"True\", \"hoverlabel\": {\"namelength\": 0}, \"hovertemplate\": \"columna=%{x}<br>completitud=%{y}\", \"legendgroup\": \"columna=t_jurisdiction_names\", \"marker\": {\"color\": \"#80ACF1\"}, \"name\": \"columna=t_jurisdiction_names\", \"offsetgroup\": \"columna=t_jurisdiction_names\", \"orientation\": \"v\", \"showlegend\": true, \"textposition\": \"auto\", \"type\": \"bar\", \"x\": [\"t_jurisdiction_names\"], \"xaxis\": \"x\", \"y\": [0.00031621178284158], \"yaxis\": \"y\"}, {\"alignmentgroup\": \"True\", \"hoverlabel\": {\"namelength\": 0}, \"hovertemplate\": \"columna=%{x}<br>completitud=%{y}\", \"legendgroup\": \"columna=c_square_feet\", \"marker\": {\"color\": \"#5DA5DD\"}, \"name\": \"columna=c_square_feet\", \"offsetgroup\": \"columna=c_square_feet\", \"orientation\": \"v\", \"showlegend\": true, \"textposition\": \"auto\", \"type\": \"bar\", \"x\": [\"c_square_feet\"], \"xaxis\": \"x\", \"y\": [0.007628609261052577], \"yaxis\": \"y\"}, {\"alignmentgroup\": \"True\", \"hoverlabel\": {\"namelength\": 0}, \"hovertemplate\": \"columna=%{x}<br>completitud=%{y}\", \"legendgroup\": \"columna=c_monthly_price\", \"marker\": {\"color\": \"#4194C1\"}, \"name\": \"columna=c_monthly_price\", \"offsetgroup\": \"columna=c_monthly_price\", \"orientation\": \"v\", \"showlegend\": true, \"textposition\": \"auto\", \"type\": \"bar\", \"x\": [\"c_monthly_price\"], \"xaxis\": \"x\", \"y\": [0.09715607027806872], \"yaxis\": \"y\"}, {\"alignmentgroup\": \"True\", \"hoverlabel\": {\"namelength\": 0}, \"hovertemplate\": \"columna=%{x}<br>completitud=%{y}\", \"legendgroup\": \"columna=c_weekly_price\", \"marker\": {\"color\": \"#307A9E\"}, \"name\": \"columna=c_weekly_price\", \"offsetgroup\": \"columna=c_weekly_price\", \"orientation\": \"v\", \"showlegend\": true, \"textposition\": \"auto\", \"type\": \"bar\", \"x\": [\"c_weekly_price\"], \"xaxis\": \"x\", \"y\": [0.11174133876163561], \"yaxis\": \"y\"}, {\"alignmentgroup\": \"True\", \"hoverlabel\": {\"namelength\": 0}, \"hovertemplate\": \"columna=%{x}<br>completitud=%{y}\", \"legendgroup\": \"columna=t_notes\", \"marker\": {\"color\": \"#26627F\"}, \"name\": \"columna=t_notes\", \"offsetgroup\": \"columna=t_notes\", \"orientation\": \"v\", \"showlegend\": true, \"textposition\": \"auto\", \"type\": \"bar\", \"x\": [\"t_notes\"], \"xaxis\": \"x\", \"y\": [0.40757722484634085], \"yaxis\": \"y\"}, {\"alignmentgroup\": \"True\", \"hoverlabel\": {\"namelength\": 0}, \"hovertemplate\": \"columna=%{x}<br>completitud=%{y}\", \"legendgroup\": \"columna=t_access\", \"marker\": {\"color\": \"#1C495F\"}, \"name\": \"columna=t_access\", \"offsetgroup\": \"columna=t_access\", \"orientation\": \"v\", \"showlegend\": true, \"textposition\": \"auto\", \"type\": \"bar\", \"x\": [\"t_access\"], \"xaxis\": \"x\", \"y\": [0.5347141247850749], \"yaxis\": \"y\"}, {\"alignmentgroup\": \"True\", \"hoverlabel\": {\"namelength\": 0}, \"hovertemplate\": \"columna=%{x}<br>completitud=%{y}\", \"legendgroup\": \"columna=t_interaction\", \"marker\": {\"color\": \"#153342\"}, \"name\": \"columna=t_interaction\", \"offsetgroup\": \"columna=t_interaction\", \"orientation\": \"v\", \"showlegend\": true, \"textposition\": \"auto\", \"type\": \"bar\", \"x\": [\"t_interaction\"], \"xaxis\": \"x\", \"y\": [0.5943398090871361], \"yaxis\": \"y\"}, {\"alignmentgroup\": \"True\", \"hoverlabel\": {\"namelength\": 0}, \"hovertemplate\": \"columna=%{x}<br>completitud=%{y}\", \"legendgroup\": \"columna=t_host_about\", \"marker\": {\"color\": \"#112028\"}, \"name\": \"columna=t_host_about\", \"offsetgroup\": \"columna=t_host_about\", \"orientation\": \"v\", \"showlegend\": true, \"textposition\": \"auto\", \"type\": \"bar\", \"x\": [\"t_host_about\"], \"xaxis\": \"x\", \"y\": [0.5990039328840491], \"yaxis\": \"y\"}, {\"alignmentgroup\": \"True\", \"hoverlabel\": {\"namelength\": 0}, \"hovertemplate\": \"columna=%{x}<br>completitud=%{y}\", \"legendgroup\": \"columna=t_house_rules\", \"marker\": {\"color\": \"#131112\"}, \"name\": \"columna=t_house_rules\", \"offsetgroup\": \"columna=t_house_rules\", \"orientation\": \"v\", \"showlegend\": true, \"textposition\": \"auto\", \"type\": \"bar\", \"x\": [\"t_house_rules\"], \"xaxis\": \"x\", \"y\": [0.614221624933299], \"yaxis\": \"y\"}, {\"alignmentgroup\": \"True\", \"hoverlabel\": {\"namelength\": 0}, \"hovertemplate\": \"columna=%{x}<br>completitud=%{y}\", \"legendgroup\": \"columna=v_host_response_rate\", \"marker\": {\"color\": \"#200B04\"}, \"name\": \"columna=v_host_response_rate\", \"offsetgroup\": \"columna=v_host_response_rate\", \"orientation\": \"v\", \"showlegend\": true, \"textposition\": \"auto\", \"type\": \"bar\", \"x\": [\"v_host_response_rate\"], \"xaxis\": \"x\", \"y\": [0.6510207711614854], \"yaxis\": \"y\"}, {\"alignmentgroup\": \"True\", \"hoverlabel\": {\"namelength\": 0}, \"hovertemplate\": \"columna=%{x}<br>completitud=%{y}\", \"legendgroup\": \"columna=t_host_response_time\", \"marker\": {\"color\": \"#300F00\"}, \"name\": \"columna=t_host_response_time\", \"offsetgroup\": \"columna=t_host_response_time\", \"orientation\": \"v\", \"showlegend\": true, \"textposition\": \"auto\", \"type\": \"bar\", \"x\": [\"t_host_response_time\"], \"xaxis\": \"x\", \"y\": [0.6510207711614854], \"yaxis\": \"y\"}, {\"alignmentgroup\": \"True\", \"hoverlabel\": {\"namelength\": 0}, \"hovertemplate\": \"columna=%{x}<br>completitud=%{y}\", \"legendgroup\": \"columna=t_neighborhood_overview\", \"marker\": {\"color\": \"#421301\"}, \"name\": \"columna=t_neighborhood_overview\", \"offsetgroup\": \"columna=t_neighborhood_overview\", \"orientation\": \"v\", \"showlegend\": true, \"textposition\": \"auto\", \"type\": \"bar\", \"x\": [\"t_neighborhood_overview\"], \"xaxis\": \"x\", \"y\": [0.6547164963734461], \"yaxis\": \"y\"}, {\"alignmentgroup\": \"True\", \"hoverlabel\": {\"namelength\": 0}, \"hovertemplate\": \"columna=%{x}<br>completitud=%{y}\", \"legendgroup\": \"columna=c_security_deposit\", \"marker\": {\"color\": \"#571B06\"}, \"name\": \"columna=c_security_deposit\", \"offsetgroup\": \"columna=c_security_deposit\", \"orientation\": \"v\", \"showlegend\": true, \"textposition\": \"auto\", \"type\": \"bar\", \"x\": [\"c_security_deposit\"], \"xaxis\": \"x\", \"y\": [0.6547362596098737], \"yaxis\": \"y\"}, {\"alignmentgroup\": \"True\", \"hoverlabel\": {\"namelength\": 0}, \"hovertemplate\": \"columna=%{x}<br>completitud=%{y}\", \"legendgroup\": \"columna=t_transit\", \"marker\": {\"color\": \"#752D17\"}, \"name\": \"columna=t_transit\", \"offsetgroup\": \"columna=t_transit\", \"orientation\": \"v\", \"showlegend\": true, \"textposition\": \"auto\", \"type\": \"bar\", \"x\": [\"t_transit\"], \"xaxis\": \"x\", \"y\": [0.655803474376964], \"yaxis\": \"y\"}, {\"alignmentgroup\": \"True\", \"hoverlabel\": {\"namelength\": 0}, \"hovertemplate\": \"columna=%{x}<br>completitud=%{y}\", \"legendgroup\": \"columna=t_space\", \"marker\": {\"color\": \"#904430\"}, \"name\": \"columna=t_space\", \"offsetgroup\": \"columna=t_space\", \"orientation\": \"v\", \"showlegend\": true, \"textposition\": \"auto\", \"type\": \"bar\", \"x\": [\"t_space\"], \"xaxis\": \"x\", \"y\": [0.720646653095911], \"yaxis\": \"y\"}, {\"alignmentgroup\": \"True\", \"hoverlabel\": {\"namelength\": 0}, \"hovertemplate\": \"columna=%{x}<br>completitud=%{y}\", \"legendgroup\": \"columna=v_review_scores_location\", \"marker\": {\"color\": \"#AC5E4F\"}, \"name\": \"columna=v_review_scores_location\", \"offsetgroup\": \"columna=v_review_scores_location\", \"orientation\": \"v\", \"showlegend\": true, \"textposition\": \"auto\", \"type\": \"bar\", \"x\": [\"v_review_scores_location\"], \"xaxis\": \"x\", \"y\": [0.7782960137552125], \"yaxis\": \"y\"}, {\"alignmentgroup\": \"True\", \"hoverlabel\": {\"namelength\": 0}, \"hovertemplate\": \"columna=%{x}<br>completitud=%{y}\", \"legendgroup\": \"columna=v_review_scores_value\", \"marker\": {\"color\": \"#C6776C\"}, \"name\": \"columna=v_review_scores_value\", \"offsetgroup\": \"columna=v_review_scores_value\", \"orientation\": \"v\", \"showlegend\": true, \"textposition\": \"auto\", \"type\": \"bar\", \"x\": [\"v_review_scores_value\"], \"xaxis\": \"x\", \"y\": [0.7783157769916401], \"yaxis\": \"y\"}, {\"alignmentgroup\": \"True\", \"hoverlabel\": {\"namelength\": 0}, \"hovertemplate\": \"columna=%{x}<br>completitud=%{y}\", \"legendgroup\": \"columna=v_review_scores_checkin\", \"marker\": {\"color\": \"#E3938E\"}, \"name\": \"columna=v_review_scores_checkin\", \"offsetgroup\": \"columna=v_review_scores_checkin\", \"orientation\": \"v\", \"showlegend\": true, \"textposition\": \"auto\", \"type\": \"bar\", \"x\": [\"v_review_scores_checkin\"], \"xaxis\": \"x\", \"y\": [0.7783750667009229], \"yaxis\": \"y\"}, {\"alignmentgroup\": \"True\", \"hoverlabel\": {\"namelength\": 0}, \"hovertemplate\": \"columna=%{x}<br>completitud=%{y}\", \"legendgroup\": \"columna=v_review_scores_accuracy\", \"marker\": {\"color\": \"#FFADAD\"}, \"name\": \"columna=v_review_scores_accuracy\", \"offsetgroup\": \"columna=v_review_scores_accuracy\", \"orientation\": \"v\", \"showlegend\": true, \"textposition\": \"auto\", \"type\": \"bar\", \"x\": [\"v_review_scores_accuracy\"], \"xaxis\": \"x\", \"y\": [0.7786912784837645], \"yaxis\": \"y\"}, {\"alignmentgroup\": \"True\", \"hoverlabel\": {\"namelength\": 0}, \"hovertemplate\": \"columna=%{x}<br>completitud=%{y}\", \"legendgroup\": \"columna=v_review_scores_communication\", \"marker\": {\"color\": \"#9EB0FF\"}, \"name\": \"columna=v_review_scores_communication\", \"offsetgroup\": \"columna=v_review_scores_communication\", \"orientation\": \"v\", \"showlegend\": true, \"textposition\": \"auto\", \"type\": \"bar\", \"x\": [\"v_review_scores_communication\"], \"xaxis\": \"x\", \"y\": [0.7787505681930473], \"yaxis\": \"y\"}, {\"alignmentgroup\": \"True\", \"hoverlabel\": {\"namelength\": 0}, \"hovertemplate\": \"columna=%{x}<br>completitud=%{y}\", \"legendgroup\": \"columna=v_review_scores_cleanliness\", \"marker\": {\"color\": \"#80ACF1\"}, \"name\": \"columna=v_review_scores_cleanliness\", \"offsetgroup\": \"columna=v_review_scores_cleanliness\", \"orientation\": \"v\", \"showlegend\": true, \"textposition\": \"auto\", \"type\": \"bar\", \"x\": [\"v_review_scores_cleanliness\"], \"xaxis\": \"x\", \"y\": [0.7789679637937509], \"yaxis\": \"y\"}, {\"alignmentgroup\": \"True\", \"hoverlabel\": {\"namelength\": 0}, \"hovertemplate\": \"columna=%{x}<br>completitud=%{y}\", \"legendgroup\": \"columna=v_review_scores_rating\", \"marker\": {\"color\": \"#5DA5DD\"}, \"name\": \"columna=v_review_scores_rating\", \"offsetgroup\": \"columna=v_review_scores_rating\", \"orientation\": \"v\", \"showlegend\": true, \"textposition\": \"auto\", \"type\": \"bar\", \"x\": [\"v_review_scores_rating\"], \"xaxis\": \"x\", \"y\": [0.779402754995158], \"yaxis\": \"y\"}, {\"alignmentgroup\": \"True\", \"hoverlabel\": {\"namelength\": 0}, \"hovertemplate\": \"columna=%{x}<br>completitud=%{y}\", \"legendgroup\": \"columna=c_cleaning_fee\", \"marker\": {\"color\": \"#4194C1\"}, \"name\": \"columna=c_cleaning_fee\", \"offsetgroup\": \"columna=c_cleaning_fee\", \"orientation\": \"v\", \"showlegend\": true, \"textposition\": \"auto\", \"type\": \"bar\", \"x\": [\"c_cleaning_fee\"], \"xaxis\": \"x\", \"y\": [0.7926638866380759], \"yaxis\": \"y\"}, {\"alignmentgroup\": \"True\", \"hoverlabel\": {\"namelength\": 0}, \"hovertemplate\": \"columna=%{x}<br>completitud=%{y}\", \"legendgroup\": \"columna=d_last_review\", \"marker\": {\"color\": \"#307A9E\"}, \"name\": \"columna=d_last_review\", \"offsetgroup\": \"columna=d_last_review\", \"orientation\": \"v\", \"showlegend\": true, \"textposition\": \"auto\", \"type\": \"bar\", \"x\": [\"d_last_review\"], \"xaxis\": \"x\", \"y\": [0.7980197237099548], \"yaxis\": \"y\"}, {\"alignmentgroup\": \"True\", \"hoverlabel\": {\"namelength\": 0}, \"hovertemplate\": \"columna=%{x}<br>completitud=%{y}\", \"legendgroup\": \"columna=d_first_review\", \"marker\": {\"color\": \"#26627F\"}, \"name\": \"columna=d_first_review\", \"offsetgroup\": \"columna=d_first_review\", \"orientation\": \"v\", \"showlegend\": true, \"textposition\": \"auto\", \"type\": \"bar\", \"x\": [\"d_first_review\"], \"xaxis\": \"x\", \"y\": [0.7980197237099548], \"yaxis\": \"y\"}, {\"alignmentgroup\": \"True\", \"hoverlabel\": {\"namelength\": 0}, \"hovertemplate\": \"columna=%{x}<br>completitud=%{y}\", \"legendgroup\": \"columna=v_reviews_per_month\", \"marker\": {\"color\": \"#1C495F\"}, \"name\": \"columna=v_reviews_per_month\", \"offsetgroup\": \"columna=v_reviews_per_month\", \"orientation\": \"v\", \"showlegend\": true, \"textposition\": \"auto\", \"type\": \"bar\", \"x\": [\"v_reviews_per_month\"], \"xaxis\": \"x\", \"y\": [0.7980197237099548], \"yaxis\": \"y\"}, {\"alignmentgroup\": \"True\", \"hoverlabel\": {\"namelength\": 0}, \"hovertemplate\": \"columna=%{x}<br>completitud=%{y}\", \"legendgroup\": \"columna=t_host_neighbourhood\", \"marker\": {\"color\": \"#153342\"}, \"name\": \"columna=t_host_neighbourhood\", \"offsetgroup\": \"columna=t_host_neighbourhood\", \"orientation\": \"v\", \"showlegend\": true, \"textposition\": \"auto\", \"type\": \"bar\", \"x\": [\"t_host_neighbourhood\"], \"xaxis\": \"x\", \"y\": [0.8614399494061147], \"yaxis\": \"y\"}, {\"alignmentgroup\": \"True\", \"hoverlabel\": {\"namelength\": 0}, \"hovertemplate\": \"columna=%{x}<br>completitud=%{y}\", \"legendgroup\": \"columna=t_summary\", \"marker\": {\"color\": \"#112028\"}, \"name\": \"columna=t_summary\", \"offsetgroup\": \"columna=t_summary\", \"orientation\": \"v\", \"showlegend\": true, \"textposition\": \"auto\", \"type\": \"bar\", \"x\": [\"t_summary\"], \"xaxis\": \"x\", \"y\": [0.9558884562936026], \"yaxis\": \"y\"}, {\"alignmentgroup\": \"True\", \"hoverlabel\": {\"namelength\": 0}, \"hovertemplate\": \"columna=%{x}<br>completitud=%{y}\", \"legendgroup\": \"columna=t_description\", \"marker\": {\"color\": \"#131112\"}, \"name\": \"columna=t_description\", \"offsetgroup\": \"columna=t_description\", \"orientation\": \"v\", \"showlegend\": true, \"textposition\": \"auto\", \"type\": \"bar\", \"x\": [\"t_description\"], \"xaxis\": \"x\", \"y\": [0.9796043400067195], \"yaxis\": \"y\"}, {\"alignmentgroup\": \"True\", \"hoverlabel\": {\"namelength\": 0}, \"hovertemplate\": \"columna=%{x}<br>completitud=%{y}\", \"legendgroup\": \"columna=t_host_location\", \"marker\": {\"color\": \"#200B04\"}, \"name\": \"columna=t_host_location\", \"offsetgroup\": \"columna=t_host_location\", \"orientation\": \"v\", \"showlegend\": true, \"textposition\": \"auto\", \"type\": \"bar\", \"x\": [\"t_host_location\"], \"xaxis\": \"x\", \"y\": [0.9858890491906954], \"yaxis\": \"y\"}, {\"alignmentgroup\": \"True\", \"hoverlabel\": {\"namelength\": 0}, \"hovertemplate\": \"columna=%{x}<br>completitud=%{y}\", \"legendgroup\": \"columna=c_host_total_listings_count\", \"marker\": {\"color\": \"#300F00\"}, \"name\": \"columna=c_host_total_listings_count\", \"offsetgroup\": \"columna=c_host_total_listings_count\", \"orientation\": \"v\", \"showlegend\": true, \"textposition\": \"auto\", \"type\": \"bar\", \"x\": [\"c_host_total_listings_count\"], \"xaxis\": \"x\", \"y\": [0.9888732978912627], \"yaxis\": \"y\"}, {\"alignmentgroup\": \"True\", \"hoverlabel\": {\"namelength\": 0}, \"hovertemplate\": \"columna=%{x}<br>completitud=%{y}\", \"legendgroup\": \"columna=v_host_identity_verified\", \"marker\": {\"color\": \"#421301\"}, \"name\": \"columna=v_host_identity_verified\", \"offsetgroup\": \"columna=v_host_identity_verified\", \"orientation\": \"v\", \"showlegend\": true, \"textposition\": \"auto\", \"type\": \"bar\", \"x\": [\"v_host_identity_verified\"], \"xaxis\": \"x\", \"y\": [0.9888732978912627], \"yaxis\": \"y\"}, {\"alignmentgroup\": \"True\", \"hoverlabel\": {\"namelength\": 0}, \"hovertemplate\": \"columna=%{x}<br>completitud=%{y}\", \"legendgroup\": \"columna=v_host_has_profile_pic\", \"marker\": {\"color\": \"#571B06\"}, \"name\": \"columna=v_host_has_profile_pic\", \"offsetgroup\": \"columna=v_host_has_profile_pic\", \"orientation\": \"v\", \"showlegend\": true, \"textposition\": \"auto\", \"type\": \"bar\", \"x\": [\"v_host_has_profile_pic\"], \"xaxis\": \"x\", \"y\": [0.9888732978912627], \"yaxis\": \"y\"}, {\"alignmentgroup\": \"True\", \"hoverlabel\": {\"namelength\": 0}, \"hovertemplate\": \"columna=%{x}<br>completitud=%{y}\", \"legendgroup\": \"columna=c_host_listings_count\", \"marker\": {\"color\": \"#752D17\"}, \"name\": \"columna=c_host_listings_count\", \"offsetgroup\": \"columna=c_host_listings_count\", \"orientation\": \"v\", \"showlegend\": true, \"textposition\": \"auto\", \"type\": \"bar\", \"x\": [\"c_host_listings_count\"], \"xaxis\": \"x\", \"y\": [0.9888732978912627], \"yaxis\": \"y\"}, {\"alignmentgroup\": \"True\", \"hoverlabel\": {\"namelength\": 0}, \"hovertemplate\": \"columna=%{x}<br>completitud=%{y}\", \"legendgroup\": \"columna=v_host_is_superhost\", \"marker\": {\"color\": \"#904430\"}, \"name\": \"columna=v_host_is_superhost\", \"offsetgroup\": \"columna=v_host_is_superhost\", \"orientation\": \"v\", \"showlegend\": true, \"textposition\": \"auto\", \"type\": \"bar\", \"x\": [\"v_host_is_superhost\"], \"xaxis\": \"x\", \"y\": [0.9888732978912627], \"yaxis\": \"y\"}, {\"alignmentgroup\": \"True\", \"hoverlabel\": {\"namelength\": 0}, \"hovertemplate\": \"columna=%{x}<br>completitud=%{y}\", \"legendgroup\": \"columna=d_host_since\", \"marker\": {\"color\": \"#AC5E4F\"}, \"name\": \"columna=d_host_since\", \"offsetgroup\": \"columna=d_host_since\", \"orientation\": \"v\", \"showlegend\": true, \"textposition\": \"auto\", \"type\": \"bar\", \"x\": [\"d_host_since\"], \"xaxis\": \"x\", \"y\": [0.9888732978912627], \"yaxis\": \"y\"}, {\"alignmentgroup\": \"True\", \"hoverlabel\": {\"namelength\": 0}, \"hovertemplate\": \"columna=%{x}<br>completitud=%{y}\", \"legendgroup\": \"columna=t_host_name\", \"marker\": {\"color\": \"#C6776C\"}, \"name\": \"columna=t_host_name\", \"offsetgroup\": \"columna=t_host_name\", \"orientation\": \"v\", \"showlegend\": true, \"textposition\": \"auto\", \"type\": \"bar\", \"x\": [\"t_host_name\"], \"xaxis\": \"x\", \"y\": [0.9888732978912627], \"yaxis\": \"y\"}, {\"alignmentgroup\": \"True\", \"hoverlabel\": {\"namelength\": 0}, \"hovertemplate\": \"columna=%{x}<br>completitud=%{y}\", \"legendgroup\": \"columna=v_zipcode\", \"marker\": {\"color\": \"#E3938E\"}, \"name\": \"columna=v_zipcode\", \"offsetgroup\": \"columna=v_zipcode\", \"orientation\": \"v\", \"showlegend\": true, \"textposition\": \"auto\", \"type\": \"bar\", \"x\": [\"v_zipcode\"], \"xaxis\": \"x\", \"y\": [0.9908100950611672], \"yaxis\": \"y\"}, {\"alignmentgroup\": \"True\", \"hoverlabel\": {\"namelength\": 0}, \"hovertemplate\": \"columna=%{x}<br>completitud=%{y}\", \"legendgroup\": \"columna=v_beds\", \"marker\": {\"color\": \"#FFADAD\"}, \"name\": \"columna=v_beds\", \"offsetgroup\": \"columna=v_beds\", \"orientation\": \"v\", \"showlegend\": true, \"textposition\": \"auto\", \"type\": \"bar\", \"x\": [\"v_beds\"], \"xaxis\": \"x\", \"y\": [0.9973912527915572], \"yaxis\": \"y\"}, {\"alignmentgroup\": \"True\", \"hoverlabel\": {\"namelength\": 0}, \"hovertemplate\": \"columna=%{x}<br>completitud=%{y}\", \"legendgroup\": \"columna=t_city\", \"marker\": {\"color\": \"#9EB0FF\"}, \"name\": \"columna=t_city\", \"offsetgroup\": \"columna=t_city\", \"orientation\": \"v\", \"showlegend\": true, \"textposition\": \"auto\", \"type\": \"bar\", \"x\": [\"t_city\"], \"xaxis\": \"x\", \"y\": [0.99745054250084], \"yaxis\": \"y\"}, {\"alignmentgroup\": \"True\", \"hoverlabel\": {\"namelength\": 0}, \"hovertemplate\": \"columna=%{x}<br>completitud=%{y}\", \"legendgroup\": \"columna=t_market\", \"marker\": {\"color\": \"#80ACF1\"}, \"name\": \"columna=t_market\", \"offsetgroup\": \"columna=t_market\", \"orientation\": \"v\", \"showlegend\": true, \"textposition\": \"auto\", \"type\": \"bar\", \"x\": [\"t_market\"], \"xaxis\": \"x\", \"y\": [0.9979643866479575], \"yaxis\": \"y\"}, {\"alignmentgroup\": \"True\", \"hoverlabel\": {\"namelength\": 0}, \"hovertemplate\": \"columna=%{x}<br>completitud=%{y}\", \"legendgroup\": \"columna=v_bedrooms\", \"marker\": {\"color\": \"#5DA5DD\"}, \"name\": \"columna=v_bedrooms\", \"offsetgroup\": \"columna=v_bedrooms\", \"orientation\": \"v\", \"showlegend\": true, \"textposition\": \"auto\", \"type\": \"bar\", \"x\": [\"v_bedrooms\"], \"xaxis\": \"x\", \"y\": [0.9987549161050614], \"yaxis\": \"y\"}, {\"alignmentgroup\": \"True\", \"hoverlabel\": {\"namelength\": 0}, \"hovertemplate\": \"columna=%{x}<br>completitud=%{y}\", \"legendgroup\": \"columna=c_bathrooms\", \"marker\": {\"color\": \"#4194C1\"}, \"name\": \"columna=c_bathrooms\", \"offsetgroup\": \"columna=c_bathrooms\", \"orientation\": \"v\", \"showlegend\": true, \"textposition\": \"auto\", \"type\": \"bar\", \"x\": [\"c_bathrooms\"], \"xaxis\": \"x\", \"y\": [0.9989920749421926], \"yaxis\": \"y\"}, {\"alignmentgroup\": \"True\", \"hoverlabel\": {\"namelength\": 0}, \"hovertemplate\": \"columna=%{x}<br>completitud=%{y}\", \"legendgroup\": \"columna=t_name\", \"marker\": {\"color\": \"#307A9E\"}, \"name\": \"columna=t_name\", \"offsetgroup\": \"columna=t_name\", \"orientation\": \"v\", \"showlegend\": true, \"textposition\": \"auto\", \"type\": \"bar\", \"x\": [\"t_name\"], \"xaxis\": \"x\", \"y\": [0.9996640249807308], \"yaxis\": \"y\"}, {\"alignmentgroup\": \"True\", \"hoverlabel\": {\"namelength\": 0}, \"hovertemplate\": \"columna=%{x}<br>completitud=%{y}\", \"legendgroup\": \"columna=t_neighbourhood\", \"marker\": {\"color\": \"#26627F\"}, \"name\": \"columna=t_neighbourhood\", \"offsetgroup\": \"columna=t_neighbourhood\", \"orientation\": \"v\", \"showlegend\": true, \"textposition\": \"auto\", \"type\": \"bar\", \"x\": [\"t_neighbourhood\"], \"xaxis\": \"x\", \"y\": [0.9997826043992964], \"yaxis\": \"y\"}, {\"alignmentgroup\": \"True\", \"hoverlabel\": {\"namelength\": 0}, \"hovertemplate\": \"columna=%{x}<br>completitud=%{y}\", \"legendgroup\": \"columna=t_state\", \"marker\": {\"color\": \"#1C495F\"}, \"name\": \"columna=t_state\", \"offsetgroup\": \"columna=t_state\", \"orientation\": \"v\", \"showlegend\": true, \"textposition\": \"auto\", \"type\": \"bar\", \"x\": [\"t_state\"], \"xaxis\": \"x\", \"y\": [0.999901183817862], \"yaxis\": \"y\"}],\n",
              "                        {\"barmode\": \"relative\", \"legend\": {\"tracegroupgap\": 0}, \"template\": {\"data\": {\"bar\": [{\"error_x\": {\"color\": \"#2a3f5f\"}, \"error_y\": {\"color\": \"#2a3f5f\"}, \"marker\": {\"line\": {\"color\": \"#E5ECF6\", \"width\": 0.5}}, \"type\": \"bar\"}], \"barpolar\": [{\"marker\": {\"line\": {\"color\": \"#E5ECF6\", \"width\": 0.5}}, \"type\": \"barpolar\"}], \"carpet\": [{\"aaxis\": {\"endlinecolor\": \"#2a3f5f\", \"gridcolor\": \"white\", \"linecolor\": \"white\", \"minorgridcolor\": \"white\", \"startlinecolor\": \"#2a3f5f\"}, \"baxis\": {\"endlinecolor\": \"#2a3f5f\", \"gridcolor\": \"white\", \"linecolor\": \"white\", \"minorgridcolor\": \"white\", \"startlinecolor\": \"#2a3f5f\"}, \"type\": \"carpet\"}], \"choropleth\": [{\"colorbar\": {\"outlinewidth\": 0, \"ticks\": \"\"}, \"type\": \"choropleth\"}], \"contour\": [{\"colorbar\": {\"outlinewidth\": 0, \"ticks\": \"\"}, \"colorscale\": [[0.0, \"#0d0887\"], [0.1111111111111111, \"#46039f\"], [0.2222222222222222, \"#7201a8\"], [0.3333333333333333, \"#9c179e\"], [0.4444444444444444, \"#bd3786\"], [0.5555555555555556, \"#d8576b\"], [0.6666666666666666, \"#ed7953\"], [0.7777777777777778, \"#fb9f3a\"], [0.8888888888888888, \"#fdca26\"], [1.0, \"#f0f921\"]], \"type\": \"contour\"}], \"contourcarpet\": [{\"colorbar\": {\"outlinewidth\": 0, \"ticks\": \"\"}, \"type\": \"contourcarpet\"}], \"heatmap\": [{\"colorbar\": {\"outlinewidth\": 0, \"ticks\": \"\"}, \"colorscale\": [[0.0, \"#0d0887\"], [0.1111111111111111, \"#46039f\"], [0.2222222222222222, \"#7201a8\"], [0.3333333333333333, \"#9c179e\"], [0.4444444444444444, \"#bd3786\"], [0.5555555555555556, \"#d8576b\"], [0.6666666666666666, \"#ed7953\"], [0.7777777777777778, \"#fb9f3a\"], [0.8888888888888888, \"#fdca26\"], [1.0, \"#f0f921\"]], \"type\": \"heatmap\"}], \"heatmapgl\": [{\"colorbar\": {\"outlinewidth\": 0, \"ticks\": \"\"}, \"colorscale\": [[0.0, \"#0d0887\"], [0.1111111111111111, \"#46039f\"], [0.2222222222222222, \"#7201a8\"], [0.3333333333333333, \"#9c179e\"], [0.4444444444444444, \"#bd3786\"], [0.5555555555555556, \"#d8576b\"], [0.6666666666666666, \"#ed7953\"], [0.7777777777777778, \"#fb9f3a\"], [0.8888888888888888, \"#fdca26\"], [1.0, \"#f0f921\"]], \"type\": \"heatmapgl\"}], \"histogram\": [{\"marker\": {\"colorbar\": {\"outlinewidth\": 0, \"ticks\": \"\"}}, \"type\": \"histogram\"}], \"histogram2d\": [{\"colorbar\": {\"outlinewidth\": 0, \"ticks\": \"\"}, \"colorscale\": [[0.0, \"#0d0887\"], [0.1111111111111111, \"#46039f\"], [0.2222222222222222, \"#7201a8\"], [0.3333333333333333, \"#9c179e\"], [0.4444444444444444, \"#bd3786\"], [0.5555555555555556, \"#d8576b\"], [0.6666666666666666, \"#ed7953\"], [0.7777777777777778, \"#fb9f3a\"], [0.8888888888888888, \"#fdca26\"], [1.0, \"#f0f921\"]], \"type\": \"histogram2d\"}], \"histogram2dcontour\": [{\"colorbar\": {\"outlinewidth\": 0, \"ticks\": \"\"}, \"colorscale\": [[0.0, \"#0d0887\"], [0.1111111111111111, \"#46039f\"], [0.2222222222222222, \"#7201a8\"], [0.3333333333333333, \"#9c179e\"], [0.4444444444444444, \"#bd3786\"], [0.5555555555555556, \"#d8576b\"], [0.6666666666666666, \"#ed7953\"], [0.7777777777777778, \"#fb9f3a\"], [0.8888888888888888, \"#fdca26\"], [1.0, \"#f0f921\"]], \"type\": \"histogram2dcontour\"}], \"mesh3d\": [{\"colorbar\": {\"outlinewidth\": 0, \"ticks\": \"\"}, \"type\": \"mesh3d\"}], \"parcoords\": [{\"line\": {\"colorbar\": {\"outlinewidth\": 0, \"ticks\": \"\"}}, \"type\": \"parcoords\"}], \"pie\": [{\"automargin\": true, \"type\": \"pie\"}], \"scatter\": [{\"marker\": {\"colorbar\": {\"outlinewidth\": 0, \"ticks\": \"\"}}, \"type\": \"scatter\"}], \"scatter3d\": [{\"line\": {\"colorbar\": {\"outlinewidth\": 0, \"ticks\": \"\"}}, \"marker\": {\"colorbar\": {\"outlinewidth\": 0, \"ticks\": \"\"}}, \"type\": \"scatter3d\"}], \"scattercarpet\": [{\"marker\": {\"colorbar\": {\"outlinewidth\": 0, \"ticks\": \"\"}}, \"type\": \"scattercarpet\"}], \"scattergeo\": [{\"marker\": {\"colorbar\": {\"outlinewidth\": 0, \"ticks\": \"\"}}, \"type\": \"scattergeo\"}], \"scattergl\": [{\"marker\": {\"colorbar\": {\"outlinewidth\": 0, \"ticks\": \"\"}}, \"type\": \"scattergl\"}], \"scattermapbox\": [{\"marker\": {\"colorbar\": {\"outlinewidth\": 0, \"ticks\": \"\"}}, \"type\": \"scattermapbox\"}], \"scatterpolar\": [{\"marker\": {\"colorbar\": {\"outlinewidth\": 0, \"ticks\": \"\"}}, \"type\": \"scatterpolar\"}], \"scatterpolargl\": [{\"marker\": {\"colorbar\": {\"outlinewidth\": 0, \"ticks\": \"\"}}, \"type\": \"scatterpolargl\"}], \"scatterternary\": [{\"marker\": {\"colorbar\": {\"outlinewidth\": 0, \"ticks\": \"\"}}, \"type\": \"scatterternary\"}], \"surface\": [{\"colorbar\": {\"outlinewidth\": 0, \"ticks\": \"\"}, \"colorscale\": [[0.0, \"#0d0887\"], [0.1111111111111111, \"#46039f\"], [0.2222222222222222, \"#7201a8\"], [0.3333333333333333, \"#9c179e\"], [0.4444444444444444, \"#bd3786\"], [0.5555555555555556, \"#d8576b\"], [0.6666666666666666, \"#ed7953\"], [0.7777777777777778, \"#fb9f3a\"], [0.8888888888888888, \"#fdca26\"], [1.0, \"#f0f921\"]], \"type\": \"surface\"}], \"table\": [{\"cells\": {\"fill\": {\"color\": \"#EBF0F8\"}, \"line\": {\"color\": \"white\"}}, \"header\": {\"fill\": {\"color\": \"#C8D4E3\"}, \"line\": {\"color\": \"white\"}}, \"type\": \"table\"}]}, \"layout\": {\"annotationdefaults\": {\"arrowcolor\": \"#2a3f5f\", \"arrowhead\": 0, \"arrowwidth\": 1}, \"coloraxis\": {\"colorbar\": {\"outlinewidth\": 0, \"ticks\": \"\"}}, \"colorscale\": {\"diverging\": [[0, \"#8e0152\"], [0.1, \"#c51b7d\"], [0.2, \"#de77ae\"], [0.3, \"#f1b6da\"], [0.4, \"#fde0ef\"], [0.5, \"#f7f7f7\"], [0.6, \"#e6f5d0\"], [0.7, \"#b8e186\"], [0.8, \"#7fbc41\"], [0.9, \"#4d9221\"], [1, \"#276419\"]], \"sequential\": [[0.0, \"#0d0887\"], [0.1111111111111111, \"#46039f\"], [0.2222222222222222, \"#7201a8\"], [0.3333333333333333, \"#9c179e\"], [0.4444444444444444, \"#bd3786\"], [0.5555555555555556, \"#d8576b\"], [0.6666666666666666, \"#ed7953\"], [0.7777777777777778, \"#fb9f3a\"], [0.8888888888888888, \"#fdca26\"], [1.0, \"#f0f921\"]], \"sequentialminus\": [[0.0, \"#0d0887\"], [0.1111111111111111, \"#46039f\"], [0.2222222222222222, \"#7201a8\"], [0.3333333333333333, \"#9c179e\"], [0.4444444444444444, \"#bd3786\"], [0.5555555555555556, \"#d8576b\"], [0.6666666666666666, \"#ed7953\"], [0.7777777777777778, \"#fb9f3a\"], [0.8888888888888888, \"#fdca26\"], [1.0, \"#f0f921\"]]}, \"colorway\": [\"#636efa\", \"#EF553B\", \"#00cc96\", \"#ab63fa\", \"#FFA15A\", \"#19d3f3\", \"#FF6692\", \"#B6E880\", \"#FF97FF\", \"#FECB52\"], \"font\": {\"color\": \"#2a3f5f\"}, \"geo\": {\"bgcolor\": \"white\", \"lakecolor\": \"white\", \"landcolor\": \"#E5ECF6\", \"showlakes\": true, \"showland\": true, \"subunitcolor\": \"white\"}, \"hoverlabel\": {\"align\": \"left\"}, \"hovermode\": \"closest\", \"mapbox\": {\"style\": \"light\"}, \"paper_bgcolor\": \"white\", \"plot_bgcolor\": \"#E5ECF6\", \"polar\": {\"angularaxis\": {\"gridcolor\": \"white\", \"linecolor\": \"white\", \"ticks\": \"\"}, \"bgcolor\": \"#E5ECF6\", \"radialaxis\": {\"gridcolor\": \"white\", \"linecolor\": \"white\", \"ticks\": \"\"}}, \"scene\": {\"xaxis\": {\"backgroundcolor\": \"#E5ECF6\", \"gridcolor\": \"white\", \"gridwidth\": 2, \"linecolor\": \"white\", \"showbackground\": true, \"ticks\": \"\", \"zerolinecolor\": \"white\"}, \"yaxis\": {\"backgroundcolor\": \"#E5ECF6\", \"gridcolor\": \"white\", \"gridwidth\": 2, \"linecolor\": \"white\", \"showbackground\": true, \"ticks\": \"\", \"zerolinecolor\": \"white\"}, \"zaxis\": {\"backgroundcolor\": \"#E5ECF6\", \"gridcolor\": \"white\", \"gridwidth\": 2, \"linecolor\": \"white\", \"showbackground\": true, \"ticks\": \"\", \"zerolinecolor\": \"white\"}}, \"shapedefaults\": {\"line\": {\"color\": \"#2a3f5f\"}}, \"ternary\": {\"aaxis\": {\"gridcolor\": \"white\", \"linecolor\": \"white\", \"ticks\": \"\"}, \"baxis\": {\"gridcolor\": \"white\", \"linecolor\": \"white\", \"ticks\": \"\"}, \"bgcolor\": \"#E5ECF6\", \"caxis\": {\"gridcolor\": \"white\", \"linecolor\": \"white\", \"ticks\": \"\"}}, \"title\": {\"x\": 0.05}, \"xaxis\": {\"automargin\": true, \"gridcolor\": \"white\", \"linecolor\": \"white\", \"ticks\": \"\", \"title\": {\"standoff\": 15}, \"zerolinecolor\": \"white\", \"zerolinewidth\": 2}, \"yaxis\": {\"automargin\": true, \"gridcolor\": \"white\", \"linecolor\": \"white\", \"ticks\": \"\", \"title\": {\"standoff\": 15}, \"zerolinecolor\": \"white\", \"zerolinewidth\": 2}}}, \"title\": {\"text\": \"COMPLETITUD\"}, \"xaxis\": {\"anchor\": \"y\", \"categoryarray\": [\"v_host_acceptance_rate\", \"t_jurisdiction_names\", \"c_square_feet\", \"c_monthly_price\", \"c_weekly_price\", \"t_notes\", \"t_access\", \"t_interaction\", \"t_host_about\", \"t_house_rules\", \"v_host_response_rate\", \"t_host_response_time\", \"t_neighborhood_overview\", \"c_security_deposit\", \"t_transit\", \"t_space\", \"v_review_scores_location\", \"v_review_scores_value\", \"v_review_scores_checkin\", \"v_review_scores_accuracy\", \"v_review_scores_communication\", \"v_review_scores_cleanliness\", \"v_review_scores_rating\", \"c_cleaning_fee\", \"d_last_review\", \"d_first_review\", \"v_reviews_per_month\", \"t_host_neighbourhood\", \"t_summary\", \"t_description\", \"t_host_location\", \"c_host_total_listings_count\", \"v_host_identity_verified\", \"v_host_has_profile_pic\", \"c_host_listings_count\", \"v_host_is_superhost\", \"d_host_since\", \"t_host_name\", \"v_zipcode\", \"v_beds\", \"t_city\", \"t_market\", \"v_bedrooms\", \"c_bathrooms\", \"t_name\", \"t_neighbourhood\", \"t_state\"], \"categoryorder\": \"array\", \"domain\": [0.0, 1.0], \"title\": {\"text\": \"columna\"}}, \"yaxis\": {\"anchor\": \"x\", \"domain\": [0.0, 1.0], \"tickformat\": \".2%\", \"title\": {\"text\": \"completitud\"}}},\n",
              "                        {\"responsive\": true}\n",
              "                    ).then(function(){\n",
              "                            \n",
              "var gd = document.getElementById('bdf72384-0799-4b8a-9fc8-ed1b72ca0ad3');\n",
              "var x = new MutationObserver(function (mutations, observer) {{\n",
              "        var display = window.getComputedStyle(gd).display;\n",
              "        if (!display || display === 'none') {{\n",
              "            console.log([gd, 'removed!']);\n",
              "            Plotly.purge(gd);\n",
              "            observer.disconnect();\n",
              "        }}\n",
              "}});\n",
              "\n",
              "// Listen for the removal of the full notebook cells\n",
              "var notebookContainer = gd.closest('#notebook-container');\n",
              "if (notebookContainer) {{\n",
              "    x.observe(notebookContainer, {childList: true});\n",
              "}}\n",
              "\n",
              "// Listen for the clearing of the current output cell\n",
              "var outputEl = gd.closest('.output');\n",
              "if (outputEl) {{\n",
              "    x.observe(outputEl, {childList: true});\n",
              "}}\n",
              "\n",
              "                        })\n",
              "                };\n",
              "                \n",
              "            </script>\n",
              "        </div>\n",
              "</body>\n",
              "</html>"
            ]
          },
          "metadata": {
            "tags": []
          }
        }
      ]
    },
    {
      "cell_type": "markdown",
      "metadata": {
        "id": "Osh6FFMSpvy6"
      },
      "source": [
        "Eliminamos variables con completitud menor al 80%"
      ]
    },
    {
      "cell_type": "code",
      "metadata": {
        "id": "hBeDMw_u2Dxd"
      },
      "source": [
        "incompletas=cp['columna'][cp['completitud']<.80].tolist()\n",
        "df=df.drop(incompletas, axis=1)"
      ],
      "execution_count": null,
      "outputs": []
    },
    {
      "cell_type": "code",
      "metadata": {
        "id": "o81VNtaB2Mvn"
      },
      "source": [
        "# Permitimos mostrar todas las columnas del dataset\n",
        "pd.options.display.max_columns = None"
      ],
      "execution_count": null,
      "outputs": []
    },
    {
      "cell_type": "code",
      "metadata": {
        "colab": {
          "base_uri": "https://localhost:8080/"
        },
        "id": "Ad_otDhL2M-7",
        "outputId": "45066a01-7ce7-4739-e49f-f20e7329147d"
      },
      "source": [
        "df.shape"
      ],
      "execution_count": null,
      "outputs": [
        {
          "output_type": "execute_result",
          "data": {
            "text/plain": [
              "(50599, 67)"
            ]
          },
          "metadata": {
            "tags": []
          },
          "execution_count": 12
        }
      ]
    },
    {
      "cell_type": "markdown",
      "metadata": {
        "id": "qFEYmZLMqpST"
      },
      "source": [
        "## Tratamiento de variables"
      ]
    },
    {
      "cell_type": "markdown",
      "metadata": {
        "id": "QF81la5oqzBv"
      },
      "source": [
        "\n",
        "\n",
        "\n",
        "Utilizamos un generador para inspeccionar y clasificar variables:"
      ]
    },
    {
      "cell_type": "code",
      "metadata": {
        "id": "beX1nmR_bZv1"
      },
      "source": [
        "counts = count_generator()"
      ],
      "execution_count": null,
      "outputs": []
    },
    {
      "cell_type": "code",
      "metadata": {
        "colab": {
          "base_uri": "https://localhost:8080/"
        },
        "id": "Cs3UkbxhbZfs",
        "outputId": "5452e428-27b9-484a-d131-4a3cd8fdbcec"
      },
      "source": [
        "next(counts)"
      ],
      "execution_count": null,
      "outputs": [
        {
          "output_type": "execute_result",
          "data": {
            "text/plain": [
              "2019-12-06    0.473527\n",
              "2019-12-05    0.429297\n",
              "2019-12-04    0.086523\n",
              "2019-12-07    0.010652\n",
              "Name: d_last_scraped, dtype: float64"
            ]
          },
          "metadata": {
            "tags": []
          },
          "execution_count": 14
        }
      ]
    },
    {
      "cell_type": "code",
      "metadata": {
        "id": "DvK1qmPo2M1Y"
      },
      "source": [
        "eliminar = ['t_experiences_offered',\n",
        "            't_host_location',\n",
        "            't_street',\n",
        "            't_host_neighbourhood',\n",
        "            't_city',\n",
        "            't_state',\n",
        "            't_smart_location',\n",
        "            't_market',\n",
        "            't_country_code',\n",
        "            't_country',\n",
        "            'v_bed_type',\n",
        "            't_host_name',\n",
        "            \"d_last_scraped\",\n",
        "            \"v_host_has_profile_pic\",\n",
        "            \"v_is_location_exact\",\n",
        "            \"c_bathrooms\",\n",
        "            \"v_has_availability\",\n",
        "            \"d_calendar_last_scraped\",\n",
        "            \"v_requires_license\",\n",
        "            \"v_is_business_travel_ready\",\n",
        "            \"v_require_guest_profile_picture\",\n",
        "            \"v_require_guest_phone_verification\",\n",
        "            \"v_calculated_host_listings_count_shared_rooms\"\n",
        "            ]\n",
        "\n",
        "conservar = ['t_name', \n",
        "             't_summary',\n",
        "             't_description',\n",
        "             't_host_verifications',\n",
        "             't_neighbourhood',\n",
        "             'v_neighbourhood_cleansed',\n",
        "             't_neighbourhood_group_cleansed',\n",
        "             'v_property_type',\n",
        "             'v_room_type',\n",
        "             't_amenities',\n",
        "             'v_calendar_updated',\n",
        "             'v_cancellation_policy',\n",
        "             \"d_host_since\",\n",
        "             \"v_host_is_superhost\",\n",
        "             \"c_host_listings_count\",\n",
        "             \"c_host_total_listings_count\",\n",
        "             \"v_host_identity_verified\",\n",
        "             \"v_zipcode\",\n",
        "             \"c_latitude\",\n",
        "             \"c_longitude\",\n",
        "             \"v_accommodates\",\n",
        "             \"v_bedrooms\",\n",
        "             \"v_beds\",\n",
        "             \"c_price\",\n",
        "             \"v_guests_included\",\n",
        "             \"c_extra_people\",\n",
        "             'v_minimum_nights',\n",
        "             'v_maximum_nights',\n",
        "             'v_minimum_minimum_nights',\n",
        "             'v_maximum_minimum_nights',\n",
        "             'v_minimum_maximum_nights',\n",
        "             'v_maximum_maximum_nights',\n",
        "             'c_minimum_nights_avg_ntm',\n",
        "             'c_maximum_nights_avg_ntm',\n",
        "             'v_availability_30',\n",
        "             'v_availability_60',\n",
        "             'v_availability_90',\n",
        "             'v_availability_365',\n",
        "             \"v_number_of_reviews\",\n",
        "             \"v_number_of_reviews_ltm\",\n",
        "             \"v_instant_bookable\",\n",
        "             \"v_calculated_host_listings_count\",\n",
        "             \"v_calculated_host_listings_count_entire_homes\",\n",
        "             \"v_calculated_host_listings_count_private_rooms\"\n",
        "            ]"
      ],
      "execution_count": null,
      "outputs": []
    },
    {
      "cell_type": "code",
      "metadata": {
        "id": "5XBxD8bdRd5S"
      },
      "source": [
        "df.drop(columns=eliminar, inplace=True)"
      ],
      "execution_count": null,
      "outputs": []
    },
    {
      "cell_type": "code",
      "metadata": {
        "colab": {
          "base_uri": "https://localhost:8080/",
          "height": 564
        },
        "id": "F603TpBWpstF",
        "outputId": "c780ada1-ab0a-466b-e0f5-4a92a3da03a1"
      },
      "source": [
        "df.head()"
      ],
      "execution_count": null,
      "outputs": [
        {
          "output_type": "execute_result",
          "data": {
            "text/html": [
              "<div>\n",
              "<style scoped>\n",
              "    .dataframe tbody tr th:only-of-type {\n",
              "        vertical-align: middle;\n",
              "    }\n",
              "\n",
              "    .dataframe tbody tr th {\n",
              "        vertical-align: top;\n",
              "    }\n",
              "\n",
              "    .dataframe thead th {\n",
              "        text-align: right;\n",
              "    }\n",
              "</style>\n",
              "<table border=\"1\" class=\"dataframe\">\n",
              "  <thead>\n",
              "    <tr style=\"text-align: right;\">\n",
              "      <th></th>\n",
              "      <th>t_name</th>\n",
              "      <th>t_summary</th>\n",
              "      <th>t_description</th>\n",
              "      <th>d_host_since</th>\n",
              "      <th>v_host_is_superhost</th>\n",
              "      <th>c_host_listings_count</th>\n",
              "      <th>c_host_total_listings_count</th>\n",
              "      <th>t_host_verifications</th>\n",
              "      <th>v_host_identity_verified</th>\n",
              "      <th>t_neighbourhood</th>\n",
              "      <th>v_neighbourhood_cleansed</th>\n",
              "      <th>t_neighbourhood_group_cleansed</th>\n",
              "      <th>v_zipcode</th>\n",
              "      <th>c_latitude</th>\n",
              "      <th>c_longitude</th>\n",
              "      <th>v_property_type</th>\n",
              "      <th>v_room_type</th>\n",
              "      <th>v_accommodates</th>\n",
              "      <th>v_bedrooms</th>\n",
              "      <th>v_beds</th>\n",
              "      <th>t_amenities</th>\n",
              "      <th>c_price</th>\n",
              "      <th>v_guests_included</th>\n",
              "      <th>c_extra_people</th>\n",
              "      <th>v_minimum_nights</th>\n",
              "      <th>v_maximum_nights</th>\n",
              "      <th>v_minimum_minimum_nights</th>\n",
              "      <th>v_maximum_minimum_nights</th>\n",
              "      <th>v_minimum_maximum_nights</th>\n",
              "      <th>v_maximum_maximum_nights</th>\n",
              "      <th>c_minimum_nights_avg_ntm</th>\n",
              "      <th>c_maximum_nights_avg_ntm</th>\n",
              "      <th>v_calendar_updated</th>\n",
              "      <th>v_availability_30</th>\n",
              "      <th>v_availability_60</th>\n",
              "      <th>v_availability_90</th>\n",
              "      <th>v_availability_365</th>\n",
              "      <th>v_number_of_reviews</th>\n",
              "      <th>v_number_of_reviews_ltm</th>\n",
              "      <th>v_instant_bookable</th>\n",
              "      <th>v_cancellation_policy</th>\n",
              "      <th>v_calculated_host_listings_count</th>\n",
              "      <th>v_calculated_host_listings_count_entire_homes</th>\n",
              "      <th>v_calculated_host_listings_count_private_rooms</th>\n",
              "    </tr>\n",
              "  </thead>\n",
              "  <tbody>\n",
              "    <tr>\n",
              "      <th>0</th>\n",
              "      <td>Skylit Midtown Castle</td>\n",
              "      <td>Beautiful, spacious skylit studio in the heart...</td>\n",
              "      <td>Beautiful, spacious skylit studio in the heart...</td>\n",
              "      <td>2008-09-09</td>\n",
              "      <td>f</td>\n",
              "      <td>6.0</td>\n",
              "      <td>6.0</td>\n",
              "      <td>['email', 'phone', 'reviews', 'offline_governm...</td>\n",
              "      <td>t</td>\n",
              "      <td>Midtown</td>\n",
              "      <td>Midtown</td>\n",
              "      <td>Manhattan</td>\n",
              "      <td>10018</td>\n",
              "      <td>40.75362</td>\n",
              "      <td>-73.98377</td>\n",
              "      <td>Apartment</td>\n",
              "      <td>Entire home/apt</td>\n",
              "      <td>1</td>\n",
              "      <td>0.0</td>\n",
              "      <td>1.0</td>\n",
              "      <td>{TV,Wifi,\"Air conditioning\",Kitchen,\"Paid park...</td>\n",
              "      <td>$225.00</td>\n",
              "      <td>1</td>\n",
              "      <td>$0.00</td>\n",
              "      <td>10</td>\n",
              "      <td>1125</td>\n",
              "      <td>10</td>\n",
              "      <td>10</td>\n",
              "      <td>1125</td>\n",
              "      <td>1125</td>\n",
              "      <td>10.0</td>\n",
              "      <td>1125.0</td>\n",
              "      <td>2 weeks ago</td>\n",
              "      <td>1</td>\n",
              "      <td>1</td>\n",
              "      <td>1</td>\n",
              "      <td>1</td>\n",
              "      <td>48</td>\n",
              "      <td>7</td>\n",
              "      <td>f</td>\n",
              "      <td>strict_14_with_grace_period</td>\n",
              "      <td>1</td>\n",
              "      <td>1</td>\n",
              "      <td>0</td>\n",
              "    </tr>\n",
              "    <tr>\n",
              "      <th>1</th>\n",
              "      <td>Cozy Entire Floor of Brownstone</td>\n",
              "      <td>Urban retreat: enjoy 500 s.f. floor in 1899 br...</td>\n",
              "      <td>Urban retreat: enjoy 500 s.f. floor in 1899 br...</td>\n",
              "      <td>2008-12-07</td>\n",
              "      <td>f</td>\n",
              "      <td>1.0</td>\n",
              "      <td>1.0</td>\n",
              "      <td>['email', 'phone', 'reviews', 'kba']</td>\n",
              "      <td>t</td>\n",
              "      <td>Brooklyn</td>\n",
              "      <td>Clinton Hill</td>\n",
              "      <td>Brooklyn</td>\n",
              "      <td>11238</td>\n",
              "      <td>40.68514</td>\n",
              "      <td>-73.95976</td>\n",
              "      <td>Guest suite</td>\n",
              "      <td>Entire home/apt</td>\n",
              "      <td>3</td>\n",
              "      <td>1.0</td>\n",
              "      <td>4.0</td>\n",
              "      <td>{TV,\"Cable TV\",Internet,Wifi,\"Air conditioning...</td>\n",
              "      <td>$89.00</td>\n",
              "      <td>1</td>\n",
              "      <td>$0.00</td>\n",
              "      <td>1</td>\n",
              "      <td>730</td>\n",
              "      <td>1</td>\n",
              "      <td>1</td>\n",
              "      <td>730</td>\n",
              "      <td>730</td>\n",
              "      <td>1.0</td>\n",
              "      <td>730.0</td>\n",
              "      <td>2 weeks ago</td>\n",
              "      <td>1</td>\n",
              "      <td>1</td>\n",
              "      <td>1</td>\n",
              "      <td>1</td>\n",
              "      <td>295</td>\n",
              "      <td>75</td>\n",
              "      <td>f</td>\n",
              "      <td>moderate</td>\n",
              "      <td>1</td>\n",
              "      <td>1</td>\n",
              "      <td>0</td>\n",
              "    </tr>\n",
              "    <tr>\n",
              "      <th>2</th>\n",
              "      <td>Large Cozy 1 BR Apartment In Midtown East</td>\n",
              "      <td>My large 1 bedroom apartment has a true New Yo...</td>\n",
              "      <td>My large 1 bedroom apartment has a true New Yo...</td>\n",
              "      <td>2009-02-02</td>\n",
              "      <td>f</td>\n",
              "      <td>1.0</td>\n",
              "      <td>1.0</td>\n",
              "      <td>['email', 'phone', 'reviews', 'jumio', 'govern...</td>\n",
              "      <td>f</td>\n",
              "      <td>Manhattan</td>\n",
              "      <td>Murray Hill</td>\n",
              "      <td>Manhattan</td>\n",
              "      <td>10016</td>\n",
              "      <td>40.74767</td>\n",
              "      <td>-73.97500</td>\n",
              "      <td>Apartment</td>\n",
              "      <td>Entire home/apt</td>\n",
              "      <td>2</td>\n",
              "      <td>1.0</td>\n",
              "      <td>1.0</td>\n",
              "      <td>{TV,\"Cable TV\",Internet,Wifi,\"Air conditioning...</td>\n",
              "      <td>$200.00</td>\n",
              "      <td>2</td>\n",
              "      <td>$100.00</td>\n",
              "      <td>3</td>\n",
              "      <td>21</td>\n",
              "      <td>3</td>\n",
              "      <td>3</td>\n",
              "      <td>21</td>\n",
              "      <td>21</td>\n",
              "      <td>3.0</td>\n",
              "      <td>21.0</td>\n",
              "      <td>2 weeks ago</td>\n",
              "      <td>19</td>\n",
              "      <td>19</td>\n",
              "      <td>19</td>\n",
              "      <td>19</td>\n",
              "      <td>78</td>\n",
              "      <td>8</td>\n",
              "      <td>f</td>\n",
              "      <td>moderate</td>\n",
              "      <td>1</td>\n",
              "      <td>1</td>\n",
              "      <td>0</td>\n",
              "    </tr>\n",
              "    <tr>\n",
              "      <th>3</th>\n",
              "      <td>BlissArtsSpace!</td>\n",
              "      <td>NaN</td>\n",
              "      <td>HELLO EVERYONE AND THANKS FOR VISITING BLISS A...</td>\n",
              "      <td>2009-02-03</td>\n",
              "      <td>f</td>\n",
              "      <td>1.0</td>\n",
              "      <td>1.0</td>\n",
              "      <td>['email', 'phone', 'facebook', 'reviews', 'off...</td>\n",
              "      <td>f</td>\n",
              "      <td>Bedford-Stuyvesant</td>\n",
              "      <td>Bedford-Stuyvesant</td>\n",
              "      <td>Brooklyn</td>\n",
              "      <td>11216</td>\n",
              "      <td>40.68688</td>\n",
              "      <td>-73.95596</td>\n",
              "      <td>Apartment</td>\n",
              "      <td>Private room</td>\n",
              "      <td>2</td>\n",
              "      <td>1.0</td>\n",
              "      <td>1.0</td>\n",
              "      <td>{Wifi,\"Air conditioning\",Kitchen,\"Pets live on...</td>\n",
              "      <td>$60.00</td>\n",
              "      <td>1</td>\n",
              "      <td>$30.00</td>\n",
              "      <td>29</td>\n",
              "      <td>730</td>\n",
              "      <td>29</td>\n",
              "      <td>29</td>\n",
              "      <td>730</td>\n",
              "      <td>730</td>\n",
              "      <td>29.0</td>\n",
              "      <td>730.0</td>\n",
              "      <td>23 months ago</td>\n",
              "      <td>30</td>\n",
              "      <td>60</td>\n",
              "      <td>90</td>\n",
              "      <td>365</td>\n",
              "      <td>49</td>\n",
              "      <td>0</td>\n",
              "      <td>f</td>\n",
              "      <td>strict_14_with_grace_period</td>\n",
              "      <td>1</td>\n",
              "      <td>0</td>\n",
              "      <td>1</td>\n",
              "    </tr>\n",
              "    <tr>\n",
              "      <th>4</th>\n",
              "      <td>Large Furnished Room Near B'way</td>\n",
              "      <td>Please don’t expect the luxury here just a bas...</td>\n",
              "      <td>Please don’t expect the luxury here just a bas...</td>\n",
              "      <td>2009-03-03</td>\n",
              "      <td>f</td>\n",
              "      <td>1.0</td>\n",
              "      <td>1.0</td>\n",
              "      <td>['email', 'phone', 'facebook', 'reviews']</td>\n",
              "      <td>f</td>\n",
              "      <td>Manhattan</td>\n",
              "      <td>Hell's Kitchen</td>\n",
              "      <td>Manhattan</td>\n",
              "      <td>10019</td>\n",
              "      <td>40.76489</td>\n",
              "      <td>-73.98493</td>\n",
              "      <td>Apartment</td>\n",
              "      <td>Private room</td>\n",
              "      <td>2</td>\n",
              "      <td>1.0</td>\n",
              "      <td>1.0</td>\n",
              "      <td>{TV,Wifi,\"Air conditioning\",\"Paid parking off ...</td>\n",
              "      <td>$79.00</td>\n",
              "      <td>1</td>\n",
              "      <td>$12.00</td>\n",
              "      <td>2</td>\n",
              "      <td>14</td>\n",
              "      <td>1</td>\n",
              "      <td>2</td>\n",
              "      <td>14</td>\n",
              "      <td>14</td>\n",
              "      <td>1.8</td>\n",
              "      <td>14.0</td>\n",
              "      <td>2 months ago</td>\n",
              "      <td>3</td>\n",
              "      <td>12</td>\n",
              "      <td>40</td>\n",
              "      <td>242</td>\n",
              "      <td>454</td>\n",
              "      <td>47</td>\n",
              "      <td>f</td>\n",
              "      <td>strict_14_with_grace_period</td>\n",
              "      <td>1</td>\n",
              "      <td>0</td>\n",
              "      <td>1</td>\n",
              "    </tr>\n",
              "  </tbody>\n",
              "</table>\n",
              "</div>"
            ],
            "text/plain": [
              "                                      t_name  \\\n",
              "0                      Skylit Midtown Castle   \n",
              "1            Cozy Entire Floor of Brownstone   \n",
              "2  Large Cozy 1 BR Apartment In Midtown East   \n",
              "3                            BlissArtsSpace!   \n",
              "4           Large Furnished Room Near B'way    \n",
              "\n",
              "                                           t_summary  \\\n",
              "0  Beautiful, spacious skylit studio in the heart...   \n",
              "1  Urban retreat: enjoy 500 s.f. floor in 1899 br...   \n",
              "2  My large 1 bedroom apartment has a true New Yo...   \n",
              "3                                                NaN   \n",
              "4  Please don’t expect the luxury here just a bas...   \n",
              "\n",
              "                                       t_description d_host_since  \\\n",
              "0  Beautiful, spacious skylit studio in the heart...   2008-09-09   \n",
              "1  Urban retreat: enjoy 500 s.f. floor in 1899 br...   2008-12-07   \n",
              "2  My large 1 bedroom apartment has a true New Yo...   2009-02-02   \n",
              "3  HELLO EVERYONE AND THANKS FOR VISITING BLISS A...   2009-02-03   \n",
              "4  Please don’t expect the luxury here just a bas...   2009-03-03   \n",
              "\n",
              "  v_host_is_superhost  c_host_listings_count  c_host_total_listings_count  \\\n",
              "0                   f                    6.0                          6.0   \n",
              "1                   f                    1.0                          1.0   \n",
              "2                   f                    1.0                          1.0   \n",
              "3                   f                    1.0                          1.0   \n",
              "4                   f                    1.0                          1.0   \n",
              "\n",
              "                                t_host_verifications v_host_identity_verified  \\\n",
              "0  ['email', 'phone', 'reviews', 'offline_governm...                        t   \n",
              "1               ['email', 'phone', 'reviews', 'kba']                        t   \n",
              "2  ['email', 'phone', 'reviews', 'jumio', 'govern...                        f   \n",
              "3  ['email', 'phone', 'facebook', 'reviews', 'off...                        f   \n",
              "4          ['email', 'phone', 'facebook', 'reviews']                        f   \n",
              "\n",
              "      t_neighbourhood v_neighbourhood_cleansed t_neighbourhood_group_cleansed  \\\n",
              "0             Midtown                  Midtown                      Manhattan   \n",
              "1            Brooklyn             Clinton Hill                       Brooklyn   \n",
              "2           Manhattan              Murray Hill                      Manhattan   \n",
              "3  Bedford-Stuyvesant       Bedford-Stuyvesant                       Brooklyn   \n",
              "4           Manhattan           Hell's Kitchen                      Manhattan   \n",
              "\n",
              "  v_zipcode  c_latitude  c_longitude v_property_type      v_room_type  \\\n",
              "0     10018    40.75362    -73.98377       Apartment  Entire home/apt   \n",
              "1     11238    40.68514    -73.95976     Guest suite  Entire home/apt   \n",
              "2     10016    40.74767    -73.97500       Apartment  Entire home/apt   \n",
              "3     11216    40.68688    -73.95596       Apartment     Private room   \n",
              "4     10019    40.76489    -73.98493       Apartment     Private room   \n",
              "\n",
              "   v_accommodates  v_bedrooms  v_beds  \\\n",
              "0               1         0.0     1.0   \n",
              "1               3         1.0     4.0   \n",
              "2               2         1.0     1.0   \n",
              "3               2         1.0     1.0   \n",
              "4               2         1.0     1.0   \n",
              "\n",
              "                                         t_amenities  c_price  \\\n",
              "0  {TV,Wifi,\"Air conditioning\",Kitchen,\"Paid park...  $225.00   \n",
              "1  {TV,\"Cable TV\",Internet,Wifi,\"Air conditioning...   $89.00   \n",
              "2  {TV,\"Cable TV\",Internet,Wifi,\"Air conditioning...  $200.00   \n",
              "3  {Wifi,\"Air conditioning\",Kitchen,\"Pets live on...   $60.00   \n",
              "4  {TV,Wifi,\"Air conditioning\",\"Paid parking off ...   $79.00   \n",
              "\n",
              "   v_guests_included c_extra_people  v_minimum_nights  v_maximum_nights  \\\n",
              "0                  1          $0.00                10              1125   \n",
              "1                  1          $0.00                 1               730   \n",
              "2                  2        $100.00                 3                21   \n",
              "3                  1         $30.00                29               730   \n",
              "4                  1         $12.00                 2                14   \n",
              "\n",
              "   v_minimum_minimum_nights  v_maximum_minimum_nights  \\\n",
              "0                        10                        10   \n",
              "1                         1                         1   \n",
              "2                         3                         3   \n",
              "3                        29                        29   \n",
              "4                         1                         2   \n",
              "\n",
              "   v_minimum_maximum_nights  v_maximum_maximum_nights  \\\n",
              "0                      1125                      1125   \n",
              "1                       730                       730   \n",
              "2                        21                        21   \n",
              "3                       730                       730   \n",
              "4                        14                        14   \n",
              "\n",
              "   c_minimum_nights_avg_ntm  c_maximum_nights_avg_ntm v_calendar_updated  \\\n",
              "0                      10.0                    1125.0        2 weeks ago   \n",
              "1                       1.0                     730.0        2 weeks ago   \n",
              "2                       3.0                      21.0        2 weeks ago   \n",
              "3                      29.0                     730.0      23 months ago   \n",
              "4                       1.8                      14.0       2 months ago   \n",
              "\n",
              "   v_availability_30  v_availability_60  v_availability_90  \\\n",
              "0                  1                  1                  1   \n",
              "1                  1                  1                  1   \n",
              "2                 19                 19                 19   \n",
              "3                 30                 60                 90   \n",
              "4                  3                 12                 40   \n",
              "\n",
              "   v_availability_365  v_number_of_reviews  v_number_of_reviews_ltm  \\\n",
              "0                   1                   48                        7   \n",
              "1                   1                  295                       75   \n",
              "2                  19                   78                        8   \n",
              "3                 365                   49                        0   \n",
              "4                 242                  454                       47   \n",
              "\n",
              "  v_instant_bookable        v_cancellation_policy  \\\n",
              "0                  f  strict_14_with_grace_period   \n",
              "1                  f                     moderate   \n",
              "2                  f                     moderate   \n",
              "3                  f  strict_14_with_grace_period   \n",
              "4                  f  strict_14_with_grace_period   \n",
              "\n",
              "   v_calculated_host_listings_count  \\\n",
              "0                                 1   \n",
              "1                                 1   \n",
              "2                                 1   \n",
              "3                                 1   \n",
              "4                                 1   \n",
              "\n",
              "   v_calculated_host_listings_count_entire_homes  \\\n",
              "0                                              1   \n",
              "1                                              1   \n",
              "2                                              1   \n",
              "3                                              0   \n",
              "4                                              0   \n",
              "\n",
              "   v_calculated_host_listings_count_private_rooms  \n",
              "0                                               0  \n",
              "1                                               0  \n",
              "2                                               0  \n",
              "3                                               1  \n",
              "4                                               1  "
            ]
          },
          "metadata": {
            "tags": []
          },
          "execution_count": 17
        }
      ]
    },
    {
      "cell_type": "code",
      "metadata": {
        "colab": {
          "base_uri": "https://localhost:8080/"
        },
        "id": "i73mmi23qVDf",
        "outputId": "81712eb6-738a-4362-a171-a0843a004262"
      },
      "source": [
        "df.shape"
      ],
      "execution_count": null,
      "outputs": [
        {
          "output_type": "execute_result",
          "data": {
            "text/plain": [
              "(50599, 44)"
            ]
          },
          "metadata": {
            "tags": []
          },
          "execution_count": 18
        }
      ]
    },
    {
      "cell_type": "markdown",
      "metadata": {
        "id": "kxd5ZjrJedL-"
      },
      "source": [
        "Observamos el tipo de dato de cada variable"
      ]
    },
    {
      "cell_type": "code",
      "metadata": {
        "colab": {
          "base_uri": "https://localhost:8080/"
        },
        "id": "hZE7ezdCtTmn",
        "outputId": "414dba79-e92a-4b3f-8ce8-24fa5da9ec07"
      },
      "source": [
        "for i in conservar:\n",
        "  print(str(i) + ' is a(n) ' + str(df[i].dtype))"
      ],
      "execution_count": null,
      "outputs": [
        {
          "output_type": "stream",
          "text": [
            "t_name is a(n) object\n",
            "t_summary is a(n) object\n",
            "t_description is a(n) object\n",
            "t_host_verifications is a(n) object\n",
            "t_neighbourhood is a(n) object\n",
            "v_neighbourhood_cleansed is a(n) object\n",
            "t_neighbourhood_group_cleansed is a(n) object\n",
            "v_property_type is a(n) object\n",
            "v_room_type is a(n) object\n",
            "t_amenities is a(n) object\n",
            "v_calendar_updated is a(n) object\n",
            "v_cancellation_policy is a(n) object\n",
            "d_host_since is a(n) object\n",
            "v_host_is_superhost is a(n) object\n",
            "c_host_listings_count is a(n) float64\n",
            "c_host_total_listings_count is a(n) float64\n",
            "v_host_identity_verified is a(n) object\n",
            "v_zipcode is a(n) object\n",
            "c_latitude is a(n) float64\n",
            "c_longitude is a(n) float64\n",
            "v_accommodates is a(n) int64\n",
            "v_bedrooms is a(n) float64\n",
            "v_beds is a(n) float64\n",
            "c_price is a(n) object\n",
            "v_guests_included is a(n) int64\n",
            "c_extra_people is a(n) object\n",
            "v_minimum_nights is a(n) int64\n",
            "v_maximum_nights is a(n) int64\n",
            "v_minimum_minimum_nights is a(n) int64\n",
            "v_maximum_minimum_nights is a(n) int64\n",
            "v_minimum_maximum_nights is a(n) int64\n",
            "v_maximum_maximum_nights is a(n) int64\n",
            "c_minimum_nights_avg_ntm is a(n) float64\n",
            "c_maximum_nights_avg_ntm is a(n) float64\n",
            "v_availability_30 is a(n) int64\n",
            "v_availability_60 is a(n) int64\n",
            "v_availability_90 is a(n) int64\n",
            "v_availability_365 is a(n) int64\n",
            "v_number_of_reviews is a(n) int64\n",
            "v_number_of_reviews_ltm is a(n) int64\n",
            "v_instant_bookable is a(n) object\n",
            "v_calculated_host_listings_count is a(n) int64\n",
            "v_calculated_host_listings_count_entire_homes is a(n) int64\n",
            "v_calculated_host_listings_count_private_rooms is a(n) int64\n"
          ],
          "name": "stdout"
        }
      ]
    },
    {
      "cell_type": "markdown",
      "metadata": {
        "id": "ll7YhVN4pFbo"
      },
      "source": [
        "### Variable `v_host_is_superhost`"
      ]
    },
    {
      "cell_type": "markdown",
      "metadata": {
        "id": "-cyuCdfBfGk7"
      },
      "source": [
        "Eliminación de variables con valores nulos"
      ]
    },
    {
      "cell_type": "code",
      "metadata": {
        "id": "43DXyFogfQdP"
      },
      "source": [
        "df = df[~df[\"v_host_is_superhost\"].isnull()]"
      ],
      "execution_count": null,
      "outputs": []
    },
    {
      "cell_type": "markdown",
      "metadata": {
        "id": "vnKttbCRZvZd"
      },
      "source": [
        "### Variable `v_cancellation_policy`"
      ]
    },
    {
      "cell_type": "markdown",
      "metadata": {
        "id": "UH8q1YgZQbnC"
      },
      "source": [
        "Distribución de la variable"
      ]
    },
    {
      "cell_type": "code",
      "metadata": {
        "colab": {
          "base_uri": "https://localhost:8080/"
        },
        "id": "9Kmx53WIO397",
        "outputId": "6552df8a-4c14-4587-9cdf-c0e51be046f1"
      },
      "source": [
        "df[\"v_cancellation_policy\"].value_counts(1)"
      ],
      "execution_count": null,
      "outputs": [
        {
          "output_type": "execute_result",
          "data": {
            "text/plain": [
              "strict_14_with_grace_period    0.457830\n",
              "flexible                       0.305840\n",
              "moderate                       0.232752\n",
              "super_strict_60                0.002138\n",
              "strict                         0.000979\n",
              "super_strict_30                0.000460\n",
              "Name: v_cancellation_policy, dtype: float64"
            ]
          },
          "metadata": {
            "tags": []
          },
          "execution_count": 21
        }
      ]
    },
    {
      "cell_type": "code",
      "metadata": {
        "colab": {
          "base_uri": "https://localhost:8080/"
        },
        "id": "bJmOzq0jPjpS",
        "outputId": "1777a364-5fd2-4cc7-d44b-66ba0e48ccdf"
      },
      "source": [
        "df[\"v_cancellation_policy\"] = df[\"v_cancellation_policy\"].map(lambda policy: \"strict\" if \"strict\" in policy else policy)\n",
        "df[\"v_cancellation_policy\"].value_counts(1)"
      ],
      "execution_count": null,
      "outputs": [
        {
          "output_type": "execute_result",
          "data": {
            "text/plain": [
              "strict      0.461408\n",
              "flexible    0.305840\n",
              "moderate    0.232752\n",
              "Name: v_cancellation_policy, dtype: float64"
            ]
          },
          "metadata": {
            "tags": []
          },
          "execution_count": 22
        }
      ]
    },
    {
      "cell_type": "markdown",
      "metadata": {
        "id": "di97qLiLZ3Rp"
      },
      "source": [
        "###Variable `v_property_type`\n"
      ]
    },
    {
      "cell_type": "code",
      "metadata": {
        "colab": {
          "base_uri": "https://localhost:8080/"
        },
        "id": "HgKlrQH3b3Bv",
        "outputId": "45e3ec41-41f9-4199-bea6-3203eb399597"
      },
      "source": [
        "#La cantidad de valores posibles para esta variable puede reducirse para proveer una distribución más uniforme.\n",
        "props = df.groupby('v_property_type').t_name.count().sort_values(ascending=False).reset_index()\n",
        "props"
      ],
      "execution_count": null,
      "outputs": [
        {
          "output_type": "execute_result",
          "data": {
            "text/html": [
              "<div>\n",
              "<style scoped>\n",
              "    .dataframe tbody tr th:only-of-type {\n",
              "        vertical-align: middle;\n",
              "    }\n",
              "\n",
              "    .dataframe tbody tr th {\n",
              "        vertical-align: top;\n",
              "    }\n",
              "\n",
              "    .dataframe thead th {\n",
              "        text-align: right;\n",
              "    }\n",
              "</style>\n",
              "<table border=\"1\" class=\"dataframe\">\n",
              "  <thead>\n",
              "    <tr style=\"text-align: right;\">\n",
              "      <th></th>\n",
              "      <th>v_property_type</th>\n",
              "      <th>t_name</th>\n",
              "    </tr>\n",
              "  </thead>\n",
              "  <tbody>\n",
              "    <tr>\n",
              "      <th>0</th>\n",
              "      <td>Apartment</td>\n",
              "      <td>39313</td>\n",
              "    </tr>\n",
              "    <tr>\n",
              "      <th>1</th>\n",
              "      <td>House</td>\n",
              "      <td>4126</td>\n",
              "    </tr>\n",
              "    <tr>\n",
              "      <th>2</th>\n",
              "      <td>Townhouse</td>\n",
              "      <td>1672</td>\n",
              "    </tr>\n",
              "    <tr>\n",
              "      <th>3</th>\n",
              "      <td>Condominium</td>\n",
              "      <td>1616</td>\n",
              "    </tr>\n",
              "    <tr>\n",
              "      <th>4</th>\n",
              "      <td>Loft</td>\n",
              "      <td>1404</td>\n",
              "    </tr>\n",
              "    <tr>\n",
              "      <th>5</th>\n",
              "      <td>Guest suite</td>\n",
              "      <td>421</td>\n",
              "    </tr>\n",
              "    <tr>\n",
              "      <th>6</th>\n",
              "      <td>Boutique hotel</td>\n",
              "      <td>361</td>\n",
              "    </tr>\n",
              "    <tr>\n",
              "      <th>7</th>\n",
              "      <td>Serviced apartment</td>\n",
              "      <td>343</td>\n",
              "    </tr>\n",
              "    <tr>\n",
              "      <th>8</th>\n",
              "      <td>Hotel</td>\n",
              "      <td>229</td>\n",
              "    </tr>\n",
              "    <tr>\n",
              "      <th>9</th>\n",
              "      <td>Other</td>\n",
              "      <td>102</td>\n",
              "    </tr>\n",
              "    <tr>\n",
              "      <th>10</th>\n",
              "      <td>Guesthouse</td>\n",
              "      <td>74</td>\n",
              "    </tr>\n",
              "    <tr>\n",
              "      <th>11</th>\n",
              "      <td>Resort</td>\n",
              "      <td>66</td>\n",
              "    </tr>\n",
              "    <tr>\n",
              "      <th>12</th>\n",
              "      <td>Hostel</td>\n",
              "      <td>63</td>\n",
              "    </tr>\n",
              "    <tr>\n",
              "      <th>13</th>\n",
              "      <td>Bed and breakfast</td>\n",
              "      <td>55</td>\n",
              "    </tr>\n",
              "    <tr>\n",
              "      <th>14</th>\n",
              "      <td>Villa</td>\n",
              "      <td>34</td>\n",
              "    </tr>\n",
              "    <tr>\n",
              "      <th>15</th>\n",
              "      <td>Bungalow</td>\n",
              "      <td>32</td>\n",
              "    </tr>\n",
              "    <tr>\n",
              "      <th>16</th>\n",
              "      <td>Tiny house</td>\n",
              "      <td>20</td>\n",
              "    </tr>\n",
              "    <tr>\n",
              "      <th>17</th>\n",
              "      <td>Camper/RV</td>\n",
              "      <td>20</td>\n",
              "    </tr>\n",
              "    <tr>\n",
              "      <th>18</th>\n",
              "      <td>Aparthotel</td>\n",
              "      <td>12</td>\n",
              "    </tr>\n",
              "    <tr>\n",
              "      <th>19</th>\n",
              "      <td>Boat</td>\n",
              "      <td>11</td>\n",
              "    </tr>\n",
              "    <tr>\n",
              "      <th>20</th>\n",
              "      <td>Earth house</td>\n",
              "      <td>10</td>\n",
              "    </tr>\n",
              "    <tr>\n",
              "      <th>21</th>\n",
              "      <td>Cottage</td>\n",
              "      <td>8</td>\n",
              "    </tr>\n",
              "    <tr>\n",
              "      <th>22</th>\n",
              "      <td>Tent</td>\n",
              "      <td>6</td>\n",
              "    </tr>\n",
              "    <tr>\n",
              "      <th>23</th>\n",
              "      <td>Casa particular (Cuba)</td>\n",
              "      <td>4</td>\n",
              "    </tr>\n",
              "    <tr>\n",
              "      <th>24</th>\n",
              "      <td>Cave</td>\n",
              "      <td>3</td>\n",
              "    </tr>\n",
              "    <tr>\n",
              "      <th>25</th>\n",
              "      <td>Houseboat</td>\n",
              "      <td>3</td>\n",
              "    </tr>\n",
              "    <tr>\n",
              "      <th>26</th>\n",
              "      <td>Castle</td>\n",
              "      <td>2</td>\n",
              "    </tr>\n",
              "    <tr>\n",
              "      <th>27</th>\n",
              "      <td>Bus</td>\n",
              "      <td>2</td>\n",
              "    </tr>\n",
              "    <tr>\n",
              "      <th>28</th>\n",
              "      <td>Barn</td>\n",
              "      <td>2</td>\n",
              "    </tr>\n",
              "    <tr>\n",
              "      <th>29</th>\n",
              "      <td>Dome house</td>\n",
              "      <td>1</td>\n",
              "    </tr>\n",
              "    <tr>\n",
              "      <th>30</th>\n",
              "      <td>Cabin</td>\n",
              "      <td>1</td>\n",
              "    </tr>\n",
              "    <tr>\n",
              "      <th>31</th>\n",
              "      <td>Dorm</td>\n",
              "      <td>1</td>\n",
              "    </tr>\n",
              "    <tr>\n",
              "      <th>32</th>\n",
              "      <td>Farm stay</td>\n",
              "      <td>1</td>\n",
              "    </tr>\n",
              "    <tr>\n",
              "      <th>33</th>\n",
              "      <td>Island</td>\n",
              "      <td>1</td>\n",
              "    </tr>\n",
              "    <tr>\n",
              "      <th>34</th>\n",
              "      <td>Yurt</td>\n",
              "      <td>1</td>\n",
              "    </tr>\n",
              "  </tbody>\n",
              "</table>\n",
              "</div>"
            ],
            "text/plain": [
              "           v_property_type  t_name\n",
              "0                Apartment   39313\n",
              "1                    House    4126\n",
              "2                Townhouse    1672\n",
              "3              Condominium    1616\n",
              "4                     Loft    1404\n",
              "5              Guest suite     421\n",
              "6           Boutique hotel     361\n",
              "7       Serviced apartment     343\n",
              "8                    Hotel     229\n",
              "9                    Other     102\n",
              "10              Guesthouse      74\n",
              "11                  Resort      66\n",
              "12                  Hostel      63\n",
              "13       Bed and breakfast      55\n",
              "14                   Villa      34\n",
              "15                Bungalow      32\n",
              "16              Tiny house      20\n",
              "17               Camper/RV      20\n",
              "18              Aparthotel      12\n",
              "19                    Boat      11\n",
              "20             Earth house      10\n",
              "21                 Cottage       8\n",
              "22                    Tent       6\n",
              "23  Casa particular (Cuba)       4\n",
              "24                    Cave       3\n",
              "25               Houseboat       3\n",
              "26                  Castle       2\n",
              "27                     Bus       2\n",
              "28                    Barn       2\n",
              "29              Dome house       1\n",
              "30                   Cabin       1\n",
              "31                    Dorm       1\n",
              "32               Farm stay       1\n",
              "33                  Island       1\n",
              "34                    Yurt       1"
            ]
          },
          "metadata": {
            "tags": []
          },
          "execution_count": 23
        }
      ]
    },
    {
      "cell_type": "code",
      "metadata": {
        "id": "q7SvsV6AcqGO"
      },
      "source": [
        "#Se crea una serie de funciones lambda para integrar algunos de los valores con otros similares,\n",
        "#l primera para valores con mínimas incidencias:\n",
        "is_other = lambda x : 'Other' if int(props[props.v_property_type == x].t_name) < 100 else x\n",
        "#Y las siguientes para integrar términos estándar con sus respectivos eufemismos. Los términos a \n",
        "is_a_house = lambda x : 'House' if x in ['Earth house', 'Tiny house', 'Casa particular (Cuba)', 'Guesthouse', 'Condominium'] else x #Para integrar a 'House' sus eufemismos.\n",
        "is_a_villa = lambda x : 'Townhouse' if x in ['Bungallow', 'Cottage'] else x #Para integrar a 'Villa' sus eufemismos.\n",
        "is_a_hotel = lambda x : 'Hotel' if x in ['Bed and breakfast', 'Boutique hotel', 'Aparthotel', 'Resort'] else x #Para integrar a 'Hotel' sus eufemismos.\n",
        "is_a_single_room = lambda x : 'Single Room' if x in ['Loft', 'Guest suite'] else x\n",
        "is_an_apt = lambda x : 'Apartment' if x == 'Serviced apartment' else x"
      ],
      "execution_count": null,
      "outputs": []
    },
    {
      "cell_type": "code",
      "metadata": {
        "id": "LtO8YPe-qH_I"
      },
      "source": [
        "for i in [is_a_house, is_a_villa, is_a_hotel, is_an_apt, is_other, is_a_single_room]:\n",
        "  df['v_property_type'] = df['v_property_type'].map(i)"
      ],
      "execution_count": null,
      "outputs": []
    },
    {
      "cell_type": "code",
      "metadata": {
        "colab": {
          "base_uri": "https://localhost:8080/"
        },
        "id": "f0ts_pYZjfYU",
        "outputId": "584cec00-9c04-4120-e5d9-90df463aada8"
      },
      "source": [
        "df.groupby('v_property_type').t_name.count().sort_values(ascending=False).reset_index()"
      ],
      "execution_count": null,
      "outputs": [
        {
          "output_type": "execute_result",
          "data": {
            "text/html": [
              "<div>\n",
              "<style scoped>\n",
              "    .dataframe tbody tr th:only-of-type {\n",
              "        vertical-align: middle;\n",
              "    }\n",
              "\n",
              "    .dataframe tbody tr th {\n",
              "        vertical-align: top;\n",
              "    }\n",
              "\n",
              "    .dataframe thead th {\n",
              "        text-align: right;\n",
              "    }\n",
              "</style>\n",
              "<table border=\"1\" class=\"dataframe\">\n",
              "  <thead>\n",
              "    <tr style=\"text-align: right;\">\n",
              "      <th></th>\n",
              "      <th>v_property_type</th>\n",
              "      <th>t_name</th>\n",
              "    </tr>\n",
              "  </thead>\n",
              "  <tbody>\n",
              "    <tr>\n",
              "      <th>0</th>\n",
              "      <td>Apartment</td>\n",
              "      <td>39656</td>\n",
              "    </tr>\n",
              "    <tr>\n",
              "      <th>1</th>\n",
              "      <td>House</td>\n",
              "      <td>5850</td>\n",
              "    </tr>\n",
              "    <tr>\n",
              "      <th>2</th>\n",
              "      <td>Single Room</td>\n",
              "      <td>1825</td>\n",
              "    </tr>\n",
              "    <tr>\n",
              "      <th>3</th>\n",
              "      <td>Townhouse</td>\n",
              "      <td>1680</td>\n",
              "    </tr>\n",
              "    <tr>\n",
              "      <th>4</th>\n",
              "      <td>Hotel</td>\n",
              "      <td>723</td>\n",
              "    </tr>\n",
              "    <tr>\n",
              "      <th>5</th>\n",
              "      <td>Other</td>\n",
              "      <td>286</td>\n",
              "    </tr>\n",
              "  </tbody>\n",
              "</table>\n",
              "</div>"
            ],
            "text/plain": [
              "  v_property_type  t_name\n",
              "0       Apartment   39656\n",
              "1           House    5850\n",
              "2     Single Room    1825\n",
              "3       Townhouse    1680\n",
              "4           Hotel     723\n",
              "5           Other     286"
            ]
          },
          "metadata": {
            "tags": []
          },
          "execution_count": 26
        }
      ]
    },
    {
      "cell_type": "markdown",
      "metadata": {
        "id": "20-JRSMQuGs8"
      },
      "source": [
        "###Variable `v_calendar_updated`"
      ]
    },
    {
      "cell_type": "code",
      "metadata": {
        "colab": {
          "base_uri": "https://localhost:8080/"
        },
        "id": "10lg32xH_EzU",
        "outputId": "64c47632-e104-4eae-a04d-d8dac11d6a5c"
      },
      "source": [
        "df.groupby('v_calendar_updated').t_name.count().reset_index()"
      ],
      "execution_count": null,
      "outputs": [
        {
          "output_type": "execute_result",
          "data": {
            "text/html": [
              "<div>\n",
              "<style scoped>\n",
              "    .dataframe tbody tr th:only-of-type {\n",
              "        vertical-align: middle;\n",
              "    }\n",
              "\n",
              "    .dataframe tbody tr th {\n",
              "        vertical-align: top;\n",
              "    }\n",
              "\n",
              "    .dataframe thead th {\n",
              "        text-align: right;\n",
              "    }\n",
              "</style>\n",
              "<table border=\"1\" class=\"dataframe\">\n",
              "  <thead>\n",
              "    <tr style=\"text-align: right;\">\n",
              "      <th></th>\n",
              "      <th>v_calendar_updated</th>\n",
              "      <th>t_name</th>\n",
              "    </tr>\n",
              "  </thead>\n",
              "  <tbody>\n",
              "    <tr>\n",
              "      <th>0</th>\n",
              "      <td>1 week ago</td>\n",
              "      <td>364</td>\n",
              "    </tr>\n",
              "    <tr>\n",
              "      <th>1</th>\n",
              "      <td>10 months ago</td>\n",
              "      <td>461</td>\n",
              "    </tr>\n",
              "    <tr>\n",
              "      <th>2</th>\n",
              "      <td>11 months ago</td>\n",
              "      <td>492</td>\n",
              "    </tr>\n",
              "    <tr>\n",
              "      <th>3</th>\n",
              "      <td>12 months ago</td>\n",
              "      <td>525</td>\n",
              "    </tr>\n",
              "    <tr>\n",
              "      <th>4</th>\n",
              "      <td>13 months ago</td>\n",
              "      <td>342</td>\n",
              "    </tr>\n",
              "    <tr>\n",
              "      <th>...</th>\n",
              "      <td>...</td>\n",
              "      <td>...</td>\n",
              "    </tr>\n",
              "    <tr>\n",
              "      <th>89</th>\n",
              "      <td>95 months ago</td>\n",
              "      <td>1</td>\n",
              "    </tr>\n",
              "    <tr>\n",
              "      <th>90</th>\n",
              "      <td>a week ago</td>\n",
              "      <td>2730</td>\n",
              "    </tr>\n",
              "    <tr>\n",
              "      <th>91</th>\n",
              "      <td>never</td>\n",
              "      <td>80</td>\n",
              "    </tr>\n",
              "    <tr>\n",
              "      <th>92</th>\n",
              "      <td>today</td>\n",
              "      <td>3996</td>\n",
              "    </tr>\n",
              "    <tr>\n",
              "      <th>93</th>\n",
              "      <td>yesterday</td>\n",
              "      <td>1965</td>\n",
              "    </tr>\n",
              "  </tbody>\n",
              "</table>\n",
              "<p>94 rows × 2 columns</p>\n",
              "</div>"
            ],
            "text/plain": [
              "   v_calendar_updated  t_name\n",
              "0          1 week ago     364\n",
              "1       10 months ago     461\n",
              "2       11 months ago     492\n",
              "3       12 months ago     525\n",
              "4       13 months ago     342\n",
              "..                ...     ...\n",
              "89      95 months ago       1\n",
              "90         a week ago    2730\n",
              "91              never      80\n",
              "92              today    3996\n",
              "93          yesterday    1965\n",
              "\n",
              "[94 rows x 2 columns]"
            ]
          },
          "metadata": {
            "tags": []
          },
          "execution_count": 27
        }
      ]
    },
    {
      "cell_type": "code",
      "metadata": {
        "id": "Vne-oObIytpN"
      },
      "source": [
        "was_this_week = lambda x : 'This week' if x.find('days') != -1 else x\n",
        "was_this_month = lambda x : 'This month' if x.find('week') != -1 else x\n",
        "was_in_the_last_six_months = lambda x : 'Last 6 months' if x.find('months ago') != -1 and 6 >= int(x.split(' months ago')[0]) >= 2 else x\n",
        "was_this_year = lambda x : 'This year' if x.find('months ago') != -1 and 12 >= int(x.split(' months ago')[0]) >= 7 else x\n",
        "was_last_year = lambda x : 'Last year' if x.find('months ago') != -1 and 24 >= int(x.split(' months ago')[0]) >= 13 else x\n",
        "was_long_ago = lambda x : 'Long ago' if x.find('months ago') != -1 and int(x.split(' months ago')[0]) > 24 else x\n",
        "capitalize = lambda x : x.capitalize() if x in ['never', 'yesterday', 'today'] else x"
      ],
      "execution_count": null,
      "outputs": []
    },
    {
      "cell_type": "code",
      "metadata": {
        "colab": {
          "base_uri": "https://localhost:8080/"
        },
        "id": "e5KUQGUt5VDt",
        "outputId": "35e3122b-f701-4e4f-ed77-a673d5231b0b"
      },
      "source": [
        "\n",
        "\n",
        "for i in [was_this_week, was_this_month, was_in_the_last_six_months, was_this_year, was_last_year, was_long_ago, capitalize]:\n",
        "  df['v_calendar_updated'] = df.v_calendar_updated.apply(i)\n",
        "df.groupby('v_calendar_updated').t_name.count()"
      ],
      "execution_count": null,
      "outputs": [
        {
          "output_type": "execute_result",
          "data": {
            "text/plain": [
              "v_calendar_updated\n",
              "Last 6 months     8602\n",
              "Last year         4037\n",
              "Long ago          7884\n",
              "Never               80\n",
              "This month       20254\n",
              "This year         3202\n",
              "Today             3996\n",
              "Yesterday         1965\n",
              "Name: t_name, dtype: int64"
            ]
          },
          "metadata": {
            "tags": []
          },
          "execution_count": 29
        }
      ]
    },
    {
      "cell_type": "markdown",
      "metadata": {
        "id": "ANRWcBX5FAJC"
      },
      "source": [
        "### Variable de verificaciones `t_host_verifications`\n"
      ]
    },
    {
      "cell_type": "markdown",
      "metadata": {
        "id": "0mPnhK53sg5m"
      },
      "source": [
        "Obtenemos la longitud de la lista de los métodos de verificación usados."
      ]
    },
    {
      "cell_type": "code",
      "metadata": {
        "colab": {
          "base_uri": "https://localhost:8080/"
        },
        "id": "ugXzgB8iTWbA",
        "outputId": "b3a7c8cf-5d21-4433-92c4-ce1cda9545e8"
      },
      "source": [
        "df[\"t_host_verifications\"].head()"
      ],
      "execution_count": null,
      "outputs": [
        {
          "output_type": "execute_result",
          "data": {
            "text/plain": [
              "0    ['email', 'phone', 'reviews', 'offline_governm...\n",
              "1                 ['email', 'phone', 'reviews', 'kba']\n",
              "2    ['email', 'phone', 'reviews', 'jumio', 'govern...\n",
              "3    ['email', 'phone', 'facebook', 'reviews', 'off...\n",
              "4            ['email', 'phone', 'facebook', 'reviews']\n",
              "Name: t_host_verifications, dtype: object"
            ]
          },
          "metadata": {
            "tags": []
          },
          "execution_count": 30
        }
      ]
    },
    {
      "cell_type": "markdown",
      "metadata": {
        "id": "UEIvUrPAUMty"
      },
      "source": [
        "Contamos la cantidad de métodos de verificación"
      ]
    },
    {
      "cell_type": "code",
      "metadata": {
        "colab": {
          "base_uri": "https://localhost:8080/"
        },
        "id": "sEieZIuLE8QU",
        "outputId": "3b2bdeff-8533-4c07-ce86-aab5faee4db8"
      },
      "source": [
        "df[\"c_host_verifications\"] = df[\"t_host_verifications\"].map(number_of_items)\n",
        "df[\"c_host_verifications\"].value_counts().sort_index()"
      ],
      "execution_count": null,
      "outputs": [
        {
          "output_type": "execute_result",
          "data": {
            "text/plain": [
              "0        35\n",
              "1       819\n",
              "2      4138\n",
              "3      3672\n",
              "4      7816\n",
              "5     10186\n",
              "6     10138\n",
              "7      6265\n",
              "8      4031\n",
              "9      2282\n",
              "10      518\n",
              "11      118\n",
              "12       18\n",
              "Name: c_host_verifications, dtype: int64"
            ]
          },
          "metadata": {
            "tags": []
          },
          "execution_count": 31
        }
      ]
    },
    {
      "cell_type": "code",
      "metadata": {
        "id": "HNh7ojZxURhW"
      },
      "source": [
        "df.drop(columns=[\"t_host_verifications\"], inplace=True)"
      ],
      "execution_count": null,
      "outputs": []
    },
    {
      "cell_type": "markdown",
      "metadata": {
        "id": "QTr5f6G09Svc"
      },
      "source": [
        "### Variable de comodidades `t_amenities`\n"
      ]
    },
    {
      "cell_type": "code",
      "metadata": {
        "colab": {
          "base_uri": "https://localhost:8080/"
        },
        "id": "pbPg-_m_91uj",
        "outputId": "53e4a25f-cf7f-40e2-c5e8-ddcc3c241687"
      },
      "source": [
        "df[\"t_amenities\"].head()"
      ],
      "execution_count": null,
      "outputs": [
        {
          "output_type": "execute_result",
          "data": {
            "text/plain": [
              "0    {TV,Wifi,\"Air conditioning\",Kitchen,\"Paid park...\n",
              "1    {TV,\"Cable TV\",Internet,Wifi,\"Air conditioning...\n",
              "2    {TV,\"Cable TV\",Internet,Wifi,\"Air conditioning...\n",
              "3    {Wifi,\"Air conditioning\",Kitchen,\"Pets live on...\n",
              "4    {TV,Wifi,\"Air conditioning\",\"Paid parking off ...\n",
              "Name: t_amenities, dtype: object"
            ]
          },
          "metadata": {
            "tags": []
          },
          "execution_count": 33
        }
      ]
    },
    {
      "cell_type": "markdown",
      "metadata": {
        "id": "PF4-GLCPUIvY"
      },
      "source": [
        "Contamos el número de comodidades"
      ]
    },
    {
      "cell_type": "code",
      "metadata": {
        "colab": {
          "base_uri": "https://localhost:8080/"
        },
        "id": "YRbTMhfNTdTU",
        "outputId": "0905f389-9247-43f3-dc51-c8fd0286187e"
      },
      "source": [
        "df[\"c_amenities\"] = df[\"t_amenities\"].map(number_of_items)\n",
        "df[\"c_amenities\"].value_counts()"
      ],
      "execution_count": null,
      "outputs": [
        {
          "output_type": "execute_result",
          "data": {
            "text/plain": [
              "14    2499\n",
              "15    2482\n",
              "16    2370\n",
              "13    2314\n",
              "17    2300\n",
              "      ... \n",
              "77       1\n",
              "82       1\n",
              "81       1\n",
              "78       1\n",
              "76       1\n",
              "Name: c_amenities, Length: 76, dtype: int64"
            ]
          },
          "metadata": {
            "tags": []
          },
          "execution_count": 34
        }
      ]
    },
    {
      "cell_type": "markdown",
      "metadata": {
        "id": "0lN4Q7olT3-4"
      },
      "source": [
        "Eliminamos la variable base"
      ]
    },
    {
      "cell_type": "code",
      "metadata": {
        "id": "2Cwyk1Z8T3pd"
      },
      "source": [
        "df.drop(columns=[\"t_amenities\"], inplace=True)"
      ],
      "execution_count": null,
      "outputs": []
    },
    {
      "cell_type": "markdown",
      "metadata": {
        "id": "Nz0Swx7j57DH"
      },
      "source": [
        "### Variable de vecindario `t_neighbourhood`"
      ]
    },
    {
      "cell_type": "code",
      "metadata": {
        "id": "4YD3VDg06MWm"
      },
      "source": [
        "pd.set_option('max_rows',1000)\n",
        "df = df[~df['t_neighbourhood'].isnull()]"
      ],
      "execution_count": null,
      "outputs": []
    },
    {
      "cell_type": "code",
      "metadata": {
        "colab": {
          "base_uri": "https://localhost:8080/"
        },
        "id": "Hl7JyuUb6SWY",
        "outputId": "56e522e2-89c6-4412-dda9-d6a0769193a6"
      },
      "source": [
        "df.shape"
      ],
      "execution_count": null,
      "outputs": [
        {
          "output_type": "execute_result",
          "data": {
            "text/plain": [
              "(50025, 44)"
            ]
          },
          "metadata": {
            "tags": []
          },
          "execution_count": 37
        }
      ]
    },
    {
      "cell_type": "code",
      "metadata": {
        "colab": {
          "base_uri": "https://localhost:8080/"
        },
        "id": "xeB15QhgVi0_",
        "outputId": "f23fdf92-fc2f-403c-87c9-a6e85ea921d3"
      },
      "source": [
        "df.columns"
      ],
      "execution_count": null,
      "outputs": [
        {
          "output_type": "execute_result",
          "data": {
            "text/plain": [
              "Index(['t_name', 't_summary', 't_description', 'd_host_since',\n",
              "       'v_host_is_superhost', 'c_host_listings_count',\n",
              "       'c_host_total_listings_count', 'v_host_identity_verified',\n",
              "       't_neighbourhood', 'v_neighbourhood_cleansed',\n",
              "       't_neighbourhood_group_cleansed', 'v_zipcode', 'c_latitude',\n",
              "       'c_longitude', 'v_property_type', 'v_room_type', 'v_accommodates',\n",
              "       'v_bedrooms', 'v_beds', 'c_price', 'v_guests_included',\n",
              "       'c_extra_people', 'v_minimum_nights', 'v_maximum_nights',\n",
              "       'v_minimum_minimum_nights', 'v_maximum_minimum_nights',\n",
              "       'v_minimum_maximum_nights', 'v_maximum_maximum_nights',\n",
              "       'c_minimum_nights_avg_ntm', 'c_maximum_nights_avg_ntm',\n",
              "       'v_calendar_updated', 'v_availability_30', 'v_availability_60',\n",
              "       'v_availability_90', 'v_availability_365', 'v_number_of_reviews',\n",
              "       'v_number_of_reviews_ltm', 'v_instant_bookable',\n",
              "       'v_cancellation_policy', 'v_calculated_host_listings_count',\n",
              "       'v_calculated_host_listings_count_entire_homes',\n",
              "       'v_calculated_host_listings_count_private_rooms',\n",
              "       'c_host_verifications', 'c_amenities'],\n",
              "      dtype='object')"
            ]
          },
          "metadata": {
            "tags": []
          },
          "execution_count": 38
        }
      ]
    },
    {
      "cell_type": "code",
      "metadata": {
        "id": "DHmxyRZSVkH5"
      },
      "source": [
        ""
      ],
      "execution_count": null,
      "outputs": []
    },
    {
      "cell_type": "markdown",
      "metadata": {
        "id": "iHsIxQVRmsMB"
      },
      "source": [
        "###Variable de habitaciones `v_bedrooms`"
      ]
    },
    {
      "cell_type": "markdown",
      "metadata": {
        "id": "5-dcr6-KqLdq"
      },
      "source": [
        "#### Eliminación de Nulos"
      ]
    },
    {
      "cell_type": "code",
      "metadata": {
        "id": "ZoP4D_gDm4gb"
      },
      "source": [
        "df = df[~df[\"v_bedrooms\"].isnull()]"
      ],
      "execution_count": null,
      "outputs": []
    },
    {
      "cell_type": "markdown",
      "metadata": {
        "id": "QRynKB6Jqgvt"
      },
      "source": [
        "####Estandarización de Formato"
      ]
    },
    {
      "cell_type": "code",
      "metadata": {
        "colab": {
          "base_uri": "https://localhost:8080/"
        },
        "id": "_a0Vd_tvqgJr",
        "outputId": "6a876ad4-8f12-4d33-f1be-ee2e32189727"
      },
      "source": [
        "df['v_bedrooms'] = df['v_bedrooms'].apply(int)\n",
        "df['v_bedrooms'].value_counts().sort_index()"
      ],
      "execution_count": null,
      "outputs": [
        {
          "output_type": "execute_result",
          "data": {
            "text/plain": [
              "0      4604\n",
              "1     35776\n",
              "2      6706\n",
              "3      2129\n",
              "4       517\n",
              "5       139\n",
              "6        52\n",
              "7        17\n",
              "8        11\n",
              "9         4\n",
              "10        5\n",
              "11        1\n",
              "12        1\n",
              "14        1\n",
              "21        1\n",
              "Name: v_bedrooms, dtype: int64"
            ]
          },
          "metadata": {
            "tags": []
          },
          "execution_count": 40
        }
      ]
    },
    {
      "cell_type": "markdown",
      "metadata": {
        "id": "c3DlkpJ1vIMv"
      },
      "source": [
        "###Variable de habitaciones `v_beds`"
      ]
    },
    {
      "cell_type": "markdown",
      "metadata": {
        "id": "iodmojsyvIMw"
      },
      "source": [
        "####Eliminación de Nulos"
      ]
    },
    {
      "cell_type": "code",
      "metadata": {
        "id": "2yBO1rZ8vIMx"
      },
      "source": [
        "df = df[~df[\"v_beds\"].isnull()]"
      ],
      "execution_count": null,
      "outputs": []
    },
    {
      "cell_type": "markdown",
      "metadata": {
        "id": "vO8AbvUIvIMx"
      },
      "source": [
        "####Estandarización de Formato"
      ]
    },
    {
      "cell_type": "code",
      "metadata": {
        "colab": {
          "base_uri": "https://localhost:8080/"
        },
        "id": "JEPM70IlvIMx",
        "outputId": "f7ba9630-0488-4311-fa4f-d499be7a0607"
      },
      "source": [
        "df['v_beds'] = df['v_beds'].apply(int)\n",
        "df['v_beds'].value_counts().sort_index()"
      ],
      "execution_count": null,
      "outputs": [
        {
          "output_type": "execute_result",
          "data": {
            "text/plain": [
              "0      1465\n",
              "1     31296\n",
              "2     10590\n",
              "3      3757\n",
              "4      1619\n",
              "5       555\n",
              "6       277\n",
              "7       115\n",
              "8        60\n",
              "9        35\n",
              "10       17\n",
              "11       15\n",
              "12       17\n",
              "13        7\n",
              "14        4\n",
              "15        1\n",
              "16        3\n",
              "17        2\n",
              "18        2\n",
              "21        2\n",
              "22        1\n",
              "26        1\n",
              "40        1\n",
              "Name: v_beds, dtype: int64"
            ]
          },
          "metadata": {
            "tags": []
          },
          "execution_count": 42
        }
      ]
    },
    {
      "cell_type": "markdown",
      "metadata": {
        "id": "JVedMXHQ5fX0"
      },
      "source": [
        "### Variable de antigüedad del host `d_host_since`\n"
      ]
    },
    {
      "cell_type": "markdown",
      "metadata": {
        "id": "HOVGiC4z5r8j"
      },
      "source": [
        "#### Eliminación de valores nulos"
      ]
    },
    {
      "cell_type": "code",
      "metadata": {
        "id": "geYhyKV55qpv"
      },
      "source": [
        "df = df[~df[\"d_host_since\"].isnull()]"
      ],
      "execution_count": null,
      "outputs": []
    },
    {
      "cell_type": "markdown",
      "metadata": {
        "id": "kZlHU4kU6p8J"
      },
      "source": [
        "#### Filtrado solo mes y año"
      ]
    },
    {
      "cell_type": "code",
      "metadata": {
        "colab": {
          "base_uri": "https://localhost:8080/"
        },
        "id": "Gp_-X6rI6pb3",
        "outputId": "3c802a9d-06e0-474b-8988-8da230045a56"
      },
      "source": [
        "def trim_day_from_date(date_str):\n",
        "  return \"-\".join(date_str.split(\"-\")[0:2])\n",
        "df[\"d_host_since\"] = df[\"d_host_since\"].map(trim_day_from_date)\n",
        "df[\"d_host_since\"].value_counts().head(5)"
      ],
      "execution_count": null,
      "outputs": [
        {
          "output_type": "execute_result",
          "data": {
            "text/plain": [
              "2014-07    775\n",
              "2015-07    769\n",
              "2015-12    764\n",
              "2014-05    743\n",
              "2015-11    734\n",
              "Name: d_host_since, dtype: int64"
            ]
          },
          "metadata": {
            "tags": []
          },
          "execution_count": 44
        }
      ]
    },
    {
      "cell_type": "markdown",
      "metadata": {
        "id": "dYunfUt884-W"
      },
      "source": [
        "### Variable de huéspedes permitidos `v_accommodates`"
      ]
    },
    {
      "cell_type": "code",
      "metadata": {
        "id": "i3W1TxAl8_8w"
      },
      "source": [
        "df[\"v_accommodates\"] = df[\"v_accommodates\"].map(int)"
      ],
      "execution_count": null,
      "outputs": []
    },
    {
      "cell_type": "markdown",
      "metadata": {
        "id": "lSzbNiQVosN7"
      },
      "source": [
        "### Variable de precio `c_price`"
      ]
    },
    {
      "cell_type": "code",
      "metadata": {
        "id": "f6CBqO81owCo"
      },
      "source": [
        "df[\"c_price\"] = df[\"c_price\"].str.replace(\"$\",\"\")\n",
        "df[\"c_price\"] = df[\"c_price\"].str.replace(\",\",\"\")\n",
        "df[\"c_price\"] = pd.to_numeric(df[\"c_price\"])"
      ],
      "execution_count": null,
      "outputs": []
    },
    {
      "cell_type": "markdown",
      "metadata": {
        "id": "VgygQcaypNRt"
      },
      "source": [
        "### Variable de precio por persona adicional `c_extra_people`"
      ]
    },
    {
      "cell_type": "code",
      "metadata": {
        "id": "dmmaF1rBpSzE"
      },
      "source": [
        "df[\"c_extra_people\"] = df[\"c_extra_people\"].str.replace(\"$\",\"\")\n",
        "df[\"c_extra_people\"] = df[\"c_extra_people\"].str.replace(\",\",\"\")\n",
        "df[\"c_extra_people\"] = pd.to_numeric(df[\"c_extra_people\"])"
      ],
      "execution_count": null,
      "outputs": []
    },
    {
      "cell_type": "markdown",
      "metadata": {
        "id": "iXbC_osfIQN0"
      },
      "source": [
        "### Variable de título de la publicación `t_name`"
      ]
    },
    {
      "cell_type": "markdown",
      "metadata": {
        "id": "JqOfLKl5JPFt"
      },
      "source": [
        "Descargamos las stopwords cargadas en el modulo para limpiar la variable."
      ]
    },
    {
      "cell_type": "code",
      "metadata": {
        "colab": {
          "base_uri": "https://localhost:8080/"
        },
        "id": "YMc4LMEzIpso",
        "outputId": "a7ba5305-12cd-4594-c485-c33157a2670e"
      },
      "source": [
        " nltk.download('stopwords')"
      ],
      "execution_count": null,
      "outputs": [
        {
          "output_type": "stream",
          "text": [
            "[nltk_data] Downloading package stopwords to /root/nltk_data...\n",
            "[nltk_data]   Unzipping corpora/stopwords.zip.\n"
          ],
          "name": "stdout"
        },
        {
          "output_type": "execute_result",
          "data": {
            "text/plain": [
              "True"
            ]
          },
          "metadata": {
            "tags": []
          },
          "execution_count": 48
        }
      ]
    },
    {
      "cell_type": "markdown",
      "metadata": {
        "id": "5RBcr_8cgEcA"
      },
      "source": [
        "Realizamos una función para limpiar las variables de texto, pero demora mucho tiempo, retirar los comentarios considerando un tiempo aproximado de 1 hr para las tres variables"
      ]
    },
    {
      "cell_type": "code",
      "metadata": {
        "id": "kfH_1XDgIaPK"
      },
      "source": [
        "#df=clean(df,'t_name')"
      ],
      "execution_count": null,
      "outputs": []
    },
    {
      "cell_type": "markdown",
      "metadata": {
        "id": "Zu9m-YRVJeVv"
      },
      "source": [
        "### Variable de resumen de la propiedad `t_summary`"
      ]
    },
    {
      "cell_type": "code",
      "metadata": {
        "id": "TryZYTYJJes8"
      },
      "source": [
        "#df=clean(df,'t_summary')"
      ],
      "execution_count": null,
      "outputs": []
    },
    {
      "cell_type": "markdown",
      "metadata": {
        "id": "tbMpgQCKJqVc"
      },
      "source": [
        "###Variable de descripción de la propiedad `t_description`"
      ]
    },
    {
      "cell_type": "code",
      "metadata": {
        "id": "gPyFyTzvJq2C"
      },
      "source": [
        "#df=clean(df,'t_description')"
      ],
      "execution_count": null,
      "outputs": []
    },
    {
      "cell_type": "markdown",
      "metadata": {
        "id": "VkUTxaFbMO8L"
      },
      "source": [
        "### Limpieza de texto final"
      ]
    },
    {
      "cell_type": "markdown",
      "metadata": {
        "id": "DpWedzjogaT-"
      },
      "source": [
        "Limpieza general de las variables de texto, se pasan a minúsculas, se retiran caracteres especiales y saltos de línea"
      ]
    },
    {
      "cell_type": "code",
      "metadata": {
        "id": "HvEbeGEZMR-I"
      },
      "source": [
        "text=['t_name','t_summary','t_description','t_neighbourhood',\t'v_neighbourhood_cleansed',\t't_neighbourhood_group_cleansed','v_property_type','v_room_type','v_cancellation_policy']\n",
        "\n",
        "for t in text:\n",
        "    df[f'{t}']=df[f'{t}'].map(lambda x:clean_text(str(x).lower(), pattern=\"[^a-zA-Z0-9]\").replace(\"\\n\",\"\"))"
      ],
      "execution_count": null,
      "outputs": []
    },
    {
      "cell_type": "markdown",
      "metadata": {
        "id": "PSxDk_GwaMEN"
      },
      "source": [
        "### Variable `v_zipcode`"
      ]
    },
    {
      "cell_type": "code",
      "metadata": {
        "id": "YNuR7ogYae5o"
      },
      "source": [
        "df[\"v_zipcode\"]=df[\"v_zipcode\"].str.replace(\"NY \",\"\")\r\n",
        "df[\"v_zipcode\"]=df[\"v_zipcode\"].str.strip()\r\n",
        "cambio={\"11249\\n11249\":\"11249\",'11103-3233':\"11103\",'11413-3220':\"11413\",'10002-2289':\"10002\",'11385-2308':\"11385\"}\r\n",
        "df[\"v_zipcode\"].replace(cambio,inplace=True)\r\n",
        "df[\"v_zipcode\"].replace(\"\",np.nan, inplace=True)\r\n",
        "df=df[~df[\"v_zipcode\"].isnull()]"
      ],
      "execution_count": null,
      "outputs": []
    },
    {
      "cell_type": "code",
      "metadata": {
        "colab": {
          "base_uri": "https://localhost:8080/"
        },
        "id": "_81akve6ahts",
        "outputId": "71ed8dff-41fe-4e13-ce56-11f90744c6fd"
      },
      "source": [
        "y=verificar_zipcodes(df[\"v_zipcode\"])\r\n",
        "y"
      ],
      "execution_count": null,
      "outputs": [
        {
          "output_type": "execute_result",
          "data": {
            "text/plain": [
              "[('91766', 'CA'), ('07093', 'NJ')]"
            ]
          },
          "metadata": {
            "tags": []
          },
          "execution_count": 54
        }
      ]
    },
    {
      "cell_type": "markdown",
      "metadata": {
        "id": "5y-XL8HShM-3"
      },
      "source": [
        "##Análisis Exploratorio"
      ]
    },
    {
      "cell_type": "markdown",
      "metadata": {
        "id": "Jr1clxZJhQV0"
      },
      "source": [
        "#### A.E. `v_host_is_superhost`"
      ]
    },
    {
      "cell_type": "markdown",
      "metadata": {
        "id": "3VKm0k-ihc6r"
      },
      "source": [
        "Notamos que solamente el 19.7% de los anfitriones tienen la distinción de superhost que los hace destacar en la plataforma"
      ]
    },
    {
      "cell_type": "code",
      "metadata": {
        "id": "A9cYGkWPHak2"
      },
      "source": [
        "pie(df,'v_host_is_superhost','Super host',x_title=\"\",y_title=\"\")"
      ],
      "execution_count": null,
      "outputs": []
    },
    {
      "cell_type": "markdown",
      "metadata": {
        "id": "wf9WlcsfhykQ"
      },
      "source": [
        "#### A.E. `d_host_since`"
      ]
    },
    {
      "cell_type": "markdown",
      "metadata": {
        "id": "bPDRPVn1hzcO"
      },
      "source": [
        "Generamos variables adicionales para anilzar los meses con mayores registros y la evolución de anfitriones en los años de antigüedad de la app"
      ]
    },
    {
      "cell_type": "code",
      "metadata": {
        "id": "gLHgMOAphz7x"
      },
      "source": [
        "df['d_host_since_year']=df['d_host_since'].map(lambda x:x.split('-')[0])\n",
        "df['d_host_since_month']=df['d_host_since'].map(lambda x:x.split('-')[1])"
      ],
      "execution_count": null,
      "outputs": []
    },
    {
      "cell_type": "code",
      "metadata": {
        "id": "G4ymxDx1itfI"
      },
      "source": [
        "bar(df,'d_host_since_year','Año de registro de anfitrión',11,x_title=\"Año\",y_title=\"Número de anfitriones\")"
      ],
      "execution_count": null,
      "outputs": []
    },
    {
      "cell_type": "code",
      "metadata": {
        "id": "FEo_7sptjAsM"
      },
      "source": [
        "bar(df,'d_host_since_month','Mes de registro de anfitrión',12,x_title=\"Mes\",y_title=\"Número de anfitriones\")"
      ],
      "execution_count": null,
      "outputs": []
    },
    {
      "cell_type": "markdown",
      "metadata": {
        "id": "LMbquqeLjkag"
      },
      "source": [
        "Observamos que en los meses de mayo, junio y julio, existe un aumento considerable en los registros de anfitriones, posiblimente coincida con la temporada vacacional. Para los registros por año encontramos un crecimiento exponencial hasta el 2015 con un decrecimiento por un estancamiento o estabilidad de la aplicación para los años posteriores."
      ]
    },
    {
      "cell_type": "markdown",
      "metadata": {
        "id": "qt8vYRNzkLG-"
      },
      "source": [
        "#### A.E. `t_neighbourhood`"
      ]
    },
    {
      "cell_type": "markdown",
      "metadata": {
        "id": "VJLZYoLrkMIm"
      },
      "source": [
        "La gráfica demuestra que los barrios de Brooklyn y Manhattan concentran el mayor número de propiedades registradas en Airbnb."
      ]
    },
    {
      "cell_type": "code",
      "metadata": {
        "id": "Dn1MRBhikMsG"
      },
      "source": [
        "bar(df,'t_neighbourhood','Vecindario',12,x_title=\"Vecindario\",y_title=\"Número de anfitriones\")"
      ],
      "execution_count": null,
      "outputs": []
    },
    {
      "cell_type": "markdown",
      "metadata": {
        "id": "X4gIuBMAn28x"
      },
      "source": [
        "#### A.E. Precio por noche en Brooklyn"
      ]
    },
    {
      "cell_type": "markdown",
      "metadata": {
        "id": "gP2X0rfTn2wE"
      },
      "source": [
        "Nos interesa conocer más sobre el barrio con mayor número de propiedades registradas. Encontramos que los anfitriones registraron un precio máximo por noche de \\$10,000 USD y un mínimo de \\$0 USD. El promedio indica un precio de \\$125 USD por noche. No colocamos un boxplot porque la muestra presenta outliers que retiraremos posteriormente."
      ]
    },
    {
      "cell_type": "code",
      "metadata": {
        "id": "vbkg3wT4l3eV"
      },
      "source": [
        "g_aux=df[df['t_neighbourhood']=='brooklyn']\n",
        "g_aux['c_price'].describe()"
      ],
      "execution_count": null,
      "outputs": []
    },
    {
      "cell_type": "markdown",
      "metadata": {
        "id": "EPslDfaLo7LN"
      },
      "source": [
        "#### A.E. Ubicación"
      ]
    },
    {
      "cell_type": "markdown",
      "metadata": {
        "id": "F3F03gdHo7AC"
      },
      "source": [
        "Queremos observar la distribución de las propiedades, por lo que aprovechammos los datos de longitud y latitud para generar un mapa."
      ]
    },
    {
      "cell_type": "code",
      "metadata": {
        "id": "2l6yKb4xo6p2"
      },
      "source": [
        "df['c_latitude']=df['c_latitude'].map(float)\n",
        "df['c_longitude']=df['c_longitude'].map(float)\n",
        "from keplergl import KeplerGl\n",
        "map_1 = KeplerGl()\n",
        "df_mapa=df[['t_name','c_latitude','c_longitude']]\n",
        "map_1.add_data(data=df_mapa, name='data')\n",
        "map_1.save_to_html()"
      ],
      "execution_count": null,
      "outputs": []
    },
    {
      "cell_type": "markdown",
      "metadata": {
        "id": "ebmoxtZPrTkN"
      },
      "source": [
        "#### A.E. `v_property_type`"
      ]
    },
    {
      "cell_type": "markdown",
      "metadata": {
        "id": "bEetr3GJrTZ3"
      },
      "source": [
        "La distribución de los tipos de propiedad con los patrones que muestran otras variables, coinciden en un concepto de estancias cortas, para un número bajo de huespedes, con un promedio de dos personas. Por ello el tipo de propiedad predominante son los departamentos."
      ]
    },
    {
      "cell_type": "code",
      "metadata": {
        "id": "oLfTdJkhrTHL"
      },
      "source": [
        "pie(df,'v_property_type','Tipo de propiedad',x_title=\"\",y_title=\"\")"
      ],
      "execution_count": null,
      "outputs": []
    },
    {
      "cell_type": "markdown",
      "metadata": {
        "id": "M92Fj6per_ML"
      },
      "source": [
        "#### A.E. `v_accommodates`"
      ]
    },
    {
      "cell_type": "markdown",
      "metadata": {
        "id": "iWVB6cYcr_GZ"
      },
      "source": [
        "Confirmamos la información anterior, encontramos que predominan propiedades para un número bajo de huespedes. Por lo que la ciudad respeta su ambiente fluido y con bastante actividad turística."
      ]
    },
    {
      "cell_type": "code",
      "metadata": {
        "id": "mZUFrYINr-7V"
      },
      "source": [
        "bar(df,'v_accommodates','Número de huespedes',11,x_title=\"Huespedes\",y_title=\"Número de propiedades\")"
      ],
      "execution_count": null,
      "outputs": []
    },
    {
      "cell_type": "markdown",
      "metadata": {
        "id": "qF1xpNEIs5rZ"
      },
      "source": [
        "#### A.E. `v_cancellation_policy`"
      ]
    },
    {
      "cell_type": "markdown",
      "metadata": {
        "id": "9hmPYRwOs5ht"
      },
      "source": [
        "La política de cancelación tiene una ligera preferencia por una postura estricta con los huespedes, pero mantiene una distribución equitativa con los otros conceptos de cancelación."
      ]
    },
    {
      "cell_type": "code",
      "metadata": {
        "id": "6M10q7ins5Ub"
      },
      "source": [
        "pie(df,'v_cancellation_policy','Política de cancelación',x_title=\"\",y_title=\"\")"
      ],
      "execution_count": null,
      "outputs": []
    },
    {
      "cell_type": "markdown",
      "metadata": {
        "id": "eRaYpRMKtzkR"
      },
      "source": [
        "####  A.E. `c_amenities`"
      ]
    },
    {
      "cell_type": "markdown",
      "metadata": {
        "id": "JUXG3ylotzbX"
      },
      "source": [
        "La mayoría de las propiedades ofrecen un conjunto de amenidades entre 13 y 30 para la estancia de los huespedes."
      ]
    },
    {
      "cell_type": "code",
      "metadata": {
        "id": "lRvN87HZtzPD"
      },
      "source": [
        "bar(df,'c_amenities','Número de amenidades',75,x_title=\"Número de amenidades\",y_title=\"Número de propiedades\")"
      ],
      "execution_count": null,
      "outputs": []
    },
    {
      "cell_type": "code",
      "metadata": {
        "id": "UCAefWmmNR7I"
      },
      "source": [
        "url='https://raw.githubusercontent.com/DavidHC11/Bedu21/main/proyecto_python/clean.png'\n",
        "mask=transform_white_backgroud(url)\n",
        "image_colors=ImageColorGenerator(mask)\n",
        "stopwords=set(STOPWORDS)\n",
        "word_cloud = WordCloud(mask=mask, background_color='white', contour_width=1, contour_color='grey', max_words=200, min_font_size=5, stopwords=stopwords).generate(\" \".join(df[\"t_description\"]))\n",
        "\n",
        "plt.figure(figsize=(10,8))\n",
        "plt.imshow(word_cloud.recolor(color_func=image_colors), interpolation=\"bilinear\")\n",
        "#word_cloud.to_file(\"python.png\") #guardar la imagen\n",
        "plt.axis('off')\n",
        "plt.tight_layout(pad=0)\n",
        "plt.show()"
      ],
      "execution_count": null,
      "outputs": []
    },
    {
      "cell_type": "markdown",
      "metadata": {
        "id": "qivQBkHpngRL"
      },
      "source": [
        "## Eliminación de Outliers"
      ]
    },
    {
      "cell_type": "code",
      "metadata": {
        "id": "YeTa2fRgoGuD"
      },
      "source": [
        "df.filter(regex=\"^c_\").columns"
      ],
      "execution_count": null,
      "outputs": []
    },
    {
      "cell_type": "code",
      "metadata": {
        "id": "K1333iI0pA8J"
      },
      "source": [
        "outls=OUTLIERS(df, df.filter(regex=\"^c_\").columns)\n",
        "outls"
      ],
      "execution_count": null,
      "outputs": []
    },
    {
      "cell_type": "code",
      "metadata": {
        "id": "pMy81SxBqCW3"
      },
      "source": [
        "df[\"c_extra_people\"].value_counts().head()"
      ],
      "execution_count": null,
      "outputs": []
    },
    {
      "cell_type": "markdown",
      "metadata": {
        "id": "X-SbO66LrK3R"
      },
      "source": [
        "Los anfitriones no comparten el valor de los precios por huesped adicional, por lo que no brinda información la variable. Así que decidimos eliminar la variable asociada."
      ]
    },
    {
      "cell_type": "code",
      "metadata": {
        "id": "A0TilRbHrBhS"
      },
      "source": [
        "df.drop(columns=[\"c_extra_people\"], inplace=True)"
      ],
      "execution_count": null,
      "outputs": []
    },
    {
      "cell_type": "code",
      "metadata": {
        "id": "GDzVuiXDrn24"
      },
      "source": [
        "outls=OUTLIERS(df, df.filter(regex=\"^c_\").columns)\n",
        "outls"
      ],
      "execution_count": null,
      "outputs": []
    },
    {
      "cell_type": "code",
      "metadata": {
        "id": "TQLXAyp3ryOs"
      },
      "source": [
        "tableoutliers(df,outls)"
      ],
      "execution_count": null,
      "outputs": []
    },
    {
      "cell_type": "code",
      "metadata": {
        "id": "S05MROGnr8UN"
      },
      "source": [
        "df_new = dropoutliers(df,outls)\n",
        "df_new.shape"
      ],
      "execution_count": null,
      "outputs": []
    },
    {
      "cell_type": "code",
      "metadata": {
        "id": "Z8fWPg68sSpA"
      },
      "source": [
        "completitud(df_new) # Verificamos que ya no hay valores nulos"
      ],
      "execution_count": null,
      "outputs": []
    },
    {
      "cell_type": "markdown",
      "metadata": {
        "id": "XwEB0pJyno38"
      },
      "source": [
        "## Ingeniería de variables"
      ]
    },
    {
      "cell_type": "markdown",
      "metadata": {
        "id": "24dMARyq6vli"
      },
      "source": [
        "Generamos variables dummies, para poder utilizarlas en un posterior modelo, asignamos el tipo de dato correcto para las variables de la tabla."
      ]
    },
    {
      "cell_type": "code",
      "metadata": {
        "id": "H64TQ-ynLVCT"
      },
      "source": [
        "df_aux=df_new.copy()\n",
        "enteros=['v_zipcode','d_host_since_year','d_host_since_month']\n",
        "dummies=['v_property_type','v_room_type','v_calendar_updated','v_cancellation_policy']\n",
        "factor=['v_host_is_superhost','v_host_identity_verified','v_instant_bookable']\n",
        "\n",
        "for col in factor:\n",
        "  df_new[col]=df_new[col].map(lambda x: int( x=='t'))\n",
        "\n",
        "for col in enteros:\n",
        "  df_new[col]=df_new[col].map(int)\n",
        "\n",
        "for c in dummies:\n",
        "    df_new[c]=df_new[c].map(lambda x: str(x).replace(' ','_'))\n",
        "dummy=pd.get_dummies(df_new[dummies],drop_first= True)\n",
        "df_new=pd.concat([df_new[[x for x in df_new if x not in dummies]],dummy],axis=1)"
      ],
      "execution_count": null,
      "outputs": []
    },
    {
      "cell_type": "markdown",
      "metadata": {
        "id": "nDaQfRxg6srt"
      },
      "source": [
        "### Transformación de `t_neighbourhood`"
      ]
    },
    {
      "cell_type": "code",
      "metadata": {
        "id": "dVnP4VWO3_jE"
      },
      "source": [
        "vecindarios=pd.DataFrame(df_new['t_neighbourhood'].value_counts())"
      ],
      "execution_count": null,
      "outputs": []
    },
    {
      "cell_type": "code",
      "metadata": {
        "id": "qWNBbHGg3_ZY"
      },
      "source": [
        "vecindarios['vecindarios']=vecindarios.index\n",
        "vecindarios.reset_index(inplace=True)\n",
        "vecindarios['index']=vecindarios.index\n",
        "vecindarios=vecindarios.set_index('vecindarios')"
      ],
      "execution_count": null,
      "outputs": []
    },
    {
      "cell_type": "code",
      "metadata": {
        "colab": {
          "background_save": true
        },
        "id": "QXsxWQ-g7jpK"
      },
      "source": [
        "num_veci=vecindarios['index'].to_dict()\n",
        "df_new['t_neighbourhood'].replace(num_veci,inplace=True)"
      ],
      "execution_count": null,
      "outputs": []
    },
    {
      "cell_type": "markdown",
      "metadata": {
        "id": "ceoANwwW_DSj"
      },
      "source": [
        "### Nueva variable `reservaciones_30`"
      ]
    },
    {
      "cell_type": "markdown",
      "metadata": {
        "id": "9UAW_M6D_DK2"
      },
      "source": [
        "Obtenemos el número de reservaciones en los siguientes 30 días"
      ]
    },
    {
      "cell_type": "code",
      "metadata": {
        "colab": {
          "background_save": true
        },
        "id": "22mfN2Ks_DAY"
      },
      "source": [
        "df_new['reservaciones_30']=30 - df_new.v_availability_30"
      ],
      "execution_count": null,
      "outputs": []
    },
    {
      "cell_type": "markdown",
      "metadata": {
        "id": "pZ45CtTQvVQ5"
      },
      "source": [
        "## Reducción de dimensiones"
      ]
    },
    {
      "cell_type": "markdown",
      "metadata": {
        "id": "GTu-s3EY_rHA"
      },
      "source": [
        "### Relación de valor perdido"
      ]
    },
    {
      "cell_type": "markdown",
      "metadata": {
        "id": "a3l36vPN_1ce"
      },
      "source": [
        "Se revisa la completitud de las variables, la tabla nos muestra las variables incompletas"
      ]
    },
    {
      "cell_type": "code",
      "metadata": {
        "colab": {
          "background_save": true
        },
        "id": "bcvk-pBZ8cBL",
        "outputId": "c306b406-2bda-43d6-b575-8952a25b6bf6"
      },
      "source": [
        "completitud(df_new)"
      ],
      "execution_count": null,
      "outputs": [
        {
          "output_type": "execute_result",
          "data": {
            "text/html": [
              "<div>\n",
              "<style scoped>\n",
              "    .dataframe tbody tr th:only-of-type {\n",
              "        vertical-align: middle;\n",
              "    }\n",
              "\n",
              "    .dataframe tbody tr th {\n",
              "        vertical-align: top;\n",
              "    }\n",
              "\n",
              "    .dataframe thead th {\n",
              "        text-align: right;\n",
              "    }\n",
              "</style>\n",
              "<table border=\"1\" class=\"dataframe\">\n",
              "  <thead>\n",
              "    <tr style=\"text-align: right;\">\n",
              "      <th></th>\n",
              "      <th>columna</th>\n",
              "      <th>total</th>\n",
              "      <th>completitud</th>\n",
              "    </tr>\n",
              "  </thead>\n",
              "  <tbody>\n",
              "  </tbody>\n",
              "</table>\n",
              "</div>"
            ],
            "text/plain": [
              "Empty DataFrame\n",
              "Columns: [columna, total, completitud]\n",
              "Index: []"
            ]
          },
          "metadata": {
            "tags": []
          },
          "execution_count": 0
        }
      ]
    },
    {
      "cell_type": "markdown",
      "metadata": {
        "id": "nDHqenk5_5UZ"
      },
      "source": [
        "### Filtro de baja varianza"
      ]
    },
    {
      "cell_type": "markdown",
      "metadata": {
        "id": "SL8A6xNw_4-1"
      },
      "source": [
        "Se revisan las variables con baja varianza, no nos brinda información relevante por lo que se retirarán"
      ]
    },
    {
      "cell_type": "code",
      "metadata": {
        "colab": {
          "background_save": true
        },
        "id": "L3fQtqlp_32f",
        "outputId": "9bd8fe59-54f6-48df-8e2f-fa6e73b2301f"
      },
      "source": [
        "df_new.filter(like=\"c_\").describe(percentiles=np.arange(0.1,1.1,.1))"
      ],
      "execution_count": null,
      "outputs": [
        {
          "output_type": "execute_result",
          "data": {
            "text/html": [
              "<div>\n",
              "<style scoped>\n",
              "    .dataframe tbody tr th:only-of-type {\n",
              "        vertical-align: middle;\n",
              "    }\n",
              "\n",
              "    .dataframe tbody tr th {\n",
              "        vertical-align: top;\n",
              "    }\n",
              "\n",
              "    .dataframe thead th {\n",
              "        text-align: right;\n",
              "    }\n",
              "</style>\n",
              "<table border=\"1\" class=\"dataframe\">\n",
              "  <thead>\n",
              "    <tr style=\"text-align: right;\">\n",
              "      <th></th>\n",
              "      <th>c_host_listings_count</th>\n",
              "      <th>c_host_total_listings_count</th>\n",
              "      <th>c_latitude</th>\n",
              "      <th>c_longitude</th>\n",
              "      <th>c_price</th>\n",
              "      <th>c_minimum_nights_avg_ntm</th>\n",
              "      <th>c_maximum_nights_avg_ntm</th>\n",
              "      <th>c_host_verifications</th>\n",
              "      <th>c_amenities</th>\n",
              "    </tr>\n",
              "  </thead>\n",
              "  <tbody>\n",
              "    <tr>\n",
              "      <th>count</th>\n",
              "      <td>40510.000000</td>\n",
              "      <td>40510.000000</td>\n",
              "      <td>40510.000000</td>\n",
              "      <td>40510.000000</td>\n",
              "      <td>40510.000000</td>\n",
              "      <td>40510.000000</td>\n",
              "      <td>40510.000000</td>\n",
              "      <td>40510.000000</td>\n",
              "      <td>40510.000000</td>\n",
              "    </tr>\n",
              "    <tr>\n",
              "      <th>mean</th>\n",
              "      <td>2.002296</td>\n",
              "      <td>2.002296</td>\n",
              "      <td>40.728351</td>\n",
              "      <td>-73.955443</td>\n",
              "      <td>121.928215</td>\n",
              "      <td>4.966305</td>\n",
              "      <td>609.821145</td>\n",
              "      <td>5.330338</td>\n",
              "      <td>20.349914</td>\n",
              "    </tr>\n",
              "    <tr>\n",
              "      <th>std</th>\n",
              "      <td>2.631605</td>\n",
              "      <td>2.631605</td>\n",
              "      <td>0.053547</td>\n",
              "      <td>0.031038</td>\n",
              "      <td>70.751948</td>\n",
              "      <td>7.167621</td>\n",
              "      <td>536.874910</td>\n",
              "      <td>1.932578</td>\n",
              "      <td>9.272792</td>\n",
              "    </tr>\n",
              "    <tr>\n",
              "      <th>min</th>\n",
              "      <td>0.000000</td>\n",
              "      <td>0.000000</td>\n",
              "      <td>40.579340</td>\n",
              "      <td>-74.039420</td>\n",
              "      <td>0.000000</td>\n",
              "      <td>1.000000</td>\n",
              "      <td>1.000000</td>\n",
              "      <td>0.000000</td>\n",
              "      <td>0.000000</td>\n",
              "    </tr>\n",
              "    <tr>\n",
              "      <th>10%</th>\n",
              "      <td>1.000000</td>\n",
              "      <td>1.000000</td>\n",
              "      <td>40.668419</td>\n",
              "      <td>-73.994760</td>\n",
              "      <td>49.000000</td>\n",
              "      <td>1.000000</td>\n",
              "      <td>10.000000</td>\n",
              "      <td>3.000000</td>\n",
              "      <td>10.000000</td>\n",
              "    </tr>\n",
              "    <tr>\n",
              "      <th>20%</th>\n",
              "      <td>1.000000</td>\n",
              "      <td>1.000000</td>\n",
              "      <td>40.683768</td>\n",
              "      <td>-73.985842</td>\n",
              "      <td>60.000000</td>\n",
              "      <td>1.000000</td>\n",
              "      <td>21.000000</td>\n",
              "      <td>4.000000</td>\n",
              "      <td>12.000000</td>\n",
              "    </tr>\n",
              "    <tr>\n",
              "      <th>30%</th>\n",
              "      <td>1.000000</td>\n",
              "      <td>1.000000</td>\n",
              "      <td>40.693990</td>\n",
              "      <td>-73.975790</td>\n",
              "      <td>75.000000</td>\n",
              "      <td>2.000000</td>\n",
              "      <td>30.000000</td>\n",
              "      <td>4.000000</td>\n",
              "      <td>14.000000</td>\n",
              "    </tr>\n",
              "    <tr>\n",
              "      <th>40%</th>\n",
              "      <td>1.000000</td>\n",
              "      <td>1.000000</td>\n",
              "      <td>40.709730</td>\n",
              "      <td>-73.961810</td>\n",
              "      <td>89.000000</td>\n",
              "      <td>2.000000</td>\n",
              "      <td>90.000000</td>\n",
              "      <td>5.000000</td>\n",
              "      <td>16.000000</td>\n",
              "    </tr>\n",
              "    <tr>\n",
              "      <th>50%</th>\n",
              "      <td>1.000000</td>\n",
              "      <td>1.000000</td>\n",
              "      <td>40.720960</td>\n",
              "      <td>-73.954550</td>\n",
              "      <td>100.000000</td>\n",
              "      <td>2.300000</td>\n",
              "      <td>1125.000000</td>\n",
              "      <td>5.000000</td>\n",
              "      <td>18.000000</td>\n",
              "    </tr>\n",
              "    <tr>\n",
              "      <th>60%</th>\n",
              "      <td>1.000000</td>\n",
              "      <td>1.000000</td>\n",
              "      <td>40.734330</td>\n",
              "      <td>-73.948460</td>\n",
              "      <td>125.000000</td>\n",
              "      <td>3.000000</td>\n",
              "      <td>1125.000000</td>\n",
              "      <td>6.000000</td>\n",
              "      <td>21.000000</td>\n",
              "    </tr>\n",
              "    <tr>\n",
              "      <th>70%</th>\n",
              "      <td>2.000000</td>\n",
              "      <td>2.000000</td>\n",
              "      <td>40.755960</td>\n",
              "      <td>-73.941700</td>\n",
              "      <td>150.000000</td>\n",
              "      <td>4.000000</td>\n",
              "      <td>1125.000000</td>\n",
              "      <td>6.000000</td>\n",
              "      <td>25.000000</td>\n",
              "    </tr>\n",
              "    <tr>\n",
              "      <th>80%</th>\n",
              "      <td>2.000000</td>\n",
              "      <td>2.000000</td>\n",
              "      <td>40.773050</td>\n",
              "      <td>-73.930320</td>\n",
              "      <td>177.200000</td>\n",
              "      <td>5.000000</td>\n",
              "      <td>1125.000000</td>\n",
              "      <td>7.000000</td>\n",
              "      <td>28.000000</td>\n",
              "    </tr>\n",
              "    <tr>\n",
              "      <th>90%</th>\n",
              "      <td>4.000000</td>\n",
              "      <td>4.000000</td>\n",
              "      <td>40.806220</td>\n",
              "      <td>-73.915100</td>\n",
              "      <td>225.000000</td>\n",
              "      <td>10.000000</td>\n",
              "      <td>1125.000000</td>\n",
              "      <td>8.000000</td>\n",
              "      <td>34.000000</td>\n",
              "    </tr>\n",
              "    <tr>\n",
              "      <th>100%</th>\n",
              "      <td>21.000000</td>\n",
              "      <td>21.000000</td>\n",
              "      <td>40.873120</td>\n",
              "      <td>-73.858190</td>\n",
              "      <td>350.000000</td>\n",
              "      <td>30.000000</td>\n",
              "      <td>2000.000000</td>\n",
              "      <td>11.000000</td>\n",
              "      <td>49.000000</td>\n",
              "    </tr>\n",
              "    <tr>\n",
              "      <th>max</th>\n",
              "      <td>21.000000</td>\n",
              "      <td>21.000000</td>\n",
              "      <td>40.873120</td>\n",
              "      <td>-73.858190</td>\n",
              "      <td>350.000000</td>\n",
              "      <td>30.000000</td>\n",
              "      <td>2000.000000</td>\n",
              "      <td>11.000000</td>\n",
              "      <td>49.000000</td>\n",
              "    </tr>\n",
              "  </tbody>\n",
              "</table>\n",
              "</div>"
            ],
            "text/plain": [
              "       c_host_listings_count  c_host_total_listings_count    c_latitude  \\\n",
              "count           40510.000000                 40510.000000  40510.000000   \n",
              "mean                2.002296                     2.002296     40.728351   \n",
              "std                 2.631605                     2.631605      0.053547   \n",
              "min                 0.000000                     0.000000     40.579340   \n",
              "10%                 1.000000                     1.000000     40.668419   \n",
              "20%                 1.000000                     1.000000     40.683768   \n",
              "30%                 1.000000                     1.000000     40.693990   \n",
              "40%                 1.000000                     1.000000     40.709730   \n",
              "50%                 1.000000                     1.000000     40.720960   \n",
              "60%                 1.000000                     1.000000     40.734330   \n",
              "70%                 2.000000                     2.000000     40.755960   \n",
              "80%                 2.000000                     2.000000     40.773050   \n",
              "90%                 4.000000                     4.000000     40.806220   \n",
              "100%               21.000000                    21.000000     40.873120   \n",
              "max                21.000000                    21.000000     40.873120   \n",
              "\n",
              "        c_longitude       c_price  c_minimum_nights_avg_ntm  \\\n",
              "count  40510.000000  40510.000000              40510.000000   \n",
              "mean     -73.955443    121.928215                  4.966305   \n",
              "std        0.031038     70.751948                  7.167621   \n",
              "min      -74.039420      0.000000                  1.000000   \n",
              "10%      -73.994760     49.000000                  1.000000   \n",
              "20%      -73.985842     60.000000                  1.000000   \n",
              "30%      -73.975790     75.000000                  2.000000   \n",
              "40%      -73.961810     89.000000                  2.000000   \n",
              "50%      -73.954550    100.000000                  2.300000   \n",
              "60%      -73.948460    125.000000                  3.000000   \n",
              "70%      -73.941700    150.000000                  4.000000   \n",
              "80%      -73.930320    177.200000                  5.000000   \n",
              "90%      -73.915100    225.000000                 10.000000   \n",
              "100%     -73.858190    350.000000                 30.000000   \n",
              "max      -73.858190    350.000000                 30.000000   \n",
              "\n",
              "       c_maximum_nights_avg_ntm  c_host_verifications   c_amenities  \n",
              "count              40510.000000          40510.000000  40510.000000  \n",
              "mean                 609.821145              5.330338     20.349914  \n",
              "std                  536.874910              1.932578      9.272792  \n",
              "min                    1.000000              0.000000      0.000000  \n",
              "10%                   10.000000              3.000000     10.000000  \n",
              "20%                   21.000000              4.000000     12.000000  \n",
              "30%                   30.000000              4.000000     14.000000  \n",
              "40%                   90.000000              5.000000     16.000000  \n",
              "50%                 1125.000000              5.000000     18.000000  \n",
              "60%                 1125.000000              6.000000     21.000000  \n",
              "70%                 1125.000000              6.000000     25.000000  \n",
              "80%                 1125.000000              7.000000     28.000000  \n",
              "90%                 1125.000000              8.000000     34.000000  \n",
              "100%                2000.000000             11.000000     49.000000  \n",
              "max                 2000.000000             11.000000     49.000000  "
            ]
          },
          "metadata": {
            "tags": []
          },
          "execution_count": 0
        }
      ]
    },
    {
      "cell_type": "markdown",
      "metadata": {
        "id": "0CP5qgcmANN-"
      },
      "source": [
        "No se elimina ninguna columna por este filtro"
      ]
    },
    {
      "cell_type": "markdown",
      "metadata": {
        "id": "srvI-64mATPj"
      },
      "source": [
        "### Filtro de alta correlación"
      ]
    },
    {
      "cell_type": "markdown",
      "metadata": {
        "id": "Bne83iXSATDQ"
      },
      "source": [
        "Analizamos las variables correlacionadas entre sí y conservamos las que nos aporten mayor información para nuestro objetivo"
      ]
    },
    {
      "cell_type": "code",
      "metadata": {
        "colab": {
          "background_save": true
        },
        "id": "9P6uOdq6AJTc"
      },
      "source": [
        "corr=df_new[[x for x in df_new if x!=\"c_price\"]].corr(method=\"spearman\")\n",
        "corr=abs(corr)"
      ],
      "execution_count": null,
      "outputs": []
    },
    {
      "cell_type": "code",
      "metadata": {
        "colab": {
          "background_save": true
        },
        "id": "noZukvsaAe0a",
        "outputId": "7cc5a820-af83-4a08-8f7c-1faf9a33dd2e"
      },
      "source": [
        "for col in corr.columns:\n",
        "    display(corr[[col]][corr[[col]]>.8].dropna())"
      ],
      "execution_count": null,
      "outputs": [
        {
          "output_type": "display_data",
          "data": {
            "text/html": [
              "<div>\n",
              "<style scoped>\n",
              "    .dataframe tbody tr th:only-of-type {\n",
              "        vertical-align: middle;\n",
              "    }\n",
              "\n",
              "    .dataframe tbody tr th {\n",
              "        vertical-align: top;\n",
              "    }\n",
              "\n",
              "    .dataframe thead th {\n",
              "        text-align: right;\n",
              "    }\n",
              "</style>\n",
              "<table border=\"1\" class=\"dataframe\">\n",
              "  <thead>\n",
              "    <tr style=\"text-align: right;\">\n",
              "      <th></th>\n",
              "      <th>v_host_is_superhost</th>\n",
              "    </tr>\n",
              "  </thead>\n",
              "  <tbody>\n",
              "    <tr>\n",
              "      <th>v_host_is_superhost</th>\n",
              "      <td>1.0</td>\n",
              "    </tr>\n",
              "  </tbody>\n",
              "</table>\n",
              "</div>"
            ],
            "text/plain": [
              "                     v_host_is_superhost\n",
              "v_host_is_superhost                  1.0"
            ]
          },
          "metadata": {
            "tags": []
          }
        },
        {
          "output_type": "display_data",
          "data": {
            "text/html": [
              "<div>\n",
              "<style scoped>\n",
              "    .dataframe tbody tr th:only-of-type {\n",
              "        vertical-align: middle;\n",
              "    }\n",
              "\n",
              "    .dataframe tbody tr th {\n",
              "        vertical-align: top;\n",
              "    }\n",
              "\n",
              "    .dataframe thead th {\n",
              "        text-align: right;\n",
              "    }\n",
              "</style>\n",
              "<table border=\"1\" class=\"dataframe\">\n",
              "  <thead>\n",
              "    <tr style=\"text-align: right;\">\n",
              "      <th></th>\n",
              "      <th>c_host_listings_count</th>\n",
              "    </tr>\n",
              "  </thead>\n",
              "  <tbody>\n",
              "    <tr>\n",
              "      <th>c_host_listings_count</th>\n",
              "      <td>1.0</td>\n",
              "    </tr>\n",
              "    <tr>\n",
              "      <th>c_host_total_listings_count</th>\n",
              "      <td>1.0</td>\n",
              "    </tr>\n",
              "  </tbody>\n",
              "</table>\n",
              "</div>"
            ],
            "text/plain": [
              "                             c_host_listings_count\n",
              "c_host_listings_count                          1.0\n",
              "c_host_total_listings_count                    1.0"
            ]
          },
          "metadata": {
            "tags": []
          }
        },
        {
          "output_type": "display_data",
          "data": {
            "text/html": [
              "<div>\n",
              "<style scoped>\n",
              "    .dataframe tbody tr th:only-of-type {\n",
              "        vertical-align: middle;\n",
              "    }\n",
              "\n",
              "    .dataframe tbody tr th {\n",
              "        vertical-align: top;\n",
              "    }\n",
              "\n",
              "    .dataframe thead th {\n",
              "        text-align: right;\n",
              "    }\n",
              "</style>\n",
              "<table border=\"1\" class=\"dataframe\">\n",
              "  <thead>\n",
              "    <tr style=\"text-align: right;\">\n",
              "      <th></th>\n",
              "      <th>c_host_total_listings_count</th>\n",
              "    </tr>\n",
              "  </thead>\n",
              "  <tbody>\n",
              "    <tr>\n",
              "      <th>c_host_listings_count</th>\n",
              "      <td>1.0</td>\n",
              "    </tr>\n",
              "    <tr>\n",
              "      <th>c_host_total_listings_count</th>\n",
              "      <td>1.0</td>\n",
              "    </tr>\n",
              "  </tbody>\n",
              "</table>\n",
              "</div>"
            ],
            "text/plain": [
              "                             c_host_total_listings_count\n",
              "c_host_listings_count                                1.0\n",
              "c_host_total_listings_count                          1.0"
            ]
          },
          "metadata": {
            "tags": []
          }
        },
        {
          "output_type": "display_data",
          "data": {
            "text/html": [
              "<div>\n",
              "<style scoped>\n",
              "    .dataframe tbody tr th:only-of-type {\n",
              "        vertical-align: middle;\n",
              "    }\n",
              "\n",
              "    .dataframe tbody tr th {\n",
              "        vertical-align: top;\n",
              "    }\n",
              "\n",
              "    .dataframe thead th {\n",
              "        text-align: right;\n",
              "    }\n",
              "</style>\n",
              "<table border=\"1\" class=\"dataframe\">\n",
              "  <thead>\n",
              "    <tr style=\"text-align: right;\">\n",
              "      <th></th>\n",
              "      <th>v_host_identity_verified</th>\n",
              "    </tr>\n",
              "  </thead>\n",
              "  <tbody>\n",
              "    <tr>\n",
              "      <th>v_host_identity_verified</th>\n",
              "      <td>1.0</td>\n",
              "    </tr>\n",
              "  </tbody>\n",
              "</table>\n",
              "</div>"
            ],
            "text/plain": [
              "                          v_host_identity_verified\n",
              "v_host_identity_verified                       1.0"
            ]
          },
          "metadata": {
            "tags": []
          }
        },
        {
          "output_type": "display_data",
          "data": {
            "text/html": [
              "<div>\n",
              "<style scoped>\n",
              "    .dataframe tbody tr th:only-of-type {\n",
              "        vertical-align: middle;\n",
              "    }\n",
              "\n",
              "    .dataframe tbody tr th {\n",
              "        vertical-align: top;\n",
              "    }\n",
              "\n",
              "    .dataframe thead th {\n",
              "        text-align: right;\n",
              "    }\n",
              "</style>\n",
              "<table border=\"1\" class=\"dataframe\">\n",
              "  <thead>\n",
              "    <tr style=\"text-align: right;\">\n",
              "      <th></th>\n",
              "      <th>t_neighbourhood</th>\n",
              "    </tr>\n",
              "  </thead>\n",
              "  <tbody>\n",
              "    <tr>\n",
              "      <th>t_neighbourhood</th>\n",
              "      <td>1.0</td>\n",
              "    </tr>\n",
              "  </tbody>\n",
              "</table>\n",
              "</div>"
            ],
            "text/plain": [
              "                 t_neighbourhood\n",
              "t_neighbourhood              1.0"
            ]
          },
          "metadata": {
            "tags": []
          }
        },
        {
          "output_type": "display_data",
          "data": {
            "text/html": [
              "<div>\n",
              "<style scoped>\n",
              "    .dataframe tbody tr th:only-of-type {\n",
              "        vertical-align: middle;\n",
              "    }\n",
              "\n",
              "    .dataframe tbody tr th {\n",
              "        vertical-align: top;\n",
              "    }\n",
              "\n",
              "    .dataframe thead th {\n",
              "        text-align: right;\n",
              "    }\n",
              "</style>\n",
              "<table border=\"1\" class=\"dataframe\">\n",
              "  <thead>\n",
              "    <tr style=\"text-align: right;\">\n",
              "      <th></th>\n",
              "      <th>v_zipcode</th>\n",
              "    </tr>\n",
              "  </thead>\n",
              "  <tbody>\n",
              "    <tr>\n",
              "      <th>v_zipcode</th>\n",
              "      <td>1.0</td>\n",
              "    </tr>\n",
              "  </tbody>\n",
              "</table>\n",
              "</div>"
            ],
            "text/plain": [
              "           v_zipcode\n",
              "v_zipcode        1.0"
            ]
          },
          "metadata": {
            "tags": []
          }
        },
        {
          "output_type": "display_data",
          "data": {
            "text/html": [
              "<div>\n",
              "<style scoped>\n",
              "    .dataframe tbody tr th:only-of-type {\n",
              "        vertical-align: middle;\n",
              "    }\n",
              "\n",
              "    .dataframe tbody tr th {\n",
              "        vertical-align: top;\n",
              "    }\n",
              "\n",
              "    .dataframe thead th {\n",
              "        text-align: right;\n",
              "    }\n",
              "</style>\n",
              "<table border=\"1\" class=\"dataframe\">\n",
              "  <thead>\n",
              "    <tr style=\"text-align: right;\">\n",
              "      <th></th>\n",
              "      <th>c_latitude</th>\n",
              "    </tr>\n",
              "  </thead>\n",
              "  <tbody>\n",
              "    <tr>\n",
              "      <th>c_latitude</th>\n",
              "      <td>1.0</td>\n",
              "    </tr>\n",
              "  </tbody>\n",
              "</table>\n",
              "</div>"
            ],
            "text/plain": [
              "            c_latitude\n",
              "c_latitude         1.0"
            ]
          },
          "metadata": {
            "tags": []
          }
        },
        {
          "output_type": "display_data",
          "data": {
            "text/html": [
              "<div>\n",
              "<style scoped>\n",
              "    .dataframe tbody tr th:only-of-type {\n",
              "        vertical-align: middle;\n",
              "    }\n",
              "\n",
              "    .dataframe tbody tr th {\n",
              "        vertical-align: top;\n",
              "    }\n",
              "\n",
              "    .dataframe thead th {\n",
              "        text-align: right;\n",
              "    }\n",
              "</style>\n",
              "<table border=\"1\" class=\"dataframe\">\n",
              "  <thead>\n",
              "    <tr style=\"text-align: right;\">\n",
              "      <th></th>\n",
              "      <th>c_longitude</th>\n",
              "    </tr>\n",
              "  </thead>\n",
              "  <tbody>\n",
              "    <tr>\n",
              "      <th>c_longitude</th>\n",
              "      <td>1.0</td>\n",
              "    </tr>\n",
              "  </tbody>\n",
              "</table>\n",
              "</div>"
            ],
            "text/plain": [
              "             c_longitude\n",
              "c_longitude          1.0"
            ]
          },
          "metadata": {
            "tags": []
          }
        },
        {
          "output_type": "display_data",
          "data": {
            "text/html": [
              "<div>\n",
              "<style scoped>\n",
              "    .dataframe tbody tr th:only-of-type {\n",
              "        vertical-align: middle;\n",
              "    }\n",
              "\n",
              "    .dataframe tbody tr th {\n",
              "        vertical-align: top;\n",
              "    }\n",
              "\n",
              "    .dataframe thead th {\n",
              "        text-align: right;\n",
              "    }\n",
              "</style>\n",
              "<table border=\"1\" class=\"dataframe\">\n",
              "  <thead>\n",
              "    <tr style=\"text-align: right;\">\n",
              "      <th></th>\n",
              "      <th>v_accommodates</th>\n",
              "    </tr>\n",
              "  </thead>\n",
              "  <tbody>\n",
              "    <tr>\n",
              "      <th>v_accommodates</th>\n",
              "      <td>1.0</td>\n",
              "    </tr>\n",
              "  </tbody>\n",
              "</table>\n",
              "</div>"
            ],
            "text/plain": [
              "                v_accommodates\n",
              "v_accommodates             1.0"
            ]
          },
          "metadata": {
            "tags": []
          }
        },
        {
          "output_type": "display_data",
          "data": {
            "text/html": [
              "<div>\n",
              "<style scoped>\n",
              "    .dataframe tbody tr th:only-of-type {\n",
              "        vertical-align: middle;\n",
              "    }\n",
              "\n",
              "    .dataframe tbody tr th {\n",
              "        vertical-align: top;\n",
              "    }\n",
              "\n",
              "    .dataframe thead th {\n",
              "        text-align: right;\n",
              "    }\n",
              "</style>\n",
              "<table border=\"1\" class=\"dataframe\">\n",
              "  <thead>\n",
              "    <tr style=\"text-align: right;\">\n",
              "      <th></th>\n",
              "      <th>v_bedrooms</th>\n",
              "    </tr>\n",
              "  </thead>\n",
              "  <tbody>\n",
              "    <tr>\n",
              "      <th>v_bedrooms</th>\n",
              "      <td>1.0</td>\n",
              "    </tr>\n",
              "  </tbody>\n",
              "</table>\n",
              "</div>"
            ],
            "text/plain": [
              "            v_bedrooms\n",
              "v_bedrooms         1.0"
            ]
          },
          "metadata": {
            "tags": []
          }
        },
        {
          "output_type": "display_data",
          "data": {
            "text/html": [
              "<div>\n",
              "<style scoped>\n",
              "    .dataframe tbody tr th:only-of-type {\n",
              "        vertical-align: middle;\n",
              "    }\n",
              "\n",
              "    .dataframe tbody tr th {\n",
              "        vertical-align: top;\n",
              "    }\n",
              "\n",
              "    .dataframe thead th {\n",
              "        text-align: right;\n",
              "    }\n",
              "</style>\n",
              "<table border=\"1\" class=\"dataframe\">\n",
              "  <thead>\n",
              "    <tr style=\"text-align: right;\">\n",
              "      <th></th>\n",
              "      <th>v_beds</th>\n",
              "    </tr>\n",
              "  </thead>\n",
              "  <tbody>\n",
              "    <tr>\n",
              "      <th>v_beds</th>\n",
              "      <td>1.0</td>\n",
              "    </tr>\n",
              "  </tbody>\n",
              "</table>\n",
              "</div>"
            ],
            "text/plain": [
              "        v_beds\n",
              "v_beds     1.0"
            ]
          },
          "metadata": {
            "tags": []
          }
        },
        {
          "output_type": "display_data",
          "data": {
            "text/html": [
              "<div>\n",
              "<style scoped>\n",
              "    .dataframe tbody tr th:only-of-type {\n",
              "        vertical-align: middle;\n",
              "    }\n",
              "\n",
              "    .dataframe tbody tr th {\n",
              "        vertical-align: top;\n",
              "    }\n",
              "\n",
              "    .dataframe thead th {\n",
              "        text-align: right;\n",
              "    }\n",
              "</style>\n",
              "<table border=\"1\" class=\"dataframe\">\n",
              "  <thead>\n",
              "    <tr style=\"text-align: right;\">\n",
              "      <th></th>\n",
              "      <th>v_guests_included</th>\n",
              "    </tr>\n",
              "  </thead>\n",
              "  <tbody>\n",
              "    <tr>\n",
              "      <th>v_guests_included</th>\n",
              "      <td>1.0</td>\n",
              "    </tr>\n",
              "  </tbody>\n",
              "</table>\n",
              "</div>"
            ],
            "text/plain": [
              "                   v_guests_included\n",
              "v_guests_included                1.0"
            ]
          },
          "metadata": {
            "tags": []
          }
        },
        {
          "output_type": "display_data",
          "data": {
            "text/html": [
              "<div>\n",
              "<style scoped>\n",
              "    .dataframe tbody tr th:only-of-type {\n",
              "        vertical-align: middle;\n",
              "    }\n",
              "\n",
              "    .dataframe tbody tr th {\n",
              "        vertical-align: top;\n",
              "    }\n",
              "\n",
              "    .dataframe thead th {\n",
              "        text-align: right;\n",
              "    }\n",
              "</style>\n",
              "<table border=\"1\" class=\"dataframe\">\n",
              "  <thead>\n",
              "    <tr style=\"text-align: right;\">\n",
              "      <th></th>\n",
              "      <th>v_minimum_nights</th>\n",
              "    </tr>\n",
              "  </thead>\n",
              "  <tbody>\n",
              "    <tr>\n",
              "      <th>v_minimum_nights</th>\n",
              "      <td>1.000000</td>\n",
              "    </tr>\n",
              "    <tr>\n",
              "      <th>v_minimum_minimum_nights</th>\n",
              "      <td>0.968695</td>\n",
              "    </tr>\n",
              "    <tr>\n",
              "      <th>v_maximum_minimum_nights</th>\n",
              "      <td>0.954490</td>\n",
              "    </tr>\n",
              "    <tr>\n",
              "      <th>c_minimum_nights_avg_ntm</th>\n",
              "      <td>0.984509</td>\n",
              "    </tr>\n",
              "  </tbody>\n",
              "</table>\n",
              "</div>"
            ],
            "text/plain": [
              "                          v_minimum_nights\n",
              "v_minimum_nights                  1.000000\n",
              "v_minimum_minimum_nights          0.968695\n",
              "v_maximum_minimum_nights          0.954490\n",
              "c_minimum_nights_avg_ntm          0.984509"
            ]
          },
          "metadata": {
            "tags": []
          }
        },
        {
          "output_type": "display_data",
          "data": {
            "text/html": [
              "<div>\n",
              "<style scoped>\n",
              "    .dataframe tbody tr th:only-of-type {\n",
              "        vertical-align: middle;\n",
              "    }\n",
              "\n",
              "    .dataframe tbody tr th {\n",
              "        vertical-align: top;\n",
              "    }\n",
              "\n",
              "    .dataframe thead th {\n",
              "        text-align: right;\n",
              "    }\n",
              "</style>\n",
              "<table border=\"1\" class=\"dataframe\">\n",
              "  <thead>\n",
              "    <tr style=\"text-align: right;\">\n",
              "      <th></th>\n",
              "      <th>v_maximum_nights</th>\n",
              "    </tr>\n",
              "  </thead>\n",
              "  <tbody>\n",
              "    <tr>\n",
              "      <th>v_maximum_nights</th>\n",
              "      <td>1.000000</td>\n",
              "    </tr>\n",
              "    <tr>\n",
              "      <th>v_minimum_maximum_nights</th>\n",
              "      <td>0.951976</td>\n",
              "    </tr>\n",
              "    <tr>\n",
              "      <th>v_maximum_maximum_nights</th>\n",
              "      <td>0.955869</td>\n",
              "    </tr>\n",
              "    <tr>\n",
              "      <th>c_maximum_nights_avg_ntm</th>\n",
              "      <td>0.954844</td>\n",
              "    </tr>\n",
              "  </tbody>\n",
              "</table>\n",
              "</div>"
            ],
            "text/plain": [
              "                          v_maximum_nights\n",
              "v_maximum_nights                  1.000000\n",
              "v_minimum_maximum_nights          0.951976\n",
              "v_maximum_maximum_nights          0.955869\n",
              "c_maximum_nights_avg_ntm          0.954844"
            ]
          },
          "metadata": {
            "tags": []
          }
        },
        {
          "output_type": "display_data",
          "data": {
            "text/html": [
              "<div>\n",
              "<style scoped>\n",
              "    .dataframe tbody tr th:only-of-type {\n",
              "        vertical-align: middle;\n",
              "    }\n",
              "\n",
              "    .dataframe tbody tr th {\n",
              "        vertical-align: top;\n",
              "    }\n",
              "\n",
              "    .dataframe thead th {\n",
              "        text-align: right;\n",
              "    }\n",
              "</style>\n",
              "<table border=\"1\" class=\"dataframe\">\n",
              "  <thead>\n",
              "    <tr style=\"text-align: right;\">\n",
              "      <th></th>\n",
              "      <th>v_minimum_minimum_nights</th>\n",
              "    </tr>\n",
              "  </thead>\n",
              "  <tbody>\n",
              "    <tr>\n",
              "      <th>v_minimum_nights</th>\n",
              "      <td>0.968695</td>\n",
              "    </tr>\n",
              "    <tr>\n",
              "      <th>v_minimum_minimum_nights</th>\n",
              "      <td>1.000000</td>\n",
              "    </tr>\n",
              "    <tr>\n",
              "      <th>v_maximum_minimum_nights</th>\n",
              "      <td>0.925292</td>\n",
              "    </tr>\n",
              "    <tr>\n",
              "      <th>c_minimum_nights_avg_ntm</th>\n",
              "      <td>0.962814</td>\n",
              "    </tr>\n",
              "  </tbody>\n",
              "</table>\n",
              "</div>"
            ],
            "text/plain": [
              "                          v_minimum_minimum_nights\n",
              "v_minimum_nights                          0.968695\n",
              "v_minimum_minimum_nights                  1.000000\n",
              "v_maximum_minimum_nights                  0.925292\n",
              "c_minimum_nights_avg_ntm                  0.962814"
            ]
          },
          "metadata": {
            "tags": []
          }
        },
        {
          "output_type": "display_data",
          "data": {
            "text/html": [
              "<div>\n",
              "<style scoped>\n",
              "    .dataframe tbody tr th:only-of-type {\n",
              "        vertical-align: middle;\n",
              "    }\n",
              "\n",
              "    .dataframe tbody tr th {\n",
              "        vertical-align: top;\n",
              "    }\n",
              "\n",
              "    .dataframe thead th {\n",
              "        text-align: right;\n",
              "    }\n",
              "</style>\n",
              "<table border=\"1\" class=\"dataframe\">\n",
              "  <thead>\n",
              "    <tr style=\"text-align: right;\">\n",
              "      <th></th>\n",
              "      <th>v_maximum_minimum_nights</th>\n",
              "    </tr>\n",
              "  </thead>\n",
              "  <tbody>\n",
              "    <tr>\n",
              "      <th>v_minimum_nights</th>\n",
              "      <td>0.954490</td>\n",
              "    </tr>\n",
              "    <tr>\n",
              "      <th>v_minimum_minimum_nights</th>\n",
              "      <td>0.925292</td>\n",
              "    </tr>\n",
              "    <tr>\n",
              "      <th>v_maximum_minimum_nights</th>\n",
              "      <td>1.000000</td>\n",
              "    </tr>\n",
              "    <tr>\n",
              "      <th>c_minimum_nights_avg_ntm</th>\n",
              "      <td>0.980447</td>\n",
              "    </tr>\n",
              "  </tbody>\n",
              "</table>\n",
              "</div>"
            ],
            "text/plain": [
              "                          v_maximum_minimum_nights\n",
              "v_minimum_nights                          0.954490\n",
              "v_minimum_minimum_nights                  0.925292\n",
              "v_maximum_minimum_nights                  1.000000\n",
              "c_minimum_nights_avg_ntm                  0.980447"
            ]
          },
          "metadata": {
            "tags": []
          }
        },
        {
          "output_type": "display_data",
          "data": {
            "text/html": [
              "<div>\n",
              "<style scoped>\n",
              "    .dataframe tbody tr th:only-of-type {\n",
              "        vertical-align: middle;\n",
              "    }\n",
              "\n",
              "    .dataframe tbody tr th {\n",
              "        vertical-align: top;\n",
              "    }\n",
              "\n",
              "    .dataframe thead th {\n",
              "        text-align: right;\n",
              "    }\n",
              "</style>\n",
              "<table border=\"1\" class=\"dataframe\">\n",
              "  <thead>\n",
              "    <tr style=\"text-align: right;\">\n",
              "      <th></th>\n",
              "      <th>v_minimum_maximum_nights</th>\n",
              "    </tr>\n",
              "  </thead>\n",
              "  <tbody>\n",
              "    <tr>\n",
              "      <th>v_maximum_nights</th>\n",
              "      <td>0.951976</td>\n",
              "    </tr>\n",
              "    <tr>\n",
              "      <th>v_minimum_maximum_nights</th>\n",
              "      <td>1.000000</td>\n",
              "    </tr>\n",
              "    <tr>\n",
              "      <th>v_maximum_maximum_nights</th>\n",
              "      <td>0.995573</td>\n",
              "    </tr>\n",
              "    <tr>\n",
              "      <th>c_maximum_nights_avg_ntm</th>\n",
              "      <td>0.998499</td>\n",
              "    </tr>\n",
              "  </tbody>\n",
              "</table>\n",
              "</div>"
            ],
            "text/plain": [
              "                          v_minimum_maximum_nights\n",
              "v_maximum_nights                          0.951976\n",
              "v_minimum_maximum_nights                  1.000000\n",
              "v_maximum_maximum_nights                  0.995573\n",
              "c_maximum_nights_avg_ntm                  0.998499"
            ]
          },
          "metadata": {
            "tags": []
          }
        },
        {
          "output_type": "display_data",
          "data": {
            "text/html": [
              "<div>\n",
              "<style scoped>\n",
              "    .dataframe tbody tr th:only-of-type {\n",
              "        vertical-align: middle;\n",
              "    }\n",
              "\n",
              "    .dataframe tbody tr th {\n",
              "        vertical-align: top;\n",
              "    }\n",
              "\n",
              "    .dataframe thead th {\n",
              "        text-align: right;\n",
              "    }\n",
              "</style>\n",
              "<table border=\"1\" class=\"dataframe\">\n",
              "  <thead>\n",
              "    <tr style=\"text-align: right;\">\n",
              "      <th></th>\n",
              "      <th>v_maximum_maximum_nights</th>\n",
              "    </tr>\n",
              "  </thead>\n",
              "  <tbody>\n",
              "    <tr>\n",
              "      <th>v_maximum_nights</th>\n",
              "      <td>0.955869</td>\n",
              "    </tr>\n",
              "    <tr>\n",
              "      <th>v_minimum_maximum_nights</th>\n",
              "      <td>0.995573</td>\n",
              "    </tr>\n",
              "    <tr>\n",
              "      <th>v_maximum_maximum_nights</th>\n",
              "      <td>1.000000</td>\n",
              "    </tr>\n",
              "    <tr>\n",
              "      <th>c_maximum_nights_avg_ntm</th>\n",
              "      <td>0.998733</td>\n",
              "    </tr>\n",
              "  </tbody>\n",
              "</table>\n",
              "</div>"
            ],
            "text/plain": [
              "                          v_maximum_maximum_nights\n",
              "v_maximum_nights                          0.955869\n",
              "v_minimum_maximum_nights                  0.995573\n",
              "v_maximum_maximum_nights                  1.000000\n",
              "c_maximum_nights_avg_ntm                  0.998733"
            ]
          },
          "metadata": {
            "tags": []
          }
        },
        {
          "output_type": "display_data",
          "data": {
            "text/html": [
              "<div>\n",
              "<style scoped>\n",
              "    .dataframe tbody tr th:only-of-type {\n",
              "        vertical-align: middle;\n",
              "    }\n",
              "\n",
              "    .dataframe tbody tr th {\n",
              "        vertical-align: top;\n",
              "    }\n",
              "\n",
              "    .dataframe thead th {\n",
              "        text-align: right;\n",
              "    }\n",
              "</style>\n",
              "<table border=\"1\" class=\"dataframe\">\n",
              "  <thead>\n",
              "    <tr style=\"text-align: right;\">\n",
              "      <th></th>\n",
              "      <th>c_minimum_nights_avg_ntm</th>\n",
              "    </tr>\n",
              "  </thead>\n",
              "  <tbody>\n",
              "    <tr>\n",
              "      <th>v_minimum_nights</th>\n",
              "      <td>0.984509</td>\n",
              "    </tr>\n",
              "    <tr>\n",
              "      <th>v_minimum_minimum_nights</th>\n",
              "      <td>0.962814</td>\n",
              "    </tr>\n",
              "    <tr>\n",
              "      <th>v_maximum_minimum_nights</th>\n",
              "      <td>0.980447</td>\n",
              "    </tr>\n",
              "    <tr>\n",
              "      <th>c_minimum_nights_avg_ntm</th>\n",
              "      <td>1.000000</td>\n",
              "    </tr>\n",
              "  </tbody>\n",
              "</table>\n",
              "</div>"
            ],
            "text/plain": [
              "                          c_minimum_nights_avg_ntm\n",
              "v_minimum_nights                          0.984509\n",
              "v_minimum_minimum_nights                  0.962814\n",
              "v_maximum_minimum_nights                  0.980447\n",
              "c_minimum_nights_avg_ntm                  1.000000"
            ]
          },
          "metadata": {
            "tags": []
          }
        },
        {
          "output_type": "display_data",
          "data": {
            "text/html": [
              "<div>\n",
              "<style scoped>\n",
              "    .dataframe tbody tr th:only-of-type {\n",
              "        vertical-align: middle;\n",
              "    }\n",
              "\n",
              "    .dataframe tbody tr th {\n",
              "        vertical-align: top;\n",
              "    }\n",
              "\n",
              "    .dataframe thead th {\n",
              "        text-align: right;\n",
              "    }\n",
              "</style>\n",
              "<table border=\"1\" class=\"dataframe\">\n",
              "  <thead>\n",
              "    <tr style=\"text-align: right;\">\n",
              "      <th></th>\n",
              "      <th>c_maximum_nights_avg_ntm</th>\n",
              "    </tr>\n",
              "  </thead>\n",
              "  <tbody>\n",
              "    <tr>\n",
              "      <th>v_maximum_nights</th>\n",
              "      <td>0.954844</td>\n",
              "    </tr>\n",
              "    <tr>\n",
              "      <th>v_minimum_maximum_nights</th>\n",
              "      <td>0.998499</td>\n",
              "    </tr>\n",
              "    <tr>\n",
              "      <th>v_maximum_maximum_nights</th>\n",
              "      <td>0.998733</td>\n",
              "    </tr>\n",
              "    <tr>\n",
              "      <th>c_maximum_nights_avg_ntm</th>\n",
              "      <td>1.000000</td>\n",
              "    </tr>\n",
              "  </tbody>\n",
              "</table>\n",
              "</div>"
            ],
            "text/plain": [
              "                          c_maximum_nights_avg_ntm\n",
              "v_maximum_nights                          0.954844\n",
              "v_minimum_maximum_nights                  0.998499\n",
              "v_maximum_maximum_nights                  0.998733\n",
              "c_maximum_nights_avg_ntm                  1.000000"
            ]
          },
          "metadata": {
            "tags": []
          }
        },
        {
          "output_type": "display_data",
          "data": {
            "text/html": [
              "<div>\n",
              "<style scoped>\n",
              "    .dataframe tbody tr th:only-of-type {\n",
              "        vertical-align: middle;\n",
              "    }\n",
              "\n",
              "    .dataframe tbody tr th {\n",
              "        vertical-align: top;\n",
              "    }\n",
              "\n",
              "    .dataframe thead th {\n",
              "        text-align: right;\n",
              "    }\n",
              "</style>\n",
              "<table border=\"1\" class=\"dataframe\">\n",
              "  <thead>\n",
              "    <tr style=\"text-align: right;\">\n",
              "      <th></th>\n",
              "      <th>v_availability_30</th>\n",
              "    </tr>\n",
              "  </thead>\n",
              "  <tbody>\n",
              "    <tr>\n",
              "      <th>v_availability_30</th>\n",
              "      <td>1.000000</td>\n",
              "    </tr>\n",
              "    <tr>\n",
              "      <th>v_availability_60</th>\n",
              "      <td>0.937093</td>\n",
              "    </tr>\n",
              "    <tr>\n",
              "      <th>v_availability_90</th>\n",
              "      <td>0.908065</td>\n",
              "    </tr>\n",
              "    <tr>\n",
              "      <th>reservaciones_30</th>\n",
              "      <td>1.000000</td>\n",
              "    </tr>\n",
              "  </tbody>\n",
              "</table>\n",
              "</div>"
            ],
            "text/plain": [
              "                   v_availability_30\n",
              "v_availability_30           1.000000\n",
              "v_availability_60           0.937093\n",
              "v_availability_90           0.908065\n",
              "reservaciones_30            1.000000"
            ]
          },
          "metadata": {
            "tags": []
          }
        },
        {
          "output_type": "display_data",
          "data": {
            "text/html": [
              "<div>\n",
              "<style scoped>\n",
              "    .dataframe tbody tr th:only-of-type {\n",
              "        vertical-align: middle;\n",
              "    }\n",
              "\n",
              "    .dataframe tbody tr th {\n",
              "        vertical-align: top;\n",
              "    }\n",
              "\n",
              "    .dataframe thead th {\n",
              "        text-align: right;\n",
              "    }\n",
              "</style>\n",
              "<table border=\"1\" class=\"dataframe\">\n",
              "  <thead>\n",
              "    <tr style=\"text-align: right;\">\n",
              "      <th></th>\n",
              "      <th>v_availability_60</th>\n",
              "    </tr>\n",
              "  </thead>\n",
              "  <tbody>\n",
              "    <tr>\n",
              "      <th>v_availability_30</th>\n",
              "      <td>0.937093</td>\n",
              "    </tr>\n",
              "    <tr>\n",
              "      <th>v_availability_60</th>\n",
              "      <td>1.000000</td>\n",
              "    </tr>\n",
              "    <tr>\n",
              "      <th>v_availability_90</th>\n",
              "      <td>0.985836</td>\n",
              "    </tr>\n",
              "    <tr>\n",
              "      <th>v_availability_365</th>\n",
              "      <td>0.882493</td>\n",
              "    </tr>\n",
              "    <tr>\n",
              "      <th>reservaciones_30</th>\n",
              "      <td>0.937093</td>\n",
              "    </tr>\n",
              "  </tbody>\n",
              "</table>\n",
              "</div>"
            ],
            "text/plain": [
              "                    v_availability_60\n",
              "v_availability_30            0.937093\n",
              "v_availability_60            1.000000\n",
              "v_availability_90            0.985836\n",
              "v_availability_365           0.882493\n",
              "reservaciones_30             0.937093"
            ]
          },
          "metadata": {
            "tags": []
          }
        },
        {
          "output_type": "display_data",
          "data": {
            "text/html": [
              "<div>\n",
              "<style scoped>\n",
              "    .dataframe tbody tr th:only-of-type {\n",
              "        vertical-align: middle;\n",
              "    }\n",
              "\n",
              "    .dataframe tbody tr th {\n",
              "        vertical-align: top;\n",
              "    }\n",
              "\n",
              "    .dataframe thead th {\n",
              "        text-align: right;\n",
              "    }\n",
              "</style>\n",
              "<table border=\"1\" class=\"dataframe\">\n",
              "  <thead>\n",
              "    <tr style=\"text-align: right;\">\n",
              "      <th></th>\n",
              "      <th>v_availability_90</th>\n",
              "    </tr>\n",
              "  </thead>\n",
              "  <tbody>\n",
              "    <tr>\n",
              "      <th>v_availability_30</th>\n",
              "      <td>0.908065</td>\n",
              "    </tr>\n",
              "    <tr>\n",
              "      <th>v_availability_60</th>\n",
              "      <td>0.985836</td>\n",
              "    </tr>\n",
              "    <tr>\n",
              "      <th>v_availability_90</th>\n",
              "      <td>1.000000</td>\n",
              "    </tr>\n",
              "    <tr>\n",
              "      <th>v_availability_365</th>\n",
              "      <td>0.908097</td>\n",
              "    </tr>\n",
              "    <tr>\n",
              "      <th>reservaciones_30</th>\n",
              "      <td>0.908065</td>\n",
              "    </tr>\n",
              "  </tbody>\n",
              "</table>\n",
              "</div>"
            ],
            "text/plain": [
              "                    v_availability_90\n",
              "v_availability_30            0.908065\n",
              "v_availability_60            0.985836\n",
              "v_availability_90            1.000000\n",
              "v_availability_365           0.908097\n",
              "reservaciones_30             0.908065"
            ]
          },
          "metadata": {
            "tags": []
          }
        },
        {
          "output_type": "display_data",
          "data": {
            "text/html": [
              "<div>\n",
              "<style scoped>\n",
              "    .dataframe tbody tr th:only-of-type {\n",
              "        vertical-align: middle;\n",
              "    }\n",
              "\n",
              "    .dataframe tbody tr th {\n",
              "        vertical-align: top;\n",
              "    }\n",
              "\n",
              "    .dataframe thead th {\n",
              "        text-align: right;\n",
              "    }\n",
              "</style>\n",
              "<table border=\"1\" class=\"dataframe\">\n",
              "  <thead>\n",
              "    <tr style=\"text-align: right;\">\n",
              "      <th></th>\n",
              "      <th>v_availability_365</th>\n",
              "    </tr>\n",
              "  </thead>\n",
              "  <tbody>\n",
              "    <tr>\n",
              "      <th>v_availability_60</th>\n",
              "      <td>0.882493</td>\n",
              "    </tr>\n",
              "    <tr>\n",
              "      <th>v_availability_90</th>\n",
              "      <td>0.908097</td>\n",
              "    </tr>\n",
              "    <tr>\n",
              "      <th>v_availability_365</th>\n",
              "      <td>1.000000</td>\n",
              "    </tr>\n",
              "  </tbody>\n",
              "</table>\n",
              "</div>"
            ],
            "text/plain": [
              "                    v_availability_365\n",
              "v_availability_60             0.882493\n",
              "v_availability_90             0.908097\n",
              "v_availability_365            1.000000"
            ]
          },
          "metadata": {
            "tags": []
          }
        },
        {
          "output_type": "display_data",
          "data": {
            "text/html": [
              "<div>\n",
              "<style scoped>\n",
              "    .dataframe tbody tr th:only-of-type {\n",
              "        vertical-align: middle;\n",
              "    }\n",
              "\n",
              "    .dataframe tbody tr th {\n",
              "        vertical-align: top;\n",
              "    }\n",
              "\n",
              "    .dataframe thead th {\n",
              "        text-align: right;\n",
              "    }\n",
              "</style>\n",
              "<table border=\"1\" class=\"dataframe\">\n",
              "  <thead>\n",
              "    <tr style=\"text-align: right;\">\n",
              "      <th></th>\n",
              "      <th>v_number_of_reviews</th>\n",
              "    </tr>\n",
              "  </thead>\n",
              "  <tbody>\n",
              "    <tr>\n",
              "      <th>v_number_of_reviews</th>\n",
              "      <td>1.000000</td>\n",
              "    </tr>\n",
              "    <tr>\n",
              "      <th>v_number_of_reviews_ltm</th>\n",
              "      <td>0.803178</td>\n",
              "    </tr>\n",
              "  </tbody>\n",
              "</table>\n",
              "</div>"
            ],
            "text/plain": [
              "                         v_number_of_reviews\n",
              "v_number_of_reviews                 1.000000\n",
              "v_number_of_reviews_ltm             0.803178"
            ]
          },
          "metadata": {
            "tags": []
          }
        },
        {
          "output_type": "display_data",
          "data": {
            "text/html": [
              "<div>\n",
              "<style scoped>\n",
              "    .dataframe tbody tr th:only-of-type {\n",
              "        vertical-align: middle;\n",
              "    }\n",
              "\n",
              "    .dataframe tbody tr th {\n",
              "        vertical-align: top;\n",
              "    }\n",
              "\n",
              "    .dataframe thead th {\n",
              "        text-align: right;\n",
              "    }\n",
              "</style>\n",
              "<table border=\"1\" class=\"dataframe\">\n",
              "  <thead>\n",
              "    <tr style=\"text-align: right;\">\n",
              "      <th></th>\n",
              "      <th>v_number_of_reviews_ltm</th>\n",
              "    </tr>\n",
              "  </thead>\n",
              "  <tbody>\n",
              "    <tr>\n",
              "      <th>v_number_of_reviews</th>\n",
              "      <td>0.803178</td>\n",
              "    </tr>\n",
              "    <tr>\n",
              "      <th>v_number_of_reviews_ltm</th>\n",
              "      <td>1.000000</td>\n",
              "    </tr>\n",
              "  </tbody>\n",
              "</table>\n",
              "</div>"
            ],
            "text/plain": [
              "                         v_number_of_reviews_ltm\n",
              "v_number_of_reviews                     0.803178\n",
              "v_number_of_reviews_ltm                 1.000000"
            ]
          },
          "metadata": {
            "tags": []
          }
        },
        {
          "output_type": "display_data",
          "data": {
            "text/html": [
              "<div>\n",
              "<style scoped>\n",
              "    .dataframe tbody tr th:only-of-type {\n",
              "        vertical-align: middle;\n",
              "    }\n",
              "\n",
              "    .dataframe tbody tr th {\n",
              "        vertical-align: top;\n",
              "    }\n",
              "\n",
              "    .dataframe thead th {\n",
              "        text-align: right;\n",
              "    }\n",
              "</style>\n",
              "<table border=\"1\" class=\"dataframe\">\n",
              "  <thead>\n",
              "    <tr style=\"text-align: right;\">\n",
              "      <th></th>\n",
              "      <th>v_instant_bookable</th>\n",
              "    </tr>\n",
              "  </thead>\n",
              "  <tbody>\n",
              "    <tr>\n",
              "      <th>v_instant_bookable</th>\n",
              "      <td>1.0</td>\n",
              "    </tr>\n",
              "  </tbody>\n",
              "</table>\n",
              "</div>"
            ],
            "text/plain": [
              "                    v_instant_bookable\n",
              "v_instant_bookable                 1.0"
            ]
          },
          "metadata": {
            "tags": []
          }
        },
        {
          "output_type": "display_data",
          "data": {
            "text/html": [
              "<div>\n",
              "<style scoped>\n",
              "    .dataframe tbody tr th:only-of-type {\n",
              "        vertical-align: middle;\n",
              "    }\n",
              "\n",
              "    .dataframe tbody tr th {\n",
              "        vertical-align: top;\n",
              "    }\n",
              "\n",
              "    .dataframe thead th {\n",
              "        text-align: right;\n",
              "    }\n",
              "</style>\n",
              "<table border=\"1\" class=\"dataframe\">\n",
              "  <thead>\n",
              "    <tr style=\"text-align: right;\">\n",
              "      <th></th>\n",
              "      <th>v_calculated_host_listings_count</th>\n",
              "    </tr>\n",
              "  </thead>\n",
              "  <tbody>\n",
              "    <tr>\n",
              "      <th>v_calculated_host_listings_count</th>\n",
              "      <td>1.0</td>\n",
              "    </tr>\n",
              "  </tbody>\n",
              "</table>\n",
              "</div>"
            ],
            "text/plain": [
              "                                  v_calculated_host_listings_count\n",
              "v_calculated_host_listings_count                               1.0"
            ]
          },
          "metadata": {
            "tags": []
          }
        },
        {
          "output_type": "display_data",
          "data": {
            "text/html": [
              "<div>\n",
              "<style scoped>\n",
              "    .dataframe tbody tr th:only-of-type {\n",
              "        vertical-align: middle;\n",
              "    }\n",
              "\n",
              "    .dataframe tbody tr th {\n",
              "        vertical-align: top;\n",
              "    }\n",
              "\n",
              "    .dataframe thead th {\n",
              "        text-align: right;\n",
              "    }\n",
              "</style>\n",
              "<table border=\"1\" class=\"dataframe\">\n",
              "  <thead>\n",
              "    <tr style=\"text-align: right;\">\n",
              "      <th></th>\n",
              "      <th>v_calculated_host_listings_count_entire_homes</th>\n",
              "    </tr>\n",
              "  </thead>\n",
              "  <tbody>\n",
              "    <tr>\n",
              "      <th>v_calculated_host_listings_count_entire_homes</th>\n",
              "      <td>1.00000</td>\n",
              "    </tr>\n",
              "    <tr>\n",
              "      <th>v_room_type_private_room</th>\n",
              "      <td>0.82074</td>\n",
              "    </tr>\n",
              "  </tbody>\n",
              "</table>\n",
              "</div>"
            ],
            "text/plain": [
              "                                               v_calculated_host_listings_count_entire_homes\n",
              "v_calculated_host_listings_count_entire_homes                                        1.00000\n",
              "v_room_type_private_room                                                             0.82074"
            ]
          },
          "metadata": {
            "tags": []
          }
        },
        {
          "output_type": "display_data",
          "data": {
            "text/html": [
              "<div>\n",
              "<style scoped>\n",
              "    .dataframe tbody tr th:only-of-type {\n",
              "        vertical-align: middle;\n",
              "    }\n",
              "\n",
              "    .dataframe tbody tr th {\n",
              "        vertical-align: top;\n",
              "    }\n",
              "\n",
              "    .dataframe thead th {\n",
              "        text-align: right;\n",
              "    }\n",
              "</style>\n",
              "<table border=\"1\" class=\"dataframe\">\n",
              "  <thead>\n",
              "    <tr style=\"text-align: right;\">\n",
              "      <th></th>\n",
              "      <th>v_calculated_host_listings_count_private_rooms</th>\n",
              "    </tr>\n",
              "  </thead>\n",
              "  <tbody>\n",
              "    <tr>\n",
              "      <th>v_calculated_host_listings_count_private_rooms</th>\n",
              "      <td>1.000000</td>\n",
              "    </tr>\n",
              "    <tr>\n",
              "      <th>v_room_type_private_room</th>\n",
              "      <td>0.863899</td>\n",
              "    </tr>\n",
              "  </tbody>\n",
              "</table>\n",
              "</div>"
            ],
            "text/plain": [
              "                                                v_calculated_host_listings_count_private_rooms\n",
              "v_calculated_host_listings_count_private_rooms                                        1.000000\n",
              "v_room_type_private_room                                                              0.863899"
            ]
          },
          "metadata": {
            "tags": []
          }
        },
        {
          "output_type": "display_data",
          "data": {
            "text/html": [
              "<div>\n",
              "<style scoped>\n",
              "    .dataframe tbody tr th:only-of-type {\n",
              "        vertical-align: middle;\n",
              "    }\n",
              "\n",
              "    .dataframe tbody tr th {\n",
              "        vertical-align: top;\n",
              "    }\n",
              "\n",
              "    .dataframe thead th {\n",
              "        text-align: right;\n",
              "    }\n",
              "</style>\n",
              "<table border=\"1\" class=\"dataframe\">\n",
              "  <thead>\n",
              "    <tr style=\"text-align: right;\">\n",
              "      <th></th>\n",
              "      <th>c_host_verifications</th>\n",
              "    </tr>\n",
              "  </thead>\n",
              "  <tbody>\n",
              "    <tr>\n",
              "      <th>c_host_verifications</th>\n",
              "      <td>1.0</td>\n",
              "    </tr>\n",
              "  </tbody>\n",
              "</table>\n",
              "</div>"
            ],
            "text/plain": [
              "                      c_host_verifications\n",
              "c_host_verifications                   1.0"
            ]
          },
          "metadata": {
            "tags": []
          }
        },
        {
          "output_type": "display_data",
          "data": {
            "text/html": [
              "<div>\n",
              "<style scoped>\n",
              "    .dataframe tbody tr th:only-of-type {\n",
              "        vertical-align: middle;\n",
              "    }\n",
              "\n",
              "    .dataframe tbody tr th {\n",
              "        vertical-align: top;\n",
              "    }\n",
              "\n",
              "    .dataframe thead th {\n",
              "        text-align: right;\n",
              "    }\n",
              "</style>\n",
              "<table border=\"1\" class=\"dataframe\">\n",
              "  <thead>\n",
              "    <tr style=\"text-align: right;\">\n",
              "      <th></th>\n",
              "      <th>c_amenities</th>\n",
              "    </tr>\n",
              "  </thead>\n",
              "  <tbody>\n",
              "    <tr>\n",
              "      <th>c_amenities</th>\n",
              "      <td>1.0</td>\n",
              "    </tr>\n",
              "  </tbody>\n",
              "</table>\n",
              "</div>"
            ],
            "text/plain": [
              "             c_amenities\n",
              "c_amenities          1.0"
            ]
          },
          "metadata": {
            "tags": []
          }
        },
        {
          "output_type": "display_data",
          "data": {
            "text/html": [
              "<div>\n",
              "<style scoped>\n",
              "    .dataframe tbody tr th:only-of-type {\n",
              "        vertical-align: middle;\n",
              "    }\n",
              "\n",
              "    .dataframe tbody tr th {\n",
              "        vertical-align: top;\n",
              "    }\n",
              "\n",
              "    .dataframe thead th {\n",
              "        text-align: right;\n",
              "    }\n",
              "</style>\n",
              "<table border=\"1\" class=\"dataframe\">\n",
              "  <thead>\n",
              "    <tr style=\"text-align: right;\">\n",
              "      <th></th>\n",
              "      <th>d_host_since_year</th>\n",
              "    </tr>\n",
              "  </thead>\n",
              "  <tbody>\n",
              "    <tr>\n",
              "      <th>d_host_since_year</th>\n",
              "      <td>1.0</td>\n",
              "    </tr>\n",
              "  </tbody>\n",
              "</table>\n",
              "</div>"
            ],
            "text/plain": [
              "                   d_host_since_year\n",
              "d_host_since_year                1.0"
            ]
          },
          "metadata": {
            "tags": []
          }
        },
        {
          "output_type": "display_data",
          "data": {
            "text/html": [
              "<div>\n",
              "<style scoped>\n",
              "    .dataframe tbody tr th:only-of-type {\n",
              "        vertical-align: middle;\n",
              "    }\n",
              "\n",
              "    .dataframe tbody tr th {\n",
              "        vertical-align: top;\n",
              "    }\n",
              "\n",
              "    .dataframe thead th {\n",
              "        text-align: right;\n",
              "    }\n",
              "</style>\n",
              "<table border=\"1\" class=\"dataframe\">\n",
              "  <thead>\n",
              "    <tr style=\"text-align: right;\">\n",
              "      <th></th>\n",
              "      <th>d_host_since_month</th>\n",
              "    </tr>\n",
              "  </thead>\n",
              "  <tbody>\n",
              "    <tr>\n",
              "      <th>d_host_since_month</th>\n",
              "      <td>1.0</td>\n",
              "    </tr>\n",
              "  </tbody>\n",
              "</table>\n",
              "</div>"
            ],
            "text/plain": [
              "                    d_host_since_month\n",
              "d_host_since_month                 1.0"
            ]
          },
          "metadata": {
            "tags": []
          }
        },
        {
          "output_type": "display_data",
          "data": {
            "text/html": [
              "<div>\n",
              "<style scoped>\n",
              "    .dataframe tbody tr th:only-of-type {\n",
              "        vertical-align: middle;\n",
              "    }\n",
              "\n",
              "    .dataframe tbody tr th {\n",
              "        vertical-align: top;\n",
              "    }\n",
              "\n",
              "    .dataframe thead th {\n",
              "        text-align: right;\n",
              "    }\n",
              "</style>\n",
              "<table border=\"1\" class=\"dataframe\">\n",
              "  <thead>\n",
              "    <tr style=\"text-align: right;\">\n",
              "      <th></th>\n",
              "      <th>v_property_type_hotel</th>\n",
              "    </tr>\n",
              "  </thead>\n",
              "  <tbody>\n",
              "    <tr>\n",
              "      <th>v_property_type_hotel</th>\n",
              "      <td>1.0</td>\n",
              "    </tr>\n",
              "  </tbody>\n",
              "</table>\n",
              "</div>"
            ],
            "text/plain": [
              "                       v_property_type_hotel\n",
              "v_property_type_hotel                    1.0"
            ]
          },
          "metadata": {
            "tags": []
          }
        },
        {
          "output_type": "display_data",
          "data": {
            "text/html": [
              "<div>\n",
              "<style scoped>\n",
              "    .dataframe tbody tr th:only-of-type {\n",
              "        vertical-align: middle;\n",
              "    }\n",
              "\n",
              "    .dataframe tbody tr th {\n",
              "        vertical-align: top;\n",
              "    }\n",
              "\n",
              "    .dataframe thead th {\n",
              "        text-align: right;\n",
              "    }\n",
              "</style>\n",
              "<table border=\"1\" class=\"dataframe\">\n",
              "  <thead>\n",
              "    <tr style=\"text-align: right;\">\n",
              "      <th></th>\n",
              "      <th>v_property_type_house</th>\n",
              "    </tr>\n",
              "  </thead>\n",
              "  <tbody>\n",
              "    <tr>\n",
              "      <th>v_property_type_house</th>\n",
              "      <td>1.0</td>\n",
              "    </tr>\n",
              "  </tbody>\n",
              "</table>\n",
              "</div>"
            ],
            "text/plain": [
              "                       v_property_type_house\n",
              "v_property_type_house                    1.0"
            ]
          },
          "metadata": {
            "tags": []
          }
        },
        {
          "output_type": "display_data",
          "data": {
            "text/html": [
              "<div>\n",
              "<style scoped>\n",
              "    .dataframe tbody tr th:only-of-type {\n",
              "        vertical-align: middle;\n",
              "    }\n",
              "\n",
              "    .dataframe tbody tr th {\n",
              "        vertical-align: top;\n",
              "    }\n",
              "\n",
              "    .dataframe thead th {\n",
              "        text-align: right;\n",
              "    }\n",
              "</style>\n",
              "<table border=\"1\" class=\"dataframe\">\n",
              "  <thead>\n",
              "    <tr style=\"text-align: right;\">\n",
              "      <th></th>\n",
              "      <th>v_property_type_other</th>\n",
              "    </tr>\n",
              "  </thead>\n",
              "  <tbody>\n",
              "    <tr>\n",
              "      <th>v_property_type_other</th>\n",
              "      <td>1.0</td>\n",
              "    </tr>\n",
              "  </tbody>\n",
              "</table>\n",
              "</div>"
            ],
            "text/plain": [
              "                       v_property_type_other\n",
              "v_property_type_other                    1.0"
            ]
          },
          "metadata": {
            "tags": []
          }
        },
        {
          "output_type": "display_data",
          "data": {
            "text/html": [
              "<div>\n",
              "<style scoped>\n",
              "    .dataframe tbody tr th:only-of-type {\n",
              "        vertical-align: middle;\n",
              "    }\n",
              "\n",
              "    .dataframe tbody tr th {\n",
              "        vertical-align: top;\n",
              "    }\n",
              "\n",
              "    .dataframe thead th {\n",
              "        text-align: right;\n",
              "    }\n",
              "</style>\n",
              "<table border=\"1\" class=\"dataframe\">\n",
              "  <thead>\n",
              "    <tr style=\"text-align: right;\">\n",
              "      <th></th>\n",
              "      <th>v_property_type_single_room</th>\n",
              "    </tr>\n",
              "  </thead>\n",
              "  <tbody>\n",
              "    <tr>\n",
              "      <th>v_property_type_single_room</th>\n",
              "      <td>1.0</td>\n",
              "    </tr>\n",
              "  </tbody>\n",
              "</table>\n",
              "</div>"
            ],
            "text/plain": [
              "                             v_property_type_single_room\n",
              "v_property_type_single_room                          1.0"
            ]
          },
          "metadata": {
            "tags": []
          }
        },
        {
          "output_type": "display_data",
          "data": {
            "text/html": [
              "<div>\n",
              "<style scoped>\n",
              "    .dataframe tbody tr th:only-of-type {\n",
              "        vertical-align: middle;\n",
              "    }\n",
              "\n",
              "    .dataframe tbody tr th {\n",
              "        vertical-align: top;\n",
              "    }\n",
              "\n",
              "    .dataframe thead th {\n",
              "        text-align: right;\n",
              "    }\n",
              "</style>\n",
              "<table border=\"1\" class=\"dataframe\">\n",
              "  <thead>\n",
              "    <tr style=\"text-align: right;\">\n",
              "      <th></th>\n",
              "      <th>v_property_type_townhouse</th>\n",
              "    </tr>\n",
              "  </thead>\n",
              "  <tbody>\n",
              "    <tr>\n",
              "      <th>v_property_type_townhouse</th>\n",
              "      <td>1.0</td>\n",
              "    </tr>\n",
              "  </tbody>\n",
              "</table>\n",
              "</div>"
            ],
            "text/plain": [
              "                           v_property_type_townhouse\n",
              "v_property_type_townhouse                        1.0"
            ]
          },
          "metadata": {
            "tags": []
          }
        },
        {
          "output_type": "display_data",
          "data": {
            "text/html": [
              "<div>\n",
              "<style scoped>\n",
              "    .dataframe tbody tr th:only-of-type {\n",
              "        vertical-align: middle;\n",
              "    }\n",
              "\n",
              "    .dataframe tbody tr th {\n",
              "        vertical-align: top;\n",
              "    }\n",
              "\n",
              "    .dataframe thead th {\n",
              "        text-align: right;\n",
              "    }\n",
              "</style>\n",
              "<table border=\"1\" class=\"dataframe\">\n",
              "  <thead>\n",
              "    <tr style=\"text-align: right;\">\n",
              "      <th></th>\n",
              "      <th>v_room_type_hotel_room</th>\n",
              "    </tr>\n",
              "  </thead>\n",
              "  <tbody>\n",
              "    <tr>\n",
              "      <th>v_room_type_hotel_room</th>\n",
              "      <td>1.0</td>\n",
              "    </tr>\n",
              "  </tbody>\n",
              "</table>\n",
              "</div>"
            ],
            "text/plain": [
              "                        v_room_type_hotel_room\n",
              "v_room_type_hotel_room                     1.0"
            ]
          },
          "metadata": {
            "tags": []
          }
        },
        {
          "output_type": "display_data",
          "data": {
            "text/html": [
              "<div>\n",
              "<style scoped>\n",
              "    .dataframe tbody tr th:only-of-type {\n",
              "        vertical-align: middle;\n",
              "    }\n",
              "\n",
              "    .dataframe tbody tr th {\n",
              "        vertical-align: top;\n",
              "    }\n",
              "\n",
              "    .dataframe thead th {\n",
              "        text-align: right;\n",
              "    }\n",
              "</style>\n",
              "<table border=\"1\" class=\"dataframe\">\n",
              "  <thead>\n",
              "    <tr style=\"text-align: right;\">\n",
              "      <th></th>\n",
              "      <th>v_room_type_private_room</th>\n",
              "    </tr>\n",
              "  </thead>\n",
              "  <tbody>\n",
              "    <tr>\n",
              "      <th>v_calculated_host_listings_count_entire_homes</th>\n",
              "      <td>0.820740</td>\n",
              "    </tr>\n",
              "    <tr>\n",
              "      <th>v_calculated_host_listings_count_private_rooms</th>\n",
              "      <td>0.863899</td>\n",
              "    </tr>\n",
              "    <tr>\n",
              "      <th>v_room_type_private_room</th>\n",
              "      <td>1.000000</td>\n",
              "    </tr>\n",
              "  </tbody>\n",
              "</table>\n",
              "</div>"
            ],
            "text/plain": [
              "                                                v_room_type_private_room\n",
              "v_calculated_host_listings_count_entire_homes                   0.820740\n",
              "v_calculated_host_listings_count_private_rooms                  0.863899\n",
              "v_room_type_private_room                                        1.000000"
            ]
          },
          "metadata": {
            "tags": []
          }
        },
        {
          "output_type": "display_data",
          "data": {
            "text/html": [
              "<div>\n",
              "<style scoped>\n",
              "    .dataframe tbody tr th:only-of-type {\n",
              "        vertical-align: middle;\n",
              "    }\n",
              "\n",
              "    .dataframe tbody tr th {\n",
              "        vertical-align: top;\n",
              "    }\n",
              "\n",
              "    .dataframe thead th {\n",
              "        text-align: right;\n",
              "    }\n",
              "</style>\n",
              "<table border=\"1\" class=\"dataframe\">\n",
              "  <thead>\n",
              "    <tr style=\"text-align: right;\">\n",
              "      <th></th>\n",
              "      <th>v_room_type_shared_room</th>\n",
              "    </tr>\n",
              "  </thead>\n",
              "  <tbody>\n",
              "    <tr>\n",
              "      <th>v_room_type_shared_room</th>\n",
              "      <td>1.0</td>\n",
              "    </tr>\n",
              "  </tbody>\n",
              "</table>\n",
              "</div>"
            ],
            "text/plain": [
              "                         v_room_type_shared_room\n",
              "v_room_type_shared_room                      1.0"
            ]
          },
          "metadata": {
            "tags": []
          }
        },
        {
          "output_type": "display_data",
          "data": {
            "text/html": [
              "<div>\n",
              "<style scoped>\n",
              "    .dataframe tbody tr th:only-of-type {\n",
              "        vertical-align: middle;\n",
              "    }\n",
              "\n",
              "    .dataframe tbody tr th {\n",
              "        vertical-align: top;\n",
              "    }\n",
              "\n",
              "    .dataframe thead th {\n",
              "        text-align: right;\n",
              "    }\n",
              "</style>\n",
              "<table border=\"1\" class=\"dataframe\">\n",
              "  <thead>\n",
              "    <tr style=\"text-align: right;\">\n",
              "      <th></th>\n",
              "      <th>v_calendar_updated_Last_year</th>\n",
              "    </tr>\n",
              "  </thead>\n",
              "  <tbody>\n",
              "    <tr>\n",
              "      <th>v_calendar_updated_Last_year</th>\n",
              "      <td>1.0</td>\n",
              "    </tr>\n",
              "  </tbody>\n",
              "</table>\n",
              "</div>"
            ],
            "text/plain": [
              "                              v_calendar_updated_Last_year\n",
              "v_calendar_updated_Last_year                           1.0"
            ]
          },
          "metadata": {
            "tags": []
          }
        },
        {
          "output_type": "display_data",
          "data": {
            "text/html": [
              "<div>\n",
              "<style scoped>\n",
              "    .dataframe tbody tr th:only-of-type {\n",
              "        vertical-align: middle;\n",
              "    }\n",
              "\n",
              "    .dataframe tbody tr th {\n",
              "        vertical-align: top;\n",
              "    }\n",
              "\n",
              "    .dataframe thead th {\n",
              "        text-align: right;\n",
              "    }\n",
              "</style>\n",
              "<table border=\"1\" class=\"dataframe\">\n",
              "  <thead>\n",
              "    <tr style=\"text-align: right;\">\n",
              "      <th></th>\n",
              "      <th>v_calendar_updated_Long_ago</th>\n",
              "    </tr>\n",
              "  </thead>\n",
              "  <tbody>\n",
              "    <tr>\n",
              "      <th>v_calendar_updated_Long_ago</th>\n",
              "      <td>1.0</td>\n",
              "    </tr>\n",
              "  </tbody>\n",
              "</table>\n",
              "</div>"
            ],
            "text/plain": [
              "                             v_calendar_updated_Long_ago\n",
              "v_calendar_updated_Long_ago                          1.0"
            ]
          },
          "metadata": {
            "tags": []
          }
        },
        {
          "output_type": "display_data",
          "data": {
            "text/html": [
              "<div>\n",
              "<style scoped>\n",
              "    .dataframe tbody tr th:only-of-type {\n",
              "        vertical-align: middle;\n",
              "    }\n",
              "\n",
              "    .dataframe tbody tr th {\n",
              "        vertical-align: top;\n",
              "    }\n",
              "\n",
              "    .dataframe thead th {\n",
              "        text-align: right;\n",
              "    }\n",
              "</style>\n",
              "<table border=\"1\" class=\"dataframe\">\n",
              "  <thead>\n",
              "    <tr style=\"text-align: right;\">\n",
              "      <th></th>\n",
              "      <th>v_calendar_updated_Never</th>\n",
              "    </tr>\n",
              "  </thead>\n",
              "  <tbody>\n",
              "    <tr>\n",
              "      <th>v_calendar_updated_Never</th>\n",
              "      <td>1.0</td>\n",
              "    </tr>\n",
              "  </tbody>\n",
              "</table>\n",
              "</div>"
            ],
            "text/plain": [
              "                          v_calendar_updated_Never\n",
              "v_calendar_updated_Never                       1.0"
            ]
          },
          "metadata": {
            "tags": []
          }
        },
        {
          "output_type": "display_data",
          "data": {
            "text/html": [
              "<div>\n",
              "<style scoped>\n",
              "    .dataframe tbody tr th:only-of-type {\n",
              "        vertical-align: middle;\n",
              "    }\n",
              "\n",
              "    .dataframe tbody tr th {\n",
              "        vertical-align: top;\n",
              "    }\n",
              "\n",
              "    .dataframe thead th {\n",
              "        text-align: right;\n",
              "    }\n",
              "</style>\n",
              "<table border=\"1\" class=\"dataframe\">\n",
              "  <thead>\n",
              "    <tr style=\"text-align: right;\">\n",
              "      <th></th>\n",
              "      <th>v_calendar_updated_This_month</th>\n",
              "    </tr>\n",
              "  </thead>\n",
              "  <tbody>\n",
              "    <tr>\n",
              "      <th>v_calendar_updated_This_month</th>\n",
              "      <td>1.0</td>\n",
              "    </tr>\n",
              "  </tbody>\n",
              "</table>\n",
              "</div>"
            ],
            "text/plain": [
              "                               v_calendar_updated_This_month\n",
              "v_calendar_updated_This_month                            1.0"
            ]
          },
          "metadata": {
            "tags": []
          }
        },
        {
          "output_type": "display_data",
          "data": {
            "text/html": [
              "<div>\n",
              "<style scoped>\n",
              "    .dataframe tbody tr th:only-of-type {\n",
              "        vertical-align: middle;\n",
              "    }\n",
              "\n",
              "    .dataframe tbody tr th {\n",
              "        vertical-align: top;\n",
              "    }\n",
              "\n",
              "    .dataframe thead th {\n",
              "        text-align: right;\n",
              "    }\n",
              "</style>\n",
              "<table border=\"1\" class=\"dataframe\">\n",
              "  <thead>\n",
              "    <tr style=\"text-align: right;\">\n",
              "      <th></th>\n",
              "      <th>v_calendar_updated_This_year</th>\n",
              "    </tr>\n",
              "  </thead>\n",
              "  <tbody>\n",
              "    <tr>\n",
              "      <th>v_calendar_updated_This_year</th>\n",
              "      <td>1.0</td>\n",
              "    </tr>\n",
              "  </tbody>\n",
              "</table>\n",
              "</div>"
            ],
            "text/plain": [
              "                              v_calendar_updated_This_year\n",
              "v_calendar_updated_This_year                           1.0"
            ]
          },
          "metadata": {
            "tags": []
          }
        },
        {
          "output_type": "display_data",
          "data": {
            "text/html": [
              "<div>\n",
              "<style scoped>\n",
              "    .dataframe tbody tr th:only-of-type {\n",
              "        vertical-align: middle;\n",
              "    }\n",
              "\n",
              "    .dataframe tbody tr th {\n",
              "        vertical-align: top;\n",
              "    }\n",
              "\n",
              "    .dataframe thead th {\n",
              "        text-align: right;\n",
              "    }\n",
              "</style>\n",
              "<table border=\"1\" class=\"dataframe\">\n",
              "  <thead>\n",
              "    <tr style=\"text-align: right;\">\n",
              "      <th></th>\n",
              "      <th>v_calendar_updated_Today</th>\n",
              "    </tr>\n",
              "  </thead>\n",
              "  <tbody>\n",
              "    <tr>\n",
              "      <th>v_calendar_updated_Today</th>\n",
              "      <td>1.0</td>\n",
              "    </tr>\n",
              "  </tbody>\n",
              "</table>\n",
              "</div>"
            ],
            "text/plain": [
              "                          v_calendar_updated_Today\n",
              "v_calendar_updated_Today                       1.0"
            ]
          },
          "metadata": {
            "tags": []
          }
        },
        {
          "output_type": "display_data",
          "data": {
            "text/html": [
              "<div>\n",
              "<style scoped>\n",
              "    .dataframe tbody tr th:only-of-type {\n",
              "        vertical-align: middle;\n",
              "    }\n",
              "\n",
              "    .dataframe tbody tr th {\n",
              "        vertical-align: top;\n",
              "    }\n",
              "\n",
              "    .dataframe thead th {\n",
              "        text-align: right;\n",
              "    }\n",
              "</style>\n",
              "<table border=\"1\" class=\"dataframe\">\n",
              "  <thead>\n",
              "    <tr style=\"text-align: right;\">\n",
              "      <th></th>\n",
              "      <th>v_calendar_updated_Yesterday</th>\n",
              "    </tr>\n",
              "  </thead>\n",
              "  <tbody>\n",
              "    <tr>\n",
              "      <th>v_calendar_updated_Yesterday</th>\n",
              "      <td>1.0</td>\n",
              "    </tr>\n",
              "  </tbody>\n",
              "</table>\n",
              "</div>"
            ],
            "text/plain": [
              "                              v_calendar_updated_Yesterday\n",
              "v_calendar_updated_Yesterday                           1.0"
            ]
          },
          "metadata": {
            "tags": []
          }
        },
        {
          "output_type": "display_data",
          "data": {
            "text/html": [
              "<div>\n",
              "<style scoped>\n",
              "    .dataframe tbody tr th:only-of-type {\n",
              "        vertical-align: middle;\n",
              "    }\n",
              "\n",
              "    .dataframe tbody tr th {\n",
              "        vertical-align: top;\n",
              "    }\n",
              "\n",
              "    .dataframe thead th {\n",
              "        text-align: right;\n",
              "    }\n",
              "</style>\n",
              "<table border=\"1\" class=\"dataframe\">\n",
              "  <thead>\n",
              "    <tr style=\"text-align: right;\">\n",
              "      <th></th>\n",
              "      <th>v_cancellation_policy_moderate</th>\n",
              "    </tr>\n",
              "  </thead>\n",
              "  <tbody>\n",
              "    <tr>\n",
              "      <th>v_cancellation_policy_moderate</th>\n",
              "      <td>1.0</td>\n",
              "    </tr>\n",
              "  </tbody>\n",
              "</table>\n",
              "</div>"
            ],
            "text/plain": [
              "                                v_cancellation_policy_moderate\n",
              "v_cancellation_policy_moderate                             1.0"
            ]
          },
          "metadata": {
            "tags": []
          }
        },
        {
          "output_type": "display_data",
          "data": {
            "text/html": [
              "<div>\n",
              "<style scoped>\n",
              "    .dataframe tbody tr th:only-of-type {\n",
              "        vertical-align: middle;\n",
              "    }\n",
              "\n",
              "    .dataframe tbody tr th {\n",
              "        vertical-align: top;\n",
              "    }\n",
              "\n",
              "    .dataframe thead th {\n",
              "        text-align: right;\n",
              "    }\n",
              "</style>\n",
              "<table border=\"1\" class=\"dataframe\">\n",
              "  <thead>\n",
              "    <tr style=\"text-align: right;\">\n",
              "      <th></th>\n",
              "      <th>v_cancellation_policy_strict</th>\n",
              "    </tr>\n",
              "  </thead>\n",
              "  <tbody>\n",
              "    <tr>\n",
              "      <th>v_cancellation_policy_strict</th>\n",
              "      <td>1.0</td>\n",
              "    </tr>\n",
              "  </tbody>\n",
              "</table>\n",
              "</div>"
            ],
            "text/plain": [
              "                              v_cancellation_policy_strict\n",
              "v_cancellation_policy_strict                           1.0"
            ]
          },
          "metadata": {
            "tags": []
          }
        },
        {
          "output_type": "display_data",
          "data": {
            "text/html": [
              "<div>\n",
              "<style scoped>\n",
              "    .dataframe tbody tr th:only-of-type {\n",
              "        vertical-align: middle;\n",
              "    }\n",
              "\n",
              "    .dataframe tbody tr th {\n",
              "        vertical-align: top;\n",
              "    }\n",
              "\n",
              "    .dataframe thead th {\n",
              "        text-align: right;\n",
              "    }\n",
              "</style>\n",
              "<table border=\"1\" class=\"dataframe\">\n",
              "  <thead>\n",
              "    <tr style=\"text-align: right;\">\n",
              "      <th></th>\n",
              "      <th>reservaciones_30</th>\n",
              "    </tr>\n",
              "  </thead>\n",
              "  <tbody>\n",
              "    <tr>\n",
              "      <th>v_availability_30</th>\n",
              "      <td>1.000000</td>\n",
              "    </tr>\n",
              "    <tr>\n",
              "      <th>v_availability_60</th>\n",
              "      <td>0.937093</td>\n",
              "    </tr>\n",
              "    <tr>\n",
              "      <th>v_availability_90</th>\n",
              "      <td>0.908065</td>\n",
              "    </tr>\n",
              "    <tr>\n",
              "      <th>reservaciones_30</th>\n",
              "      <td>1.000000</td>\n",
              "    </tr>\n",
              "  </tbody>\n",
              "</table>\n",
              "</div>"
            ],
            "text/plain": [
              "                   reservaciones_30\n",
              "v_availability_30          1.000000\n",
              "v_availability_60          0.937093\n",
              "v_availability_90          0.908065\n",
              "reservaciones_30           1.000000"
            ]
          },
          "metadata": {
            "tags": []
          }
        }
      ]
    },
    {
      "cell_type": "markdown",
      "metadata": {
        "id": "OovGecD1BhUt"
      },
      "source": [
        "Se retiran las siguiente variables por correlación y no aportar información adicional al modelo"
      ]
    },
    {
      "cell_type": "code",
      "metadata": {
        "colab": {
          "background_save": true
        },
        "id": "dXju3S6WAiNI"
      },
      "source": [
        "cols=['v_minimum_minimum_nights','v_maximum_minimum_nights','c_minimum_nights_avg_ntm',\n",
        "      'v_minimum_maximum_nights', 'v_maximum_maximum_nights',\t'c_maximum_nights_avg_ntm',\n",
        "      'v_availability_60','v_availability_90','v_availability_365','v_number_of_reviews_ltm','c_host_total_listings_count',\n",
        "      'v_calculated_host_listings_count_entire_homes','v_calculated_host_listings_count_private_rooms','v_availability_30']\n",
        "\n",
        "df_new=df_new.drop(columns=cols)"
      ],
      "execution_count": null,
      "outputs": []
    },
    {
      "cell_type": "markdown",
      "metadata": {
        "id": "iJcYLPWSC7Ad"
      },
      "source": [
        "### Correlación con la variable objetivo"
      ]
    },
    {
      "cell_type": "code",
      "metadata": {
        "colab": {
          "background_save": true
        },
        "id": "jOxmsyVqC6cC",
        "outputId": "8b27afa4-e8d6-49e5-a95b-85ee55ddf64e"
      },
      "source": [
        "corr=df_new.corr(method=\"spearman\")\n",
        "corr=abs(corr)\n",
        "corr[[\"c_price\"]].sort_values(by = 'c_price',ascending = False).style.background_gradient()"
      ],
      "execution_count": null,
      "outputs": [
        {
          "output_type": "execute_result",
          "data": {
            "text/html": [
              "<style  type=\"text/css\" >\n",
              "#T_f8f1567e_8483_11eb_bad3_0242ac1c0002row0_col0{\n",
              "            background-color:  #023858;\n",
              "            color:  #f1f1f1;\n",
              "        }#T_f8f1567e_8483_11eb_bad3_0242ac1c0002row1_col0{\n",
              "            background-color:  #3790c0;\n",
              "            color:  #000000;\n",
              "        }#T_f8f1567e_8483_11eb_bad3_0242ac1c0002row2_col0{\n",
              "            background-color:  #62a2cb;\n",
              "            color:  #000000;\n",
              "        }#T_f8f1567e_8483_11eb_bad3_0242ac1c0002row3_col0{\n",
              "            background-color:  #9ab8d8;\n",
              "            color:  #000000;\n",
              "        }#T_f8f1567e_8483_11eb_bad3_0242ac1c0002row4_col0{\n",
              "            background-color:  #afc1dd;\n",
              "            color:  #000000;\n",
              "        }#T_f8f1567e_8483_11eb_bad3_0242ac1c0002row5_col0{\n",
              "            background-color:  #b8c6e0;\n",
              "            color:  #000000;\n",
              "        }#T_f8f1567e_8483_11eb_bad3_0242ac1c0002row6_col0{\n",
              "            background-color:  #c0c9e2;\n",
              "            color:  #000000;\n",
              "        }#T_f8f1567e_8483_11eb_bad3_0242ac1c0002row7_col0{\n",
              "            background-color:  #d6d6e9;\n",
              "            color:  #000000;\n",
              "        }#T_f8f1567e_8483_11eb_bad3_0242ac1c0002row8_col0{\n",
              "            background-color:  #dcdaeb;\n",
              "            color:  #000000;\n",
              "        }#T_f8f1567e_8483_11eb_bad3_0242ac1c0002row9_col0{\n",
              "            background-color:  #e0dded;\n",
              "            color:  #000000;\n",
              "        }#T_f8f1567e_8483_11eb_bad3_0242ac1c0002row10_col0{\n",
              "            background-color:  #e4e1ef;\n",
              "            color:  #000000;\n",
              "        }#T_f8f1567e_8483_11eb_bad3_0242ac1c0002row11_col0{\n",
              "            background-color:  #e7e3f0;\n",
              "            color:  #000000;\n",
              "        }#T_f8f1567e_8483_11eb_bad3_0242ac1c0002row12_col0{\n",
              "            background-color:  #ebe6f2;\n",
              "            color:  #000000;\n",
              "        }#T_f8f1567e_8483_11eb_bad3_0242ac1c0002row13_col0{\n",
              "            background-color:  #f0eaf4;\n",
              "            color:  #000000;\n",
              "        }#T_f8f1567e_8483_11eb_bad3_0242ac1c0002row14_col0,#T_f8f1567e_8483_11eb_bad3_0242ac1c0002row15_col0{\n",
              "            background-color:  #f3edf5;\n",
              "            color:  #000000;\n",
              "        }#T_f8f1567e_8483_11eb_bad3_0242ac1c0002row16_col0{\n",
              "            background-color:  #f4eef6;\n",
              "            color:  #000000;\n",
              "        }#T_f8f1567e_8483_11eb_bad3_0242ac1c0002row17_col0,#T_f8f1567e_8483_11eb_bad3_0242ac1c0002row18_col0{\n",
              "            background-color:  #f6eff7;\n",
              "            color:  #000000;\n",
              "        }#T_f8f1567e_8483_11eb_bad3_0242ac1c0002row19_col0,#T_f8f1567e_8483_11eb_bad3_0242ac1c0002row20_col0,#T_f8f1567e_8483_11eb_bad3_0242ac1c0002row21_col0{\n",
              "            background-color:  #f8f1f8;\n",
              "            color:  #000000;\n",
              "        }#T_f8f1567e_8483_11eb_bad3_0242ac1c0002row22_col0{\n",
              "            background-color:  #f9f2f8;\n",
              "            color:  #000000;\n",
              "        }#T_f8f1567e_8483_11eb_bad3_0242ac1c0002row23_col0{\n",
              "            background-color:  #faf2f8;\n",
              "            color:  #000000;\n",
              "        }#T_f8f1567e_8483_11eb_bad3_0242ac1c0002row24_col0{\n",
              "            background-color:  #faf3f9;\n",
              "            color:  #000000;\n",
              "        }#T_f8f1567e_8483_11eb_bad3_0242ac1c0002row25_col0{\n",
              "            background-color:  #fbf3f9;\n",
              "            color:  #000000;\n",
              "        }#T_f8f1567e_8483_11eb_bad3_0242ac1c0002row26_col0,#T_f8f1567e_8483_11eb_bad3_0242ac1c0002row27_col0{\n",
              "            background-color:  #fbf4f9;\n",
              "            color:  #000000;\n",
              "        }#T_f8f1567e_8483_11eb_bad3_0242ac1c0002row28_col0,#T_f8f1567e_8483_11eb_bad3_0242ac1c0002row29_col0{\n",
              "            background-color:  #fcf4fa;\n",
              "            color:  #000000;\n",
              "        }#T_f8f1567e_8483_11eb_bad3_0242ac1c0002row30_col0,#T_f8f1567e_8483_11eb_bad3_0242ac1c0002row31_col0{\n",
              "            background-color:  #fdf5fa;\n",
              "            color:  #000000;\n",
              "        }#T_f8f1567e_8483_11eb_bad3_0242ac1c0002row32_col0,#T_f8f1567e_8483_11eb_bad3_0242ac1c0002row33_col0,#T_f8f1567e_8483_11eb_bad3_0242ac1c0002row34_col0{\n",
              "            background-color:  #fef6fa;\n",
              "            color:  #000000;\n",
              "        }#T_f8f1567e_8483_11eb_bad3_0242ac1c0002row35_col0,#T_f8f1567e_8483_11eb_bad3_0242ac1c0002row36_col0,#T_f8f1567e_8483_11eb_bad3_0242ac1c0002row37_col0{\n",
              "            background-color:  #fef6fb;\n",
              "            color:  #000000;\n",
              "        }#T_f8f1567e_8483_11eb_bad3_0242ac1c0002row38_col0{\n",
              "            background-color:  #fff7fb;\n",
              "            color:  #000000;\n",
              "        }</style><table id=\"T_f8f1567e_8483_11eb_bad3_0242ac1c0002\" ><thead>    <tr>        <th class=\"blank level0\" ></th>        <th class=\"col_heading level0 col0\" >c_price</th>    </tr></thead><tbody>\n",
              "                <tr>\n",
              "                        <th id=\"T_f8f1567e_8483_11eb_bad3_0242ac1c0002level0_row0\" class=\"row_heading level0 row0\" >c_price</th>\n",
              "                        <td id=\"T_f8f1567e_8483_11eb_bad3_0242ac1c0002row0_col0\" class=\"data row0 col0\" >1.000000</td>\n",
              "            </tr>\n",
              "            <tr>\n",
              "                        <th id=\"T_f8f1567e_8483_11eb_bad3_0242ac1c0002level0_row1\" class=\"row_heading level0 row1\" >v_room_type_private_room</th>\n",
              "                        <td id=\"T_f8f1567e_8483_11eb_bad3_0242ac1c0002row1_col0\" class=\"data row1 col0\" >0.625004</td>\n",
              "            </tr>\n",
              "            <tr>\n",
              "                        <th id=\"T_f8f1567e_8483_11eb_bad3_0242ac1c0002level0_row2\" class=\"row_heading level0 row2\" >v_accommodates</th>\n",
              "                        <td id=\"T_f8f1567e_8483_11eb_bad3_0242ac1c0002row2_col0\" class=\"data row2 col0\" >0.537710</td>\n",
              "            </tr>\n",
              "            <tr>\n",
              "                        <th id=\"T_f8f1567e_8483_11eb_bad3_0242ac1c0002level0_row3\" class=\"row_heading level0 row3\" >c_longitude</th>\n",
              "                        <td id=\"T_f8f1567e_8483_11eb_bad3_0242ac1c0002row3_col0\" class=\"data row3 col0\" >0.406168</td>\n",
              "            </tr>\n",
              "            <tr>\n",
              "                        <th id=\"T_f8f1567e_8483_11eb_bad3_0242ac1c0002level0_row4\" class=\"row_heading level0 row4\" >v_beds</th>\n",
              "                        <td id=\"T_f8f1567e_8483_11eb_bad3_0242ac1c0002row4_col0\" class=\"data row4 col0\" >0.349124</td>\n",
              "            </tr>\n",
              "            <tr>\n",
              "                        <th id=\"T_f8f1567e_8483_11eb_bad3_0242ac1c0002level0_row5\" class=\"row_heading level0 row5\" >v_zipcode</th>\n",
              "                        <td id=\"T_f8f1567e_8483_11eb_bad3_0242ac1c0002row5_col0\" class=\"data row5 col0\" >0.322151</td>\n",
              "            </tr>\n",
              "            <tr>\n",
              "                        <th id=\"T_f8f1567e_8483_11eb_bad3_0242ac1c0002level0_row6\" class=\"row_heading level0 row6\" >v_guests_included</th>\n",
              "                        <td id=\"T_f8f1567e_8483_11eb_bad3_0242ac1c0002row6_col0\" class=\"data row6 col0\" >0.297656</td>\n",
              "            </tr>\n",
              "            <tr>\n",
              "                        <th id=\"T_f8f1567e_8483_11eb_bad3_0242ac1c0002level0_row7\" class=\"row_heading level0 row7\" >v_bedrooms</th>\n",
              "                        <td id=\"T_f8f1567e_8483_11eb_bad3_0242ac1c0002row7_col0\" class=\"data row7 col0\" >0.226779</td>\n",
              "            </tr>\n",
              "            <tr>\n",
              "                        <th id=\"T_f8f1567e_8483_11eb_bad3_0242ac1c0002level0_row8\" class=\"row_heading level0 row8\" >v_calculated_host_listings_count</th>\n",
              "                        <td id=\"T_f8f1567e_8483_11eb_bad3_0242ac1c0002row8_col0\" class=\"data row8 col0\" >0.198320</td>\n",
              "            </tr>\n",
              "            <tr>\n",
              "                        <th id=\"T_f8f1567e_8483_11eb_bad3_0242ac1c0002level0_row9\" class=\"row_heading level0 row9\" >v_room_type_shared_room</th>\n",
              "                        <td id=\"T_f8f1567e_8483_11eb_bad3_0242ac1c0002row9_col0\" class=\"data row9 col0\" >0.182852</td>\n",
              "            </tr>\n",
              "            <tr>\n",
              "                        <th id=\"T_f8f1567e_8483_11eb_bad3_0242ac1c0002level0_row10\" class=\"row_heading level0 row10\" >c_host_listings_count</th>\n",
              "                        <td id=\"T_f8f1567e_8483_11eb_bad3_0242ac1c0002row10_col0\" class=\"data row10 col0\" >0.160944</td>\n",
              "            </tr>\n",
              "            <tr>\n",
              "                        <th id=\"T_f8f1567e_8483_11eb_bad3_0242ac1c0002level0_row11\" class=\"row_heading level0 row11\" >c_amenities</th>\n",
              "                        <td id=\"T_f8f1567e_8483_11eb_bad3_0242ac1c0002row11_col0\" class=\"data row11 col0\" >0.151368</td>\n",
              "            </tr>\n",
              "            <tr>\n",
              "                        <th id=\"T_f8f1567e_8483_11eb_bad3_0242ac1c0002level0_row12\" class=\"row_heading level0 row12\" >c_latitude</th>\n",
              "                        <td id=\"T_f8f1567e_8483_11eb_bad3_0242ac1c0002row12_col0\" class=\"data row12 col0\" >0.129657</td>\n",
              "            </tr>\n",
              "            <tr>\n",
              "                        <th id=\"T_f8f1567e_8483_11eb_bad3_0242ac1c0002level0_row13\" class=\"row_heading level0 row13\" >d_host_since_year</th>\n",
              "                        <td id=\"T_f8f1567e_8483_11eb_bad3_0242ac1c0002row13_col0\" class=\"data row13 col0\" >0.101253</td>\n",
              "            </tr>\n",
              "            <tr>\n",
              "                        <th id=\"T_f8f1567e_8483_11eb_bad3_0242ac1c0002level0_row14\" class=\"row_heading level0 row14\" >v_minimum_nights</th>\n",
              "                        <td id=\"T_f8f1567e_8483_11eb_bad3_0242ac1c0002row14_col0\" class=\"data row14 col0\" >0.082415</td>\n",
              "            </tr>\n",
              "            <tr>\n",
              "                        <th id=\"T_f8f1567e_8483_11eb_bad3_0242ac1c0002level0_row15\" class=\"row_heading level0 row15\" >v_cancellation_policy_strict</th>\n",
              "                        <td id=\"T_f8f1567e_8483_11eb_bad3_0242ac1c0002row15_col0\" class=\"data row15 col0\" >0.081259</td>\n",
              "            </tr>\n",
              "            <tr>\n",
              "                        <th id=\"T_f8f1567e_8483_11eb_bad3_0242ac1c0002level0_row16\" class=\"row_heading level0 row16\" >v_property_type_house</th>\n",
              "                        <td id=\"T_f8f1567e_8483_11eb_bad3_0242ac1c0002row16_col0\" class=\"data row16 col0\" >0.071218</td>\n",
              "            </tr>\n",
              "            <tr>\n",
              "                        <th id=\"T_f8f1567e_8483_11eb_bad3_0242ac1c0002level0_row17\" class=\"row_heading level0 row17\" >v_instant_bookable</th>\n",
              "                        <td id=\"T_f8f1567e_8483_11eb_bad3_0242ac1c0002row17_col0\" class=\"data row17 col0\" >0.061395</td>\n",
              "            </tr>\n",
              "            <tr>\n",
              "                        <th id=\"T_f8f1567e_8483_11eb_bad3_0242ac1c0002level0_row18\" class=\"row_heading level0 row18\" >v_property_type_hotel</th>\n",
              "                        <td id=\"T_f8f1567e_8483_11eb_bad3_0242ac1c0002row18_col0\" class=\"data row18 col0\" >0.060247</td>\n",
              "            </tr>\n",
              "            <tr>\n",
              "                        <th id=\"T_f8f1567e_8483_11eb_bad3_0242ac1c0002level0_row19\" class=\"row_heading level0 row19\" >v_maximum_nights</th>\n",
              "                        <td id=\"T_f8f1567e_8483_11eb_bad3_0242ac1c0002row19_col0\" class=\"data row19 col0\" >0.051088</td>\n",
              "            </tr>\n",
              "            <tr>\n",
              "                        <th id=\"T_f8f1567e_8483_11eb_bad3_0242ac1c0002level0_row20\" class=\"row_heading level0 row20\" >v_room_type_hotel_room</th>\n",
              "                        <td id=\"T_f8f1567e_8483_11eb_bad3_0242ac1c0002row20_col0\" class=\"data row20 col0\" >0.047056</td>\n",
              "            </tr>\n",
              "            <tr>\n",
              "                        <th id=\"T_f8f1567e_8483_11eb_bad3_0242ac1c0002level0_row21\" class=\"row_heading level0 row21\" >v_host_identity_verified</th>\n",
              "                        <td id=\"T_f8f1567e_8483_11eb_bad3_0242ac1c0002row21_col0\" class=\"data row21 col0\" >0.044125</td>\n",
              "            </tr>\n",
              "            <tr>\n",
              "                        <th id=\"T_f8f1567e_8483_11eb_bad3_0242ac1c0002level0_row22\" class=\"row_heading level0 row22\" >v_property_type_single_room</th>\n",
              "                        <td id=\"T_f8f1567e_8483_11eb_bad3_0242ac1c0002row22_col0\" class=\"data row22 col0\" >0.042692</td>\n",
              "            </tr>\n",
              "            <tr>\n",
              "                        <th id=\"T_f8f1567e_8483_11eb_bad3_0242ac1c0002level0_row23\" class=\"row_heading level0 row23\" >t_neighbourhood</th>\n",
              "                        <td id=\"T_f8f1567e_8483_11eb_bad3_0242ac1c0002row23_col0\" class=\"data row23 col0\" >0.036336</td>\n",
              "            </tr>\n",
              "            <tr>\n",
              "                        <th id=\"T_f8f1567e_8483_11eb_bad3_0242ac1c0002level0_row24\" class=\"row_heading level0 row24\" >v_calendar_updated_Last_year</th>\n",
              "                        <td id=\"T_f8f1567e_8483_11eb_bad3_0242ac1c0002row24_col0\" class=\"data row24 col0\" >0.032397</td>\n",
              "            </tr>\n",
              "            <tr>\n",
              "                        <th id=\"T_f8f1567e_8483_11eb_bad3_0242ac1c0002level0_row25\" class=\"row_heading level0 row25\" >reservaciones_30</th>\n",
              "                        <td id=\"T_f8f1567e_8483_11eb_bad3_0242ac1c0002row25_col0\" class=\"data row25 col0\" >0.030426</td>\n",
              "            </tr>\n",
              "            <tr>\n",
              "                        <th id=\"T_f8f1567e_8483_11eb_bad3_0242ac1c0002level0_row26\" class=\"row_heading level0 row26\" >v_calendar_updated_This_month</th>\n",
              "                        <td id=\"T_f8f1567e_8483_11eb_bad3_0242ac1c0002row26_col0\" class=\"data row26 col0\" >0.026306</td>\n",
              "            </tr>\n",
              "            <tr>\n",
              "                        <th id=\"T_f8f1567e_8483_11eb_bad3_0242ac1c0002level0_row27\" class=\"row_heading level0 row27\" >v_property_type_townhouse</th>\n",
              "                        <td id=\"T_f8f1567e_8483_11eb_bad3_0242ac1c0002row27_col0\" class=\"data row27 col0\" >0.024847</td>\n",
              "            </tr>\n",
              "            <tr>\n",
              "                        <th id=\"T_f8f1567e_8483_11eb_bad3_0242ac1c0002level0_row28\" class=\"row_heading level0 row28\" >c_host_verifications</th>\n",
              "                        <td id=\"T_f8f1567e_8483_11eb_bad3_0242ac1c0002row28_col0\" class=\"data row28 col0\" >0.020702</td>\n",
              "            </tr>\n",
              "            <tr>\n",
              "                        <th id=\"T_f8f1567e_8483_11eb_bad3_0242ac1c0002level0_row29\" class=\"row_heading level0 row29\" >v_calendar_updated_Today</th>\n",
              "                        <td id=\"T_f8f1567e_8483_11eb_bad3_0242ac1c0002row29_col0\" class=\"data row29 col0\" >0.020480</td>\n",
              "            </tr>\n",
              "            <tr>\n",
              "                        <th id=\"T_f8f1567e_8483_11eb_bad3_0242ac1c0002level0_row30\" class=\"row_heading level0 row30\" >v_calendar_updated_Long_ago</th>\n",
              "                        <td id=\"T_f8f1567e_8483_11eb_bad3_0242ac1c0002row30_col0\" class=\"data row30 col0\" >0.017959</td>\n",
              "            </tr>\n",
              "            <tr>\n",
              "                        <th id=\"T_f8f1567e_8483_11eb_bad3_0242ac1c0002level0_row31\" class=\"row_heading level0 row31\" >v_host_is_superhost</th>\n",
              "                        <td id=\"T_f8f1567e_8483_11eb_bad3_0242ac1c0002row31_col0\" class=\"data row31 col0\" >0.013995</td>\n",
              "            </tr>\n",
              "            <tr>\n",
              "                        <th id=\"T_f8f1567e_8483_11eb_bad3_0242ac1c0002level0_row32\" class=\"row_heading level0 row32\" >v_calendar_updated_Yesterday</th>\n",
              "                        <td id=\"T_f8f1567e_8483_11eb_bad3_0242ac1c0002row32_col0\" class=\"data row32 col0\" >0.011981</td>\n",
              "            </tr>\n",
              "            <tr>\n",
              "                        <th id=\"T_f8f1567e_8483_11eb_bad3_0242ac1c0002level0_row33\" class=\"row_heading level0 row33\" >v_number_of_reviews</th>\n",
              "                        <td id=\"T_f8f1567e_8483_11eb_bad3_0242ac1c0002row33_col0\" class=\"data row33 col0\" >0.011252</td>\n",
              "            </tr>\n",
              "            <tr>\n",
              "                        <th id=\"T_f8f1567e_8483_11eb_bad3_0242ac1c0002level0_row34\" class=\"row_heading level0 row34\" >v_property_type_other</th>\n",
              "                        <td id=\"T_f8f1567e_8483_11eb_bad3_0242ac1c0002row34_col0\" class=\"data row34 col0\" >0.008792</td>\n",
              "            </tr>\n",
              "            <tr>\n",
              "                        <th id=\"T_f8f1567e_8483_11eb_bad3_0242ac1c0002level0_row35\" class=\"row_heading level0 row35\" >v_cancellation_policy_moderate</th>\n",
              "                        <td id=\"T_f8f1567e_8483_11eb_bad3_0242ac1c0002row35_col0\" class=\"data row35 col0\" >0.007533</td>\n",
              "            </tr>\n",
              "            <tr>\n",
              "                        <th id=\"T_f8f1567e_8483_11eb_bad3_0242ac1c0002level0_row36\" class=\"row_heading level0 row36\" >v_calendar_updated_Never</th>\n",
              "                        <td id=\"T_f8f1567e_8483_11eb_bad3_0242ac1c0002row36_col0\" class=\"data row36 col0\" >0.006363</td>\n",
              "            </tr>\n",
              "            <tr>\n",
              "                        <th id=\"T_f8f1567e_8483_11eb_bad3_0242ac1c0002level0_row37\" class=\"row_heading level0 row37\" >v_calendar_updated_This_year</th>\n",
              "                        <td id=\"T_f8f1567e_8483_11eb_bad3_0242ac1c0002row37_col0\" class=\"data row37 col0\" >0.005313</td>\n",
              "            </tr>\n",
              "            <tr>\n",
              "                        <th id=\"T_f8f1567e_8483_11eb_bad3_0242ac1c0002level0_row38\" class=\"row_heading level0 row38\" >d_host_since_month</th>\n",
              "                        <td id=\"T_f8f1567e_8483_11eb_bad3_0242ac1c0002row38_col0\" class=\"data row38 col0\" >0.000566</td>\n",
              "            </tr>\n",
              "    </tbody></table>"
            ],
            "text/plain": [
              "<pandas.io.formats.style.Styler at 0x7fdda40adc90>"
            ]
          },
          "metadata": {
            "tags": []
          },
          "execution_count": 0
        }
      ]
    },
    {
      "cell_type": "markdown",
      "metadata": {
        "id": "sDxSJvjHDSVA"
      },
      "source": [
        "Se eliminan las variables con correlacion menor a 10%"
      ]
    },
    {
      "cell_type": "code",
      "metadata": {
        "colab": {
          "background_save": true
        },
        "id": "7-gT_sK-BogG"
      },
      "source": [
        "corr=corr[[\"c_price\"]].sort_values(by = 'c_price',ascending = False)\n",
        "cols_drop_low_corr=list(corr[corr[\"c_price\"]<.1].index)\n",
        "df_new=df_new.drop(columns=cols_drop_low_corr)"
      ],
      "execution_count": null,
      "outputs": []
    },
    {
      "cell_type": "markdown",
      "metadata": {
        "id": "LAJXBVhoDlsL"
      },
      "source": [
        "### Multicolinealidad"
      ]
    },
    {
      "cell_type": "code",
      "metadata": {
        "colab": {
          "background_save": true
        },
        "id": "AGXKjKwAE7L4"
      },
      "source": [
        "texto=['t_name',\t't_summary',\t't_description',\t'd_host_since','v_neighbourhood_cleansed',\t't_neighbourhood_group_cleansed']\n",
        "df_final=df_new.drop(texto,axis=1)"
      ],
      "execution_count": null,
      "outputs": []
    },
    {
      "cell_type": "code",
      "metadata": {
        "colab": {
          "background_save": true
        },
        "id": "qP4RoJThDfOL"
      },
      "source": [
        "def calc_vif(X):\n",
        "    vif = pd.DataFrame()\n",
        "    vif[\"variables\"] = X.columns\n",
        "    vif[\"VIF\"] = [variance_inflation_factor(X.values, i) for i in range(X.shape[1])]\n",
        "    return(vif)"
      ],
      "execution_count": null,
      "outputs": []
    },
    {
      "cell_type": "code",
      "metadata": {
        "colab": {
          "background_save": true
        },
        "id": "jTz265-FDnfJ"
      },
      "source": [
        "for col in df_final.columns:\n",
        "    df_final[col]=df_final[col].astype(float)\n",
        "    \n",
        "X=df_final[[x for x in df_final if x!=\"c_price\"]]"
      ],
      "execution_count": null,
      "outputs": []
    },
    {
      "cell_type": "code",
      "metadata": {
        "colab": {
          "background_save": true
        },
        "id": "pmXm9nSODnSE"
      },
      "source": [
        "df_aux2=calc_vif(X)"
      ],
      "execution_count": null,
      "outputs": []
    },
    {
      "cell_type": "code",
      "metadata": {
        "colab": {
          "background_save": true
        },
        "id": "yfQstWKJFgyE",
        "outputId": "1153c4ed-963a-4cb7-de33-cd0a5a956e60"
      },
      "source": [
        "df_aux2[df_aux2[\"VIF\"]>5]"
      ],
      "execution_count": null,
      "outputs": [
        {
          "output_type": "execute_result",
          "data": {
            "text/html": [
              "<div>\n",
              "<style scoped>\n",
              "    .dataframe tbody tr th:only-of-type {\n",
              "        vertical-align: middle;\n",
              "    }\n",
              "\n",
              "    .dataframe tbody tr th {\n",
              "        vertical-align: top;\n",
              "    }\n",
              "\n",
              "    .dataframe thead th {\n",
              "        text-align: right;\n",
              "    }\n",
              "</style>\n",
              "<table border=\"1\" class=\"dataframe\">\n",
              "  <thead>\n",
              "    <tr style=\"text-align: right;\">\n",
              "      <th></th>\n",
              "      <th>variables</th>\n",
              "      <th>VIF</th>\n",
              "    </tr>\n",
              "  </thead>\n",
              "  <tbody>\n",
              "    <tr>\n",
              "      <th>1</th>\n",
              "      <td>v_zipcode</td>\n",
              "      <td>4.885911e+02</td>\n",
              "    </tr>\n",
              "    <tr>\n",
              "      <th>2</th>\n",
              "      <td>c_latitude</td>\n",
              "      <td>7.398642e+05</td>\n",
              "    </tr>\n",
              "    <tr>\n",
              "      <th>3</th>\n",
              "      <td>c_longitude</td>\n",
              "      <td>1.010013e+06</td>\n",
              "    </tr>\n",
              "    <tr>\n",
              "      <th>4</th>\n",
              "      <td>v_accommodates</td>\n",
              "      <td>1.225779e+01</td>\n",
              "    </tr>\n",
              "    <tr>\n",
              "      <th>5</th>\n",
              "      <td>v_bedrooms</td>\n",
              "      <td>6.978483e+00</td>\n",
              "    </tr>\n",
              "    <tr>\n",
              "      <th>6</th>\n",
              "      <td>v_beds</td>\n",
              "      <td>7.689223e+00</td>\n",
              "    </tr>\n",
              "    <tr>\n",
              "      <th>9</th>\n",
              "      <td>c_amenities</td>\n",
              "      <td>6.361739e+00</td>\n",
              "    </tr>\n",
              "    <tr>\n",
              "      <th>10</th>\n",
              "      <td>d_host_since_year</td>\n",
              "      <td>6.831747e+05</td>\n",
              "    </tr>\n",
              "  </tbody>\n",
              "</table>\n",
              "</div>"
            ],
            "text/plain": [
              "            variables           VIF\n",
              "1           v_zipcode  4.885911e+02\n",
              "2          c_latitude  7.398642e+05\n",
              "3         c_longitude  1.010013e+06\n",
              "4      v_accommodates  1.225779e+01\n",
              "5          v_bedrooms  6.978483e+00\n",
              "6              v_beds  7.689223e+00\n",
              "9         c_amenities  6.361739e+00\n",
              "10  d_host_since_year  6.831747e+05"
            ]
          },
          "metadata": {
            "tags": []
          },
          "execution_count": 0
        }
      ]
    },
    {
      "cell_type": "markdown",
      "metadata": {
        "id": "6dPrXpkoF8Yk"
      },
      "source": [
        "Nota: No se retiran las variables con VIF mayor a 5, pero se considera que un coeficiente de regresión para estas variables no se estima adecuadamente."
      ]
    },
    {
      "cell_type": "markdown",
      "metadata": {
        "id": "J1FrJLxyGnSP"
      },
      "source": [
        "### Análisis de Componentes principales"
      ]
    },
    {
      "cell_type": "markdown",
      "metadata": {
        "id": "AFVAPY8SG4d2"
      },
      "source": [
        "Separamos el conjunto de datos en una tabla de entrenamiento y de prueba"
      ]
    },
    {
      "cell_type": "code",
      "metadata": {
        "colab": {
          "background_save": true
        },
        "id": "vFWxY2mVGmxc"
      },
      "source": [
        "X_train,X_test=train_test_split(df_final,test_size=.2,random_state=413)\n",
        "df_train=X_train[[x for x in X_train if x!=\"c_price\"]]\n",
        "df_test=X_train[[x for x in X_train if x!=\"c_price\"]]\n",
        "y_train=X_train[[\"c_price\"]]\n",
        "y_test=X_test[[\"c_price\"]]"
      ],
      "execution_count": null,
      "outputs": []
    },
    {
      "cell_type": "markdown",
      "metadata": {
        "id": "Y1nscfKbHFcs"
      },
      "source": [
        "Realizamos un escalamiento de los datos, debido a que el análsis de componentes principales es sensible a las influencias de la distribución de los datos"
      ]
    },
    {
      "cell_type": "code",
      "metadata": {
        "colab": {
          "background_save": true
        },
        "id": "WSXSr2LBFjVf"
      },
      "source": [
        "scaler = StandardScaler()\n",
        "scaler.fit(df_train)\n",
        "df_train_sc=pd.DataFrame(scaler.transform(df_train))\n",
        "df_test_sc=pd.DataFrame(scaler.transform(df_train))"
      ],
      "execution_count": null,
      "outputs": []
    },
    {
      "cell_type": "markdown",
      "metadata": {
        "id": "AqZrX5iaH4Fz"
      },
      "source": [
        "Realizamos una prueba con 8 componentes para conocer la varianza descrita por la combinación de las variables"
      ]
    },
    {
      "cell_type": "code",
      "metadata": {
        "colab": {
          "background_save": true
        },
        "id": "hbpLfaM2HPSb",
        "outputId": "4f8c21ad-2577-494a-c5e6-9056b53f012f"
      },
      "source": [
        "pca = PCA(n_components=8)\n",
        "pca.fit(df_train_sc)"
      ],
      "execution_count": null,
      "outputs": [
        {
          "output_type": "execute_result",
          "data": {
            "text/plain": [
              "PCA(copy=True, iterated_power='auto', n_components=8, random_state=None,\n",
              "    svd_solver='auto', tol=0.0, whiten=False)"
            ]
          },
          "metadata": {
            "tags": []
          },
          "execution_count": 0
        }
      ]
    },
    {
      "cell_type": "code",
      "metadata": {
        "colab": {
          "background_save": true
        },
        "id": "-ULNb7ctHU0z"
      },
      "source": [
        "X_train_pca=pd.DataFrame(pca.transform(df_train_sc))\n",
        "X_test_pca=pd.DataFrame(pca.transform(df_test_sc))"
      ],
      "execution_count": null,
      "outputs": []
    },
    {
      "cell_type": "markdown",
      "metadata": {
        "id": "OU3epUQKITU9"
      },
      "source": [
        "Obtenemos los porcentajes de varianza descrita por los componentes"
      ]
    },
    {
      "cell_type": "code",
      "metadata": {
        "colab": {
          "background_save": true
        },
        "id": "HZ-PNC9HHd4p",
        "outputId": "0bd7a310-1157-4143-f470-76c804027a45"
      },
      "source": [
        "pca.explained_variance_ratio_"
      ],
      "execution_count": null,
      "outputs": [
        {
          "output_type": "execute_result",
          "data": {
            "text/plain": [
              "array([0.22830389, 0.14788269, 0.13879055, 0.09451446, 0.08317621,\n",
              "       0.07251092, 0.06521942, 0.05385333])"
            ]
          },
          "metadata": {
            "tags": []
          },
          "execution_count": 0
        }
      ]
    },
    {
      "cell_type": "markdown",
      "metadata": {
        "id": "EtQ2FLXzHvxC"
      },
      "source": [
        "Con 7 componentes podemos representar un 83% de la información de nuestros datos"
      ]
    },
    {
      "cell_type": "code",
      "metadata": {
        "colab": {
          "background_save": true
        },
        "id": "S6jJDwJBHgx-",
        "outputId": "ba759e59-7389-45c7-dfbe-fba4a8ef7c89"
      },
      "source": [
        "varianza=list(pca.explained_variance_ratio_)\n",
        "varianza=list(map(lambda x:sum(varianza[:x]),range(1,len(varianza)+1)))\n",
        "cp=pd.DataFrame()\n",
        "cp[\"n_componente\"]=range(1,9)\n",
        "cp[\"varianza\"]=varianza\n",
        "fig = go.Figure(data=go.Scatter(x=cp[\"n_componente\"], y=cp[\"varianza\"]))\n",
        "fig.show()"
      ],
      "execution_count": null,
      "outputs": [
        {
          "output_type": "display_data",
          "data": {
            "text/html": [
              "<html>\n",
              "<head><meta charset=\"utf-8\" /></head>\n",
              "<body>\n",
              "    <div>\n",
              "            <script src=\"https://cdnjs.cloudflare.com/ajax/libs/mathjax/2.7.5/MathJax.js?config=TeX-AMS-MML_SVG\"></script><script type=\"text/javascript\">if (window.MathJax) {MathJax.Hub.Config({SVG: {font: \"STIX-Web\"}});}</script>\n",
              "                <script type=\"text/javascript\">window.PlotlyConfig = {MathJaxConfig: 'local'};</script>\n",
              "        <script src=\"https://cdn.plot.ly/plotly-latest.min.js\"></script>    \n",
              "            <div id=\"9904c635-da47-47dc-a8ac-962646a54ecb\" class=\"plotly-graph-div\" style=\"height:525px; width:100%;\"></div>\n",
              "            <script type=\"text/javascript\">\n",
              "                \n",
              "                    window.PLOTLYENV=window.PLOTLYENV || {};\n",
              "                    \n",
              "                if (document.getElementById(\"9904c635-da47-47dc-a8ac-962646a54ecb\")) {\n",
              "                    Plotly.newPlot(\n",
              "                        '9904c635-da47-47dc-a8ac-962646a54ecb',\n",
              "                        [{\"type\": \"scatter\", \"x\": [1, 2, 3, 4, 5, 6, 7, 8], \"y\": [0.2283038858471636, 0.37618657936609956, 0.5149771330949153, 0.6094915966020812, 0.6926678068811359, 0.7651787257234848, 0.8303981419152499, 0.8842514693494709]}],\n",
              "                        {\"template\": {\"data\": {\"bar\": [{\"error_x\": {\"color\": \"#2a3f5f\"}, \"error_y\": {\"color\": \"#2a3f5f\"}, \"marker\": {\"line\": {\"color\": \"#E5ECF6\", \"width\": 0.5}}, \"type\": \"bar\"}], \"barpolar\": [{\"marker\": {\"line\": {\"color\": \"#E5ECF6\", \"width\": 0.5}}, \"type\": \"barpolar\"}], \"carpet\": [{\"aaxis\": {\"endlinecolor\": \"#2a3f5f\", \"gridcolor\": \"white\", \"linecolor\": \"white\", \"minorgridcolor\": \"white\", \"startlinecolor\": \"#2a3f5f\"}, \"baxis\": {\"endlinecolor\": \"#2a3f5f\", \"gridcolor\": \"white\", \"linecolor\": \"white\", \"minorgridcolor\": \"white\", \"startlinecolor\": \"#2a3f5f\"}, \"type\": \"carpet\"}], \"choropleth\": [{\"colorbar\": {\"outlinewidth\": 0, \"ticks\": \"\"}, \"type\": \"choropleth\"}], \"contour\": [{\"colorbar\": {\"outlinewidth\": 0, \"ticks\": \"\"}, \"colorscale\": [[0.0, \"#0d0887\"], [0.1111111111111111, \"#46039f\"], [0.2222222222222222, \"#7201a8\"], [0.3333333333333333, \"#9c179e\"], [0.4444444444444444, \"#bd3786\"], [0.5555555555555556, \"#d8576b\"], [0.6666666666666666, \"#ed7953\"], [0.7777777777777778, \"#fb9f3a\"], [0.8888888888888888, \"#fdca26\"], [1.0, \"#f0f921\"]], \"type\": \"contour\"}], \"contourcarpet\": [{\"colorbar\": {\"outlinewidth\": 0, \"ticks\": \"\"}, \"type\": \"contourcarpet\"}], \"heatmap\": [{\"colorbar\": {\"outlinewidth\": 0, \"ticks\": \"\"}, \"colorscale\": [[0.0, \"#0d0887\"], [0.1111111111111111, \"#46039f\"], [0.2222222222222222, \"#7201a8\"], [0.3333333333333333, \"#9c179e\"], [0.4444444444444444, \"#bd3786\"], [0.5555555555555556, \"#d8576b\"], [0.6666666666666666, \"#ed7953\"], [0.7777777777777778, \"#fb9f3a\"], [0.8888888888888888, \"#fdca26\"], [1.0, \"#f0f921\"]], \"type\": \"heatmap\"}], \"heatmapgl\": [{\"colorbar\": {\"outlinewidth\": 0, \"ticks\": \"\"}, \"colorscale\": [[0.0, \"#0d0887\"], [0.1111111111111111, \"#46039f\"], [0.2222222222222222, \"#7201a8\"], [0.3333333333333333, \"#9c179e\"], [0.4444444444444444, \"#bd3786\"], [0.5555555555555556, \"#d8576b\"], [0.6666666666666666, \"#ed7953\"], [0.7777777777777778, \"#fb9f3a\"], [0.8888888888888888, \"#fdca26\"], [1.0, \"#f0f921\"]], \"type\": \"heatmapgl\"}], \"histogram\": [{\"marker\": {\"colorbar\": {\"outlinewidth\": 0, \"ticks\": \"\"}}, \"type\": \"histogram\"}], \"histogram2d\": [{\"colorbar\": {\"outlinewidth\": 0, \"ticks\": \"\"}, \"colorscale\": [[0.0, \"#0d0887\"], [0.1111111111111111, \"#46039f\"], [0.2222222222222222, \"#7201a8\"], [0.3333333333333333, \"#9c179e\"], [0.4444444444444444, \"#bd3786\"], [0.5555555555555556, \"#d8576b\"], [0.6666666666666666, \"#ed7953\"], [0.7777777777777778, \"#fb9f3a\"], [0.8888888888888888, \"#fdca26\"], [1.0, \"#f0f921\"]], \"type\": \"histogram2d\"}], \"histogram2dcontour\": [{\"colorbar\": {\"outlinewidth\": 0, \"ticks\": \"\"}, \"colorscale\": [[0.0, \"#0d0887\"], [0.1111111111111111, \"#46039f\"], [0.2222222222222222, \"#7201a8\"], [0.3333333333333333, \"#9c179e\"], [0.4444444444444444, \"#bd3786\"], [0.5555555555555556, \"#d8576b\"], [0.6666666666666666, \"#ed7953\"], [0.7777777777777778, \"#fb9f3a\"], [0.8888888888888888, \"#fdca26\"], [1.0, \"#f0f921\"]], \"type\": \"histogram2dcontour\"}], \"mesh3d\": [{\"colorbar\": {\"outlinewidth\": 0, \"ticks\": \"\"}, \"type\": \"mesh3d\"}], \"parcoords\": [{\"line\": {\"colorbar\": {\"outlinewidth\": 0, \"ticks\": \"\"}}, \"type\": \"parcoords\"}], \"pie\": [{\"automargin\": true, \"type\": \"pie\"}], \"scatter\": [{\"marker\": {\"colorbar\": {\"outlinewidth\": 0, \"ticks\": \"\"}}, \"type\": \"scatter\"}], \"scatter3d\": [{\"line\": {\"colorbar\": {\"outlinewidth\": 0, \"ticks\": \"\"}}, \"marker\": {\"colorbar\": {\"outlinewidth\": 0, \"ticks\": \"\"}}, \"type\": \"scatter3d\"}], \"scattercarpet\": [{\"marker\": {\"colorbar\": {\"outlinewidth\": 0, \"ticks\": \"\"}}, \"type\": \"scattercarpet\"}], \"scattergeo\": [{\"marker\": {\"colorbar\": {\"outlinewidth\": 0, \"ticks\": \"\"}}, \"type\": \"scattergeo\"}], \"scattergl\": [{\"marker\": {\"colorbar\": {\"outlinewidth\": 0, \"ticks\": \"\"}}, \"type\": \"scattergl\"}], \"scattermapbox\": [{\"marker\": {\"colorbar\": {\"outlinewidth\": 0, \"ticks\": \"\"}}, \"type\": \"scattermapbox\"}], \"scatterpolar\": [{\"marker\": {\"colorbar\": {\"outlinewidth\": 0, \"ticks\": \"\"}}, \"type\": \"scatterpolar\"}], \"scatterpolargl\": [{\"marker\": {\"colorbar\": {\"outlinewidth\": 0, \"ticks\": \"\"}}, \"type\": \"scatterpolargl\"}], \"scatterternary\": [{\"marker\": {\"colorbar\": {\"outlinewidth\": 0, \"ticks\": \"\"}}, \"type\": \"scatterternary\"}], \"surface\": [{\"colorbar\": {\"outlinewidth\": 0, \"ticks\": \"\"}, \"colorscale\": [[0.0, \"#0d0887\"], [0.1111111111111111, \"#46039f\"], [0.2222222222222222, \"#7201a8\"], [0.3333333333333333, \"#9c179e\"], [0.4444444444444444, \"#bd3786\"], [0.5555555555555556, \"#d8576b\"], [0.6666666666666666, \"#ed7953\"], [0.7777777777777778, \"#fb9f3a\"], [0.8888888888888888, \"#fdca26\"], [1.0, \"#f0f921\"]], \"type\": \"surface\"}], \"table\": [{\"cells\": {\"fill\": {\"color\": \"#EBF0F8\"}, \"line\": {\"color\": \"white\"}}, \"header\": {\"fill\": {\"color\": \"#C8D4E3\"}, \"line\": {\"color\": \"white\"}}, \"type\": \"table\"}]}, \"layout\": {\"annotationdefaults\": {\"arrowcolor\": \"#2a3f5f\", \"arrowhead\": 0, \"arrowwidth\": 1}, \"coloraxis\": {\"colorbar\": {\"outlinewidth\": 0, \"ticks\": \"\"}}, \"colorscale\": {\"diverging\": [[0, \"#8e0152\"], [0.1, \"#c51b7d\"], [0.2, \"#de77ae\"], [0.3, \"#f1b6da\"], [0.4, \"#fde0ef\"], [0.5, \"#f7f7f7\"], [0.6, \"#e6f5d0\"], [0.7, \"#b8e186\"], [0.8, \"#7fbc41\"], [0.9, \"#4d9221\"], [1, \"#276419\"]], \"sequential\": [[0.0, \"#0d0887\"], [0.1111111111111111, \"#46039f\"], [0.2222222222222222, \"#7201a8\"], [0.3333333333333333, \"#9c179e\"], [0.4444444444444444, \"#bd3786\"], [0.5555555555555556, \"#d8576b\"], [0.6666666666666666, \"#ed7953\"], [0.7777777777777778, \"#fb9f3a\"], [0.8888888888888888, \"#fdca26\"], [1.0, \"#f0f921\"]], \"sequentialminus\": [[0.0, \"#0d0887\"], [0.1111111111111111, \"#46039f\"], [0.2222222222222222, \"#7201a8\"], [0.3333333333333333, \"#9c179e\"], [0.4444444444444444, \"#bd3786\"], [0.5555555555555556, \"#d8576b\"], [0.6666666666666666, \"#ed7953\"], [0.7777777777777778, \"#fb9f3a\"], [0.8888888888888888, \"#fdca26\"], [1.0, \"#f0f921\"]]}, \"colorway\": [\"#636efa\", \"#EF553B\", \"#00cc96\", \"#ab63fa\", \"#FFA15A\", \"#19d3f3\", \"#FF6692\", \"#B6E880\", \"#FF97FF\", \"#FECB52\"], \"font\": {\"color\": \"#2a3f5f\"}, \"geo\": {\"bgcolor\": \"white\", \"lakecolor\": \"white\", \"landcolor\": \"#E5ECF6\", \"showlakes\": true, \"showland\": true, \"subunitcolor\": \"white\"}, \"hoverlabel\": {\"align\": \"left\"}, \"hovermode\": \"closest\", \"mapbox\": {\"style\": \"light\"}, \"paper_bgcolor\": \"white\", \"plot_bgcolor\": \"#E5ECF6\", \"polar\": {\"angularaxis\": {\"gridcolor\": \"white\", \"linecolor\": \"white\", \"ticks\": \"\"}, \"bgcolor\": \"#E5ECF6\", \"radialaxis\": {\"gridcolor\": \"white\", \"linecolor\": \"white\", \"ticks\": \"\"}}, \"scene\": {\"xaxis\": {\"backgroundcolor\": \"#E5ECF6\", \"gridcolor\": \"white\", \"gridwidth\": 2, \"linecolor\": \"white\", \"showbackground\": true, \"ticks\": \"\", \"zerolinecolor\": \"white\"}, \"yaxis\": {\"backgroundcolor\": \"#E5ECF6\", \"gridcolor\": \"white\", \"gridwidth\": 2, \"linecolor\": \"white\", \"showbackground\": true, \"ticks\": \"\", \"zerolinecolor\": \"white\"}, \"zaxis\": {\"backgroundcolor\": \"#E5ECF6\", \"gridcolor\": \"white\", \"gridwidth\": 2, \"linecolor\": \"white\", \"showbackground\": true, \"ticks\": \"\", \"zerolinecolor\": \"white\"}}, \"shapedefaults\": {\"line\": {\"color\": \"#2a3f5f\"}}, \"ternary\": {\"aaxis\": {\"gridcolor\": \"white\", \"linecolor\": \"white\", \"ticks\": \"\"}, \"baxis\": {\"gridcolor\": \"white\", \"linecolor\": \"white\", \"ticks\": \"\"}, \"bgcolor\": \"#E5ECF6\", \"caxis\": {\"gridcolor\": \"white\", \"linecolor\": \"white\", \"ticks\": \"\"}}, \"title\": {\"x\": 0.05}, \"xaxis\": {\"automargin\": true, \"gridcolor\": \"white\", \"linecolor\": \"white\", \"ticks\": \"\", \"title\": {\"standoff\": 15}, \"zerolinecolor\": \"white\", \"zerolinewidth\": 2}, \"yaxis\": {\"automargin\": true, \"gridcolor\": \"white\", \"linecolor\": \"white\", \"ticks\": \"\", \"title\": {\"standoff\": 15}, \"zerolinecolor\": \"white\", \"zerolinewidth\": 2}}}},\n",
              "                        {\"responsive\": true}\n",
              "                    ).then(function(){\n",
              "                            \n",
              "var gd = document.getElementById('9904c635-da47-47dc-a8ac-962646a54ecb');\n",
              "var x = new MutationObserver(function (mutations, observer) {{\n",
              "        var display = window.getComputedStyle(gd).display;\n",
              "        if (!display || display === 'none') {{\n",
              "            console.log([gd, 'removed!']);\n",
              "            Plotly.purge(gd);\n",
              "            observer.disconnect();\n",
              "        }}\n",
              "}});\n",
              "\n",
              "// Listen for the removal of the full notebook cells\n",
              "var notebookContainer = gd.closest('#notebook-container');\n",
              "if (notebookContainer) {{\n",
              "    x.observe(notebookContainer, {childList: true});\n",
              "}}\n",
              "\n",
              "// Listen for the clearing of the current output cell\n",
              "var outputEl = gd.closest('.output');\n",
              "if (outputEl) {{\n",
              "    x.observe(outputEl, {childList: true});\n",
              "}}\n",
              "\n",
              "                        })\n",
              "                };\n",
              "                \n",
              "            </script>\n",
              "        </div>\n",
              "</body>\n",
              "</html>"
            ]
          },
          "metadata": {
            "tags": []
          }
        }
      ]
    },
    {
      "cell_type": "markdown",
      "metadata": {
        "id": "PNwwQF2uJLDc"
      },
      "source": [
        "# ¡Muchas gracias por su atención!"
      ]
    }
  ]
}